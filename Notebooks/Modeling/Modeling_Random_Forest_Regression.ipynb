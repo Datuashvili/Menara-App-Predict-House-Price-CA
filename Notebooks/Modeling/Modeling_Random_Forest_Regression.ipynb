{
 "cells": [
  {
   "cell_type": "markdown",
   "metadata": {},
   "source": [
    "# Modeling: \n",
    "\n",
    "## Random Forests Regression\n",
    "\n",
    "![Modeling](https://user-images.githubusercontent.com/67468718/111879997-1bbd6a80-8966-11eb-92c1-01c38cbdbe4a.JPG)\n",
    "\n"
   ]
  },
  {
   "cell_type": "markdown",
   "metadata": {},
   "source": [
    "## Contents<a id='Contents'></a>\n",
    " * [1. Introduction](#1_Introduction)\n",
    " * [2. Sourcing and Loading](#2_Sourcing_and_Loading)\n",
    "    * [2.1 Import relevant libraries](#2.1_Import_relevant_libraries)\n",
    "    * [2.2 Load the data](#2.2_Load_the_data)\n",
    " * [3. View and Visualize our dependent variable 'price'](#3._View_and_Visualize_our_dependent_variable_price)\n",
    "    * [3.1 View the data](#3.1_View_the_data)\n",
    "    * [3.2 Final Visualization of our dependent Variable 'price'](#3.2_Final_Visualization_of_our_dependent_variable_price)\n",
    " * [4. Features Selection: Define/Select Features](#4_Features_Selection:_Define_Select_Features)\n",
    " * [5. Train/Test Split](#5_Train/Test_Split)\n",
    " * [6. Scaling and Transformation: Standardization](#6_Scaling_and_Transformation:_Standardization)\n",
    " * [7. Modeling: Random Forests Regression](#7_Random_Forests_Regression)\n",
    "    * [7.1 Fitting Random Forests Regression](#7.1_Fitting_Random_Forests_Regression)\n",
    "    * [7.2 Random Forests Regression: Residuals Visualization](#7.2_Random_Forests_Regression:_Residuals_Visualization)\n",
    "    * [7.3 Random Forests Regression Model Evaluation](#7.3_Random_Forests_Regression_Model_Evaluation)\n",
    "    * [7.4 Features Selection](#7.4_Features_Selection)\n",
    "       * [7.4.1 Features Importance](#7.4.1_Features_Importance)\n",
    "       * [7.4.2 Keeping only 'price_per_sqft' and 'sqft'](#7.4.2_Keeping_only_price_per_sqft_and_sqft)\n",
    "       * [7.4.3 Keeping 'price_per_sqft', 'sqft', 'median_income', 'property_type' and 'school_rating'](#7.4.3_Keeping_price_per_sqft_sqft_median_income_property_type_school_rating)    \n",
    "       * [7.4.4 Features Selection Summary](#7.4.4_Features_Selection_Summary)    \n",
    "    * [7.5 Hyperparameters Tuning: GridSearchCV](#7.5_Hyperparameters_Tuning:_GridSearchCV)\n",
    "       * [7.5.1 GridSearchCV for all features](#7.5.1_GridSearchCV_for_all_features)\n",
    "       * [7.5.2 Fitting Random Forests Regression after GridsearchCV (All features)](#7.5.2_Fitting_Random_Forests_Regression_after_GridsearchCV_(All_features))\n",
    "       * [7.5.3 GridSearchCV for most important features: 'sqft' and 'price_per_sqft'](#7.5.3_GridSearchCV_for_most_important_features:_sqft_and_price_per_sqft)\n",
    "       * [7.5.4 Fitting Random Forests Regression after GridsearchCV (most important features)](#7.5.4_Fitting_Random_Forests_Regression_after_GridsearchCV_(most_important_features))\n",
    " * [8. Random Forests Regression Tuning Summary](#8_Random_Forests_Regression_Tuning_Summary)\n",
    " * [9. Random Forests Regression Actual vs Prediction Visualization](#9_Random_Forests_Regression_Actual_vs_Prediction_Visualization)\n",
    " * [10. Models next step](#10_Models_next_step)"
   ]
  },
  {
   "cell_type": "markdown",
   "metadata": {},
   "source": [
    "## 1. Introduction<a id='1_Introduction'></a>\n",
    "\n",
    "Here comes the really fun step: modeling! For this step, we'll be:\n",
    " * Training multiple Regression algorithms.\n",
    " * Apply hyperparameters tuning where applicable to ensure every algorithm will result in best prediction possible.\n",
    " * Finally, evaluate these Models.\n",
    "\n",
    "**Regression Models:**\n",
    " * Linear Regression (Baseline Model).\n",
    " * Ridge Regression (L2 Regularization)\n",
    " * Lasso Regression (L1 Regularization)\n",
    " * Decision Trees\n",
    " * Random Forests\n",
    " * GB\n",
    " * XGBoost\n",
    " * Support Vector Regression\n",
    " * Stacking\n",
    " * Neural networks.\n",
    " \n",
    " \n",
    " **In This Notebook, We'll be using Random Forests**\n",
    "\n"
   ]
  },
  {
   "cell_type": "markdown",
   "metadata": {},
   "source": [
    "## 2. Sourcing and Loading<a id='2_Sourcing_and_Loading'></a> \n",
    "\n",
    "### 2.1 Import relevant libraries<a id='2.1_Import_relevant_libraries'></a> "
   ]
  },
  {
   "cell_type": "code",
   "execution_count": 3,
   "metadata": {},
   "outputs": [
    {
     "name": "stdout",
     "output_type": "stream",
     "text": [
      "***Libraries are imported***\n"
     ]
    }
   ],
   "source": [
    "import numpy as np\n",
    "import pandas as pd\n",
    "import matplotlib.pyplot as plt\n",
    "import seaborn as sns\n",
    "import plotly.express as px\n",
    "import os \n",
    "\n",
    "plt.style.use('ggplot')\n",
    "\n",
    "print('***Libraries are imported***')"
   ]
  },
  {
   "cell_type": "markdown",
   "metadata": {},
   "source": [
    "### 2.2 Load the data<a id='2.2_Load_the_data'></a>"
   ]
  },
  {
   "cell_type": "code",
   "execution_count": 4,
   "metadata": {},
   "outputs": [
    {
     "data": {
      "text/plain": [
       "'C:\\\\Users\\\\aktha\\\\Desktop\\\\Future\\\\GOALLLLL\\\\capstone_two_House_Prices\\\\Modeling'"
      ]
     },
     "execution_count": 4,
     "metadata": {},
     "output_type": "execute_result"
    }
   ],
   "source": [
    "# Check Current Directory:\n",
    "os.getcwd()"
   ]
  },
  {
   "cell_type": "code",
   "execution_count": 5,
   "metadata": {},
   "outputs": [],
   "source": [
    "# Changing the directory:\n",
    "os.chdir(r\"C:/Users/aktha/Desktop/Future/GOALLLLL/capstone_two_House_Prices/Feature_Engineering/datasets\")"
   ]
  },
  {
   "cell_type": "code",
   "execution_count": 6,
   "metadata": {},
   "outputs": [
    {
     "data": {
      "text/plain": [
       "'C:\\\\Users\\\\aktha\\\\Desktop\\\\Future\\\\GOALLLLL\\\\capstone_two_House_Prices\\\\Feature_Engineering\\\\datasets'"
      ]
     },
     "execution_count": 6,
     "metadata": {},
     "output_type": "execute_result"
    }
   ],
   "source": [
    "#Confirm the directory:\n",
    "os.getcwd()"
   ]
  },
  {
   "cell_type": "code",
   "execution_count": 7,
   "metadata": {},
   "outputs": [
    {
     "data": {
      "text/plain": [
       "['pre_processing_df.csv']"
      ]
     },
     "execution_count": 7,
     "metadata": {},
     "output_type": "execute_result"
    }
   ],
   "source": [
    "# List files/folders in the cd:\n",
    "os.listdir()"
   ]
  },
  {
   "cell_type": "code",
   "execution_count": 8,
   "metadata": {},
   "outputs": [],
   "source": [
    "df = pd.read_csv('pre_processing_df.csv')"
   ]
  },
  {
   "cell_type": "markdown",
   "metadata": {},
   "source": [
    "## 3. View and Visualize our dependent variable 'price'<a id='3._View_and_Visualize_our_dependent_variable_price'></a>\n",
    "\n",
    "### 3.1 View the data<a id='3.1_View_the_data'></a>"
   ]
  },
  {
   "cell_type": "code",
   "execution_count": 9,
   "metadata": {},
   "outputs": [
    {
     "name": "stdout",
     "output_type": "stream",
     "text": [
      "Final DataFrame 'df' has Rows: 7484 and Columns:  23\n"
     ]
    }
   ],
   "source": [
    "#Let's check the df shape:\n",
    "structure = df.shape\n",
    "print(\"Final DataFrame 'df' has Rows:\", structure[0], \"and Columns: \", structure[1])"
   ]
  },
  {
   "cell_type": "code",
   "execution_count": 10,
   "metadata": {},
   "outputs": [
    {
     "data": {
      "text/html": [
       "<div>\n",
       "<style scoped>\n",
       "    .dataframe tbody tr th:only-of-type {\n",
       "        vertical-align: middle;\n",
       "    }\n",
       "\n",
       "    .dataframe tbody tr th {\n",
       "        vertical-align: top;\n",
       "    }\n",
       "\n",
       "    .dataframe thead th {\n",
       "        text-align: right;\n",
       "    }\n",
       "</style>\n",
       "<table border=\"1\" class=\"dataframe\">\n",
       "  <thead>\n",
       "    <tr style=\"text-align: right;\">\n",
       "      <th></th>\n",
       "      <th>property_type</th>\n",
       "      <th>zipcode</th>\n",
       "      <th>price</th>\n",
       "      <th>beds</th>\n",
       "      <th>baths</th>\n",
       "      <th>sqft</th>\n",
       "      <th>lot_size</th>\n",
       "      <th>days_on_market</th>\n",
       "      <th>price_per_sqft</th>\n",
       "      <th>hoa_month</th>\n",
       "      <th>...</th>\n",
       "      <th>median_income</th>\n",
       "      <th>hotness_score</th>\n",
       "      <th>supply_score</th>\n",
       "      <th>demand_score</th>\n",
       "      <th>university_count</th>\n",
       "      <th>barts</th>\n",
       "      <th>malls</th>\n",
       "      <th>universities</th>\n",
       "      <th>bedBath</th>\n",
       "      <th>AvgRoomSize</th>\n",
       "    </tr>\n",
       "  </thead>\n",
       "  <tbody>\n",
       "    <tr>\n",
       "      <th>0</th>\n",
       "      <td>1</td>\n",
       "      <td>94568</td>\n",
       "      <td>905000</td>\n",
       "      <td>3</td>\n",
       "      <td>4</td>\n",
       "      <td>1994</td>\n",
       "      <td>0</td>\n",
       "      <td>80</td>\n",
       "      <td>454</td>\n",
       "      <td>388.0</td>\n",
       "      <td>...</td>\n",
       "      <td>119637</td>\n",
       "      <td>83.72</td>\n",
       "      <td>94.25</td>\n",
       "      <td>73.19</td>\n",
       "      <td>0</td>\n",
       "      <td>1</td>\n",
       "      <td>0</td>\n",
       "      <td>0</td>\n",
       "      <td>12</td>\n",
       "      <td>284.857</td>\n",
       "    </tr>\n",
       "    <tr>\n",
       "      <th>1</th>\n",
       "      <td>2</td>\n",
       "      <td>94566</td>\n",
       "      <td>645000</td>\n",
       "      <td>2</td>\n",
       "      <td>2</td>\n",
       "      <td>1221</td>\n",
       "      <td>1237</td>\n",
       "      <td>143</td>\n",
       "      <td>528</td>\n",
       "      <td>379.0</td>\n",
       "      <td>...</td>\n",
       "      <td>126782</td>\n",
       "      <td>80.07</td>\n",
       "      <td>79.57</td>\n",
       "      <td>80.57</td>\n",
       "      <td>0</td>\n",
       "      <td>0</td>\n",
       "      <td>1</td>\n",
       "      <td>0</td>\n",
       "      <td>4</td>\n",
       "      <td>305.250</td>\n",
       "    </tr>\n",
       "    <tr>\n",
       "      <th>2</th>\n",
       "      <td>1</td>\n",
       "      <td>94588</td>\n",
       "      <td>940000</td>\n",
       "      <td>4</td>\n",
       "      <td>2</td>\n",
       "      <td>1928</td>\n",
       "      <td>2660</td>\n",
       "      <td>148</td>\n",
       "      <td>488</td>\n",
       "      <td>470.0</td>\n",
       "      <td>...</td>\n",
       "      <td>134451</td>\n",
       "      <td>85.91</td>\n",
       "      <td>87.06</td>\n",
       "      <td>84.76</td>\n",
       "      <td>0</td>\n",
       "      <td>1</td>\n",
       "      <td>1</td>\n",
       "      <td>0</td>\n",
       "      <td>8</td>\n",
       "      <td>321.333</td>\n",
       "    </tr>\n",
       "    <tr>\n",
       "      <th>3</th>\n",
       "      <td>0</td>\n",
       "      <td>94588</td>\n",
       "      <td>1036000</td>\n",
       "      <td>3</td>\n",
       "      <td>2</td>\n",
       "      <td>1355</td>\n",
       "      <td>7708</td>\n",
       "      <td>66</td>\n",
       "      <td>765</td>\n",
       "      <td>33.0</td>\n",
       "      <td>...</td>\n",
       "      <td>134451</td>\n",
       "      <td>85.91</td>\n",
       "      <td>87.06</td>\n",
       "      <td>84.76</td>\n",
       "      <td>0</td>\n",
       "      <td>1</td>\n",
       "      <td>1</td>\n",
       "      <td>0</td>\n",
       "      <td>6</td>\n",
       "      <td>271.000</td>\n",
       "    </tr>\n",
       "    <tr>\n",
       "      <th>4</th>\n",
       "      <td>0</td>\n",
       "      <td>94568</td>\n",
       "      <td>1250000</td>\n",
       "      <td>4</td>\n",
       "      <td>4</td>\n",
       "      <td>3083</td>\n",
       "      <td>3058</td>\n",
       "      <td>143</td>\n",
       "      <td>405</td>\n",
       "      <td>232.0</td>\n",
       "      <td>...</td>\n",
       "      <td>119637</td>\n",
       "      <td>83.72</td>\n",
       "      <td>94.25</td>\n",
       "      <td>73.19</td>\n",
       "      <td>0</td>\n",
       "      <td>1</td>\n",
       "      <td>0</td>\n",
       "      <td>0</td>\n",
       "      <td>16</td>\n",
       "      <td>385.375</td>\n",
       "    </tr>\n",
       "  </tbody>\n",
       "</table>\n",
       "<p>5 rows × 23 columns</p>\n",
       "</div>"
      ],
      "text/plain": [
       "   property_type  zipcode    price  beds  baths  sqft  lot_size  \\\n",
       "0              1    94568   905000     3      4  1994         0   \n",
       "1              2    94566   645000     2      2  1221      1237   \n",
       "2              1    94588   940000     4      2  1928      2660   \n",
       "3              0    94588  1036000     3      2  1355      7708   \n",
       "4              0    94568  1250000     4      4  3083      3058   \n",
       "\n",
       "   days_on_market  price_per_sqft  hoa_month  ...  median_income  \\\n",
       "0              80             454      388.0  ...         119637   \n",
       "1             143             528      379.0  ...         126782   \n",
       "2             148             488      470.0  ...         134451   \n",
       "3              66             765       33.0  ...         134451   \n",
       "4             143             405      232.0  ...         119637   \n",
       "\n",
       "   hotness_score  supply_score  demand_score  university_count  barts  malls  \\\n",
       "0          83.72         94.25         73.19                 0      1      0   \n",
       "1          80.07         79.57         80.57                 0      0      1   \n",
       "2          85.91         87.06         84.76                 0      1      1   \n",
       "3          85.91         87.06         84.76                 0      1      1   \n",
       "4          83.72         94.25         73.19                 0      1      0   \n",
       "\n",
       "   universities  bedBath  AvgRoomSize  \n",
       "0             0       12      284.857  \n",
       "1             0        4      305.250  \n",
       "2             0        8      321.333  \n",
       "3             0        6      271.000  \n",
       "4             0       16      385.375  \n",
       "\n",
       "[5 rows x 23 columns]"
      ]
     },
     "execution_count": 10,
     "metadata": {},
     "output_type": "execute_result"
    }
   ],
   "source": [
    "#Let's check the df shape:\n",
    "df.head()"
   ]
  },
  {
   "cell_type": "code",
   "execution_count": 11,
   "metadata": {},
   "outputs": [
    {
     "data": {
      "text/plain": [
       "count       7484.00\n",
       "mean      887769.19\n",
       "std       387091.45\n",
       "min       165000.00\n",
       "25%       590000.00\n",
       "50%       808000.00\n",
       "75%      1150000.00\n",
       "max      1955000.00\n",
       "Name: price, dtype: float64"
      ]
     },
     "execution_count": 11,
     "metadata": {},
     "output_type": "execute_result"
    }
   ],
   "source": [
    "# Summary Statistics:\n",
    "df.describe()['price'].round(2)"
   ]
  },
  {
   "cell_type": "markdown",
   "metadata": {},
   "source": [
    "### 3.2 Final Visualization of our dependent Variable 'price'<a id='3.2_Final_Visualization_of_our_dependent_variable_price'></a>"
   ]
  },
  {
   "cell_type": "code",
   "execution_count": 12,
   "metadata": {},
   "outputs": [
    {
     "name": "stderr",
     "output_type": "stream",
     "text": [
      "C:\\Users\\aktha\\anaconda3\\lib\\site-packages\\ipykernel_launcher.py:8: UserWarning: FixedFormatter should only be used together with FixedLocator\n",
      "  \n"
     ]
    },
    {
     "data": {
      "image/png": "[encoded data removed]",
      "text/plain": [
       "<Figure size 1728x432 with 1 Axes>"
      ]
     },
     "metadata": {},
     "output_type": "display_data"
    }
   ],
   "source": [
    "# Making a histogram of the price variable and adding average house sale:\n",
    "f, ax = plt.subplots(figsize = (24,6))\n",
    "ax = sns.histplot(x=df['price'], kde=True)\n",
    "ax.axvline(df['price'].mean(), color='red', ls='-', alpha=0.35, lw=10)\n",
    "plt.annotate('Avg House Price = $887,769', xy=(900000, 420), xytext=(950000, 450), arrowprops={'color':'red'}, fontsize=15)\n",
    "ax.set_title('House Prices in North California', fontsize=15)\n",
    "xlabels = ['{:,.0f}'.format(x) + 'K' for x in ax.get_xticks()/1000]\n",
    "ax.set_xticklabels(xlabels)\n",
    "plt.grid(True)"
   ]
  },
  {
   "cell_type": "markdown",
   "metadata": {},
   "source": [
    "## 4. Features Selection: Define/Select Features<a id='4_Features_Selection:_Define/Select_Features'></a>\n"
   ]
  },
  {
   "cell_type": "code",
   "execution_count": 13,
   "metadata": {},
   "outputs": [
    {
     "data": {
      "text/plain": [
       "Index(['property_type', 'zipcode', 'price', 'beds', 'baths', 'sqft',\n",
       "       'lot_size', 'days_on_market', 'price_per_sqft', 'hoa_month',\n",
       "       'property_age', 'school_rating', 'school_count', 'median_income',\n",
       "       'hotness_score', 'supply_score', 'demand_score', 'university_count',\n",
       "       'barts', 'malls', 'universities', 'bedBath', 'AvgRoomSize'],\n",
       "      dtype='object')"
      ]
     },
     "execution_count": 13,
     "metadata": {},
     "output_type": "execute_result"
    }
   ],
   "source": [
    "# let's check our final df columns:\n",
    "df.columns"
   ]
  },
  {
   "cell_type": "code",
   "execution_count": 14,
   "metadata": {},
   "outputs": [],
   "source": [
    "# Let's define/select our features:\n",
    "features = ['property_type', 'zipcode', 'beds', 'baths', 'sqft', 'lot_size', \n",
    "            'days_on_market', 'price_per_sqft', 'hoa_month', 'property_age', \n",
    "            'school_rating', 'school_count', 'median_income', 'hotness_score', \n",
    "            'supply_score', 'demand_score', 'university_count', 'barts', \n",
    "            'malls', 'universities', 'bedBath', 'AvgRoomSize']\n",
    "\n",
    "# And, Now let's define X and y:\n",
    "X = df[features]\n",
    "y = df.price"
   ]
  },
  {
   "cell_type": "markdown",
   "metadata": {},
   "source": [
    "## 5. Train/Test Split<a id='5_Train/Test_Split'></a>\n",
    "\n",
    "Now, let's split our data (X) into training and testing splits, without letting a model learn anything about the test split.\n",
    "\n",
    "let's have 75/25 Train/Test split"
   ]
  },
  {
   "cell_type": "code",
   "execution_count": 15,
   "metadata": {},
   "outputs": [],
   "source": [
    "# Import train_test_split\n",
    "from sklearn.model_selection import train_test_split\n",
    "\n",
    "\n",
    "# Split into train and test sets:\n",
    "X_train, X_test, y_train, y_test = train_test_split(X,\n",
    "                                                    y,\n",
    "                                                    test_size=0.25,\n",
    "                                                    random_state=1981)"
   ]
  },
  {
   "cell_type": "markdown",
   "metadata": {},
   "source": [
    "## 6. Scaling and Transformation: Standardization<a id='6_Scaling_and_Transformation:_Standardization'></a>\n",
    "\n",
    "**Standardization** finds the mean of our data and centers the distribution around it, calculating the number of standard deviations away from the mean each point is. The number of standard deviations are then used as our new values. This centers the data around 0 but technically has no limit to the maximum and minimum values.\n",
    "\n"
   ]
  },
  {
   "cell_type": "code",
   "execution_count": 16,
   "metadata": {},
   "outputs": [],
   "source": [
    "# Import StandardScaler:\n",
    "from sklearn.preprocessing import StandardScaler\n",
    "\n",
    "# Instantiate StandardScaler:\n",
    "scaler = StandardScaler()\n",
    "\n",
    "# Fit & transform  scaler to the data:\n",
    "X_train = scaler.fit_transform(X_train.astype(np.float))\n",
    "X_test = scaler.transform(X_test.astype(np.float))\n"
   ]
  },
  {
   "cell_type": "markdown",
   "metadata": {},
   "source": [
    "## 7. Modeling: Random Forests Regression<a id='7_Random_Forests_Regression'></a>\n",
    "\n",
    "**Random Forest** is an ensemble technique capable of performing both regression and classification tasks with the use of multiple decision trees and a technique called Bootstrap and Aggregation, commonly known as bagging. The basic idea behind this is to combine multiple decision trees in determining the final output rather than relying on individual decision trees.\n",
    "Random Forest has multiple decision trees as base learning models. We randomly perform row sampling and feature sampling from the dataset forming sample datasets for every model. This part is called Bootstrap.\n",
    "\n",
    "A RandomForestRegressor has all the hyperparameters of:\n",
    "  * **DecisionTreeRegressor** (to control how trees are grown).\n",
    "  * **BaggingRegressor** to control the ensemble itself.\n",
    "\n",
    "The Random Forest algorithm introduces extra randomness when growing trees; instead of searching for the very best feature when splitting a node, it searches for the best feature among a random subset of features. This results in a greater tree diversity, which (once again) trades a higher bias for a lower variance, generally yielding an overall better model. \n",
    "\n",
    "\n",
    "**Further Diveristy with Random Forests:**\n",
    "  * Random Forests is an ensemble method that uses a decision tree as a base estimator. \n",
    "  * Each estimator is trained on a different bootstrap sample having the same size as the training set. \n",
    "  * RF introduces further randomization than bagging when training each of the base estimators. \n",
    "  * When each tree is trained, only d features can be sampled at each node without replacement, where d is a number smaller than the total number of features.\n",
    "\n",
    "### 7.1 Fitting  Random Forests Regression<a id='7.1_Fitting_Random_Forests_Regression'></a>\n"
   ]
  },
  {
   "cell_type": "code",
   "execution_count": 17,
   "metadata": {},
   "outputs": [
    {
     "name": "stdout",
     "output_type": "stream",
     "text": [
      "R-Squared coefficient : 99.6786 %\n"
     ]
    }
   ],
   "source": [
    "# Import necessary modules\n",
    "from sklearn.ensemble import RandomForestRegressor\n",
    "\n",
    "# Create a RandomForestRegressor: rfg\n",
    "# Default: max_depth=None, n_estimators=100\n",
    "rfg = RandomForestRegressor(random_state=1981) \n",
    "\n",
    "# Fit the regressor to the training data\n",
    "rfg.fit(X_train, y_train)\n",
    "\n",
    "# Evaluate the model: R-Squared coefficient\n",
    "print(\"R-Squared coefficient : {:.4f}\".format(rfg.score(X_test, y_test) * 100), '%')"
   ]
  },
  {
   "cell_type": "markdown",
   "metadata": {},
   "source": [
    "Random Forests R-Squared coefficient is clearly higher 99.6786 % compared to all previous regression Models (Linear, Ridge, Lasso and Decision Tree)."
   ]
  },
  {
   "cell_type": "code",
   "execution_count": 18,
   "metadata": {},
   "outputs": [],
   "source": [
    "# Predict on the test data: y_pred_dtg\n",
    "y_pred_rfg = rfg.predict(X_test)"
   ]
  },
  {
   "cell_type": "markdown",
   "metadata": {},
   "source": [
    "### 7.2 Random Forests Regression: Residuals Visualization<a id='7.2_Random_Forests_Regression:_Residuals_Visualization'></a>"
   ]
  },
  {
   "cell_type": "code",
   "execution_count": 19,
   "metadata": {},
   "outputs": [
    {
     "name": "stderr",
     "output_type": "stream",
     "text": [
      "C:\\Users\\aktha\\anaconda3\\lib\\site-packages\\seaborn\\distributions.py:2551: FutureWarning: `distplot` is a deprecated function and will be removed in a future version. Please adapt your code to use either `displot` (a figure-level function with similar flexibility) or `histplot` (an axes-level function for histograms).\n",
      "  warnings.warn(msg, FutureWarning)\n"
     ]
    },
    {
     "data": {
      "text/plain": [
       "<AxesSubplot:xlabel='price', ylabel='Density'>"
      ]
     },
     "execution_count": 19,
     "metadata": {},
     "output_type": "execute_result"
    },
    {
     "data": {
      "image/png": "[encoded data removed]",
      "text/plain": [
       "<Figure size 720x360 with 1 Axes>"
      ]
     },
     "metadata": {},
     "output_type": "display_data"
    }
   ],
   "source": [
    "# visualizing residuals\n",
    "fig = plt.figure(figsize=(10, 5))\n",
    "residuals = (y_test-y_pred_rfg)\n",
    "sns.distplot(residuals)"
   ]
  },
  {
   "cell_type": "markdown",
   "metadata": {},
   "source": [
    "As we can see above by visualizing the residual we can see that is normally distributed which is a good indication that we're having a linear relationship with our dependent variable 'price'."
   ]
  },
  {
   "cell_type": "markdown",
   "metadata": {},
   "source": [
    "### 7.3 Random Forests Regression Model Evaluation<a id='7.3_Random_Forests_Regression_Model_Evaluation'></a>"
   ]
  },
  {
   "cell_type": "code",
   "execution_count": 20,
   "metadata": {},
   "outputs": [
    {
     "name": "stdout",
     "output_type": "stream",
     "text": [
      "********Random Forests Regression Model Evaluation********\n",
      "-------------------------------------------------\n",
      "Random Forests Regression - r2 Score: 99.6786 %\n",
      "-------------------------------------------------\n",
      "Random Forests Regression - MAE: 9767.2155\n",
      "-------------------------------------------------\n",
      "Random Forests Regression - MSE:474838904.0747\n",
      "-------------------------------------------------\n",
      "Random Forestse Regression - RMSE:21790.7986\n",
      "-------------------------------------------------\n",
      "Random Forests Regression - Variance Score:99.6789 %\n",
      "-------------------------------------------------\n"
     ]
    }
   ],
   "source": [
    "from sklearn import metrics\n",
    "\n",
    "print(\"********Random Forests Regression Model Evaluation********\")\n",
    "print(\"-------------------------------------------------\")\n",
    "print(\"Random Forests Regression - r2 Score: {:.4f}\".format(metrics.r2_score(y_test, y_pred_rfg) * 100), '%')\n",
    "print(\"-------------------------------------------------\")\n",
    "print(\"Random Forests Regression - MAE: {:.4f}\".format(metrics.mean_absolute_error(y_test, y_pred_rfg)))\n",
    "print(\"-------------------------------------------------\")\n",
    "print(\"Random Forests Regression - MSE:{:.4f}\".format(metrics.mean_squared_error(y_test, y_pred_rfg)))\n",
    "print(\"-------------------------------------------------\")\n",
    "print(\"Random Forestse Regression - RMSE:{:.4f}\".format(np.sqrt(metrics.mean_squared_error(y_test, y_pred_rfg))))\n",
    "print(\"-------------------------------------------------\")\n",
    "print(\"Random Forests Regression - Variance Score:{:.4f}\".format( metrics.explained_variance_score(y_test, y_pred_rfg) * 100), '%')\n",
    "print(\"-------------------------------------------------\")"
   ]
  },
  {
   "cell_type": "markdown",
   "metadata": {},
   "source": [
    "As we can see, the value of **root mean squared error (RMSE) is 21,790.7986**, which is slightly less than 2.5% of the mean value of the Sales Price i.e.  $887,769.19. also, we have very good variance score at 99.6789%. \n",
    "\n",
    "This mean that our base Random Forest Regression Model is performing way much better than Linear, Ridge, lasso and Decision Tree Regression Models.\n"
   ]
  },
  {
   "cell_type": "markdown",
   "metadata": {},
   "source": [
    "### 7.4 Features Selection<a id='7.4_Features_Selection'></a>\n",
    "\n",
    "As shown below let's try to improve predictions by keeping high importants features only: \n",
    "\n",
    "#### 7.4.1 Features Importance<a id='7.4.1_Features_Importance'></a> \n"
   ]
  },
  {
   "cell_type": "code",
   "execution_count": 21,
   "metadata": {},
   "outputs": [
    {
     "data": {
      "image/png": "[encoded data removed]",
      "text/plain": [
       "<Figure size 720x576 with 1 Axes>"
      ]
     },
     "metadata": {},
     "output_type": "display_data"
    }
   ],
   "source": [
    "# First, let's create a pd.Series of features importances\n",
    "importances_rfg = pd.Series(data=rfg.feature_importances_, index=X.columns)\n",
    "\n",
    "# Sort importances\n",
    "importances_sorted = importances_rfg.sort_values()\n",
    "\n",
    "# Draw a horizontal barplot of importances_sorted\n",
    "plt.figure(figsize=(10, 8))\n",
    "importances_sorted.plot(kind='barh', color='green')\n",
    "plt.title('Features Importances - Random Forests Regression - Base Model')\n",
    "plt.grid(True)\n",
    "plt.show()"
   ]
  },
  {
   "cell_type": "markdown",
   "metadata": {},
   "source": [
    "**Dropping Features:**\n",
    " * As shown above, the high important features are only: 'price_per_sqft' and 'sqft' so as a first step let's keep them and drop the remaining features.\n",
    " * Second, let's keep  'price_per_sqft', 'sqft', 'median_income', 'property_type' and'school_rating'.\n",
    "\n",
    " \n",
    "#### 7.4.2 Keeping only 'price_per_sqft' and 'sqft'<a id='7.4.2_Keeping_only_price_per_sqft_and_sqft'></a> "
   ]
  },
  {
   "cell_type": "code",
   "execution_count": 22,
   "metadata": {},
   "outputs": [],
   "source": [
    "# So Now, Let's re define/select our features and keep only high Coefficients:\n",
    "# let's keep only  'sqft', 'price_per_sqft':\n",
    "features = ['sqft', 'price_per_sqft']\n",
    "\n",
    "# And, Now let's define X and y:\n",
    "X = df[features]\n",
    "y = df.price"
   ]
  },
  {
   "cell_type": "code",
   "execution_count": 23,
   "metadata": {},
   "outputs": [],
   "source": [
    "# Import train_test_split\n",
    "from sklearn.model_selection import train_test_split\n",
    "\n",
    "\n",
    "# Split into train and test sets:\n",
    "X_train, X_test, y_train, y_test = train_test_split(X,\n",
    "                                                    y,\n",
    "                                                    test_size=0.25,\n",
    "                                                    random_state=1981)"
   ]
  },
  {
   "cell_type": "code",
   "execution_count": 24,
   "metadata": {},
   "outputs": [],
   "source": [
    "# Import StandardScaler:\n",
    "from sklearn.preprocessing import StandardScaler\n",
    "\n",
    "# Instantiate StandardScaler:\n",
    "scaler = StandardScaler()\n",
    "\n",
    "# Fit & transform  scaler to the data:\n",
    "X_train = scaler.fit_transform(X_train.astype(np.float))\n",
    "X_test = scaler.transform(X_test.astype(np.float))"
   ]
  },
  {
   "cell_type": "code",
   "execution_count": 25,
   "metadata": {},
   "outputs": [
    {
     "name": "stdout",
     "output_type": "stream",
     "text": [
      "R-Squared coefficient : 99.8165 %\n"
     ]
    }
   ],
   "source": [
    "# Create a RandomForestRegressor: rfg_2\n",
    "# Default: max_depth=None, n_estimators=100\n",
    "rfg_2 = RandomForestRegressor(random_state=1981) \n",
    "\n",
    "# Fit the regressor to the training data\n",
    "rfg_2.fit(X_train, y_train)\n",
    "\n",
    "# Evaluate the model: R-Squared coefficient\n",
    "print(\"R-Squared coefficient : {:.4f}\".format(rfg_2.score(X_test, y_test) * 100), '%')\n",
    "\n",
    "# Predict on the test data: y_pred_rfg_2\n",
    "y_pred_rfg_2 = rfg_2.predict(X_test)"
   ]
  },
  {
   "cell_type": "code",
   "execution_count": 26,
   "metadata": {},
   "outputs": [
    {
     "name": "stdout",
     "output_type": "stream",
     "text": [
      "********Tuned Random Forests Regression Model Evaluation********\n",
      "-------------------------------------------------------\n",
      "Tuned Random Forests Regression - r2 Score: 99.8165 %\n",
      "-------------------------------------------------------\n",
      "Tuned Random Forests Regression - MAE: 6530.7833\n",
      "-------------------------------------------------------\n",
      "Tuned Random Forests Regression - MSE:271089597.6564\n",
      "-------------------------------------------------------\n",
      "Tuned Random Forests Regression - RMSE:16464.7987\n",
      "-------------------------------------------------------\n",
      "Tuned Random Forests Regression - Variance Score:99.8168 %\n",
      "-------------------------------------------------------\n"
     ]
    }
   ],
   "source": [
    "print(\"********Tuned Random Forests Regression Model Evaluation********\")\n",
    "print(\"-------------------------------------------------------\")\n",
    "print(\"Tuned Random Forests Regression - r2 Score: {:.4f}\".format(metrics.r2_score(y_test, y_pred_rfg_2) * 100), '%')\n",
    "print(\"-------------------------------------------------------\")\n",
    "print(\"Tuned Random Forests Regression - MAE: {:.4f}\".format(metrics.mean_absolute_error(y_test, y_pred_rfg_2)))\n",
    "print(\"-------------------------------------------------------\")\n",
    "print(\"Tuned Random Forests Regression - MSE:{:.4f}\".format(metrics.mean_squared_error(y_test, y_pred_rfg_2)))\n",
    "print(\"-------------------------------------------------------\")\n",
    "print(\"Tuned Random Forests Regression - RMSE:{:.4f}\".format(np.sqrt(metrics.mean_squared_error(y_test, y_pred_rfg_2))))\n",
    "print(\"-------------------------------------------------------\")\n",
    "print(\"Tuned Random Forests Regression - Variance Score:{:.4f}\".format( metrics.explained_variance_score(y_test, y_pred_rfg_2) * 100), '%')\n",
    "print(\"-------------------------------------------------------\")"
   ]
  },
  {
   "cell_type": "markdown",
   "metadata": {},
   "source": [
    "#### 7.4.3 Keeping 'price_per_sqft', 'sqft', 'median_income', 'property_type' and 'school_rating'<a id='7.4.3_Keeping_price_per_sqft_sqft_median_income_property_type_school_rating'></a> "
   ]
  },
  {
   "cell_type": "code",
   "execution_count": 27,
   "metadata": {},
   "outputs": [
    {
     "data": {
      "text/plain": [
       "Index(['property_type', 'zipcode', 'price', 'beds', 'baths', 'sqft',\n",
       "       'lot_size', 'days_on_market', 'price_per_sqft', 'hoa_month',\n",
       "       'property_age', 'school_rating', 'school_count', 'median_income',\n",
       "       'hotness_score', 'supply_score', 'demand_score', 'university_count',\n",
       "       'barts', 'malls', 'universities', 'bedBath', 'AvgRoomSize'],\n",
       "      dtype='object')"
      ]
     },
     "execution_count": 27,
     "metadata": {},
     "output_type": "execute_result"
    }
   ],
   "source": [
    "df.columns"
   ]
  },
  {
   "cell_type": "code",
   "execution_count": 28,
   "metadata": {},
   "outputs": [],
   "source": [
    "# So Now, Let's re define/select our features and keep only high Coefficients:\n",
    "# let's keep only  'price_per_sqft', 'sqft', 'median_income', 'property_type' and 'school_rating':\n",
    "features = ['sqft', 'price_per_sqft', 'property_type', \n",
    "            'school_rating', 'median_income']\n",
    "\n",
    "# And, Now let's define X and y:\n",
    "X = df[features]\n",
    "y = df.price"
   ]
  },
  {
   "cell_type": "code",
   "execution_count": 29,
   "metadata": {},
   "outputs": [],
   "source": [
    "# Import train_test_split\n",
    "from sklearn.model_selection import train_test_split\n",
    "\n",
    "\n",
    "# Split into train and test sets:\n",
    "X_train, X_test, y_train, y_test = train_test_split(X,\n",
    "                                                    y,\n",
    "                                                    test_size=0.25,\n",
    "                                                    random_state=1981)"
   ]
  },
  {
   "cell_type": "code",
   "execution_count": 30,
   "metadata": {},
   "outputs": [
    {
     "name": "stdout",
     "output_type": "stream",
     "text": [
      "R-Squared coefficient : 99.7714 %\n"
     ]
    }
   ],
   "source": [
    "# Create a RandomForestRegressor: rfg_5\n",
    "# Default: max_depth=None, n_estimators=100\n",
    "rfg_5 = RandomForestRegressor(random_state=1981) \n",
    "\n",
    "# Fit the regressor to the training data\n",
    "rfg_5.fit(X_train, y_train)\n",
    "\n",
    "# Evaluate the model: R-Squared coefficient\n",
    "print(\"R-Squared coefficient : {:.4f}\".format(rfg_5.score(X_test, y_test) * 100), '%')\n",
    "\n",
    "# Predict on the test data: y_pred_rfg_5\n",
    "y_pred_rfg_5 = rfg_5.predict(X_test)"
   ]
  },
  {
   "cell_type": "code",
   "execution_count": 31,
   "metadata": {},
   "outputs": [
    {
     "name": "stdout",
     "output_type": "stream",
     "text": [
      "********Tuned_5 Random Forests Regression Model Evaluation********\n",
      "-------------------------------------------------------\n",
      "Tuned_5 Random Forests Regression - r2 Score: 99.7714 %\n",
      "-------------------------------------------------------\n",
      "Tuned_5 Random Forests Regression - MAE: 7679.2312\n",
      "-------------------------------------------------------\n",
      "Tuned_5 Random Forests Regression - MSE:337800382.4367\n",
      "-------------------------------------------------------\n",
      "Tuned_5 Random Forests Regression - RMSE:18379.3466\n",
      "-------------------------------------------------------\n",
      "Tuned_5 Random Forests Regression - Variance Score:99.7718 %\n",
      "-------------------------------------------------------\n"
     ]
    }
   ],
   "source": [
    "print(\"********Tuned_5 Random Forests Regression Model Evaluation********\")\n",
    "print(\"-------------------------------------------------------\")\n",
    "print(\"Tuned_5 Random Forests Regression - r2 Score: {:.4f}\".format(metrics.r2_score(y_test, y_pred_rfg_5) * 100), '%')\n",
    "print(\"-------------------------------------------------------\")\n",
    "print(\"Tuned_5 Random Forests Regression - MAE: {:.4f}\".format(metrics.mean_absolute_error(y_test, y_pred_rfg_5)))\n",
    "print(\"-------------------------------------------------------\")\n",
    "print(\"Tuned_5 Random Forests Regression - MSE:{:.4f}\".format(metrics.mean_squared_error(y_test, y_pred_rfg_5)))\n",
    "print(\"-------------------------------------------------------\")\n",
    "print(\"Tuned_5 Random Forests Regression - RMSE:{:.4f}\".format(np.sqrt(metrics.mean_squared_error(y_test, y_pred_rfg_5))))\n",
    "print(\"-------------------------------------------------------\")\n",
    "print(\"Tuned_5 Random Forests Regression - Variance Score:{:.4f}\".format( metrics.explained_variance_score(y_test, y_pred_rfg_5) * 100), '%')\n",
    "print(\"-------------------------------------------------------\")"
   ]
  },
  {
   "cell_type": "markdown",
   "metadata": {},
   "source": [
    "#### 7.4.4 Features Selection Summary<a id='7.4.4_Features_Selection_Summary'></a>\n",
    "\n",
    "As we can see below, when we're keeping 2 features ('sqft', 'price_per_sqft'): we're seeing the best Result for Random Forests Regression:\n",
    "\n",
    "|Features Selection| r2 Score|    MAE  | MSE  | RMSE|Variance Score|\n",
    "|:----------------------|:-------:|:-------:|:----:|:----:|:----:|\n",
    "|Baseline (all features)|99.6786 %|9767.2155|474838904.0747|21790.7986|99.6789 %|\n",
    "|Keeping 2 features (Most Important)    |99.8165 %|6530.7833|271089597.6564|16464.7987|99.8168 %|\n",
    "|Keeping 5 features    |99.7714  %|17679.2312|337800382.4367|18379.3466|99.7718 %|"
   ]
  },
  {
   "cell_type": "markdown",
   "metadata": {},
   "source": [
    "### 7.5 Hyperparameters Tuning: GridSearchCV<a id='7.5_Hyperparameters_Tuning:_GridSearchCV'></a>\n",
    "\n",
    "#### 7.5.1 GridSearchCV for all features:<a id='7.5.1_GridSearchCV_for_all_features'></a>"
   ]
  },
  {
   "cell_type": "code",
   "execution_count": 32,
   "metadata": {},
   "outputs": [],
   "source": [
    "# Let's define/select our features:\n",
    "features = ['property_type', 'zipcode', 'beds', 'baths', 'sqft', 'lot_size', \n",
    "            'days_on_market', 'price_per_sqft', 'hoa_month', 'property_age', \n",
    "            'school_rating', 'school_count', 'median_income', 'hotness_score', \n",
    "            'supply_score', 'demand_score', 'university_count', 'barts', \n",
    "            'malls', 'universities', 'bedBath', 'AvgRoomSize']\n",
    "\n",
    "# And, Now let's define X and y:\n",
    "X = df[features]\n",
    "y = df.price\n",
    "\n",
    "# Import train_test_split\n",
    "from sklearn.model_selection import train_test_split\n",
    "\n",
    "\n",
    "# Split into train and test sets:\n",
    "X_train, X_test, y_train, y_test = train_test_split(X,\n",
    "                                                    y,\n",
    "                                                    test_size=0.25,\n",
    "                                                    random_state=1981)\n",
    "\n",
    "# Import StandardScaler:\n",
    "from sklearn.preprocessing import StandardScaler\n",
    "\n",
    "# Instantiate StandardScaler:\n",
    "scaler = StandardScaler()\n",
    "\n",
    "# Fit & transform  scaler to the data:\n",
    "X_train = scaler.fit_transform(X_train.astype(np.float))\n",
    "X_test = scaler.transform(X_test.astype(np.float))"
   ]
  },
  {
   "cell_type": "code",
   "execution_count": 33,
   "metadata": {
    "scrolled": false
   },
   "outputs": [
    {
     "name": "stdout",
     "output_type": "stream",
     "text": [
      "Fitting 5 folds for each of 4 candidates, totalling 20 fits\n"
     ]
    },
    {
     "data": {
      "text/plain": [
       "GridSearchCV(cv=5, estimator=RandomForestRegressor(random_state=1981),\n",
       "             n_jobs=-1,\n",
       "             param_grid=[{'max_depth': [28],\n",
       "                          'n_estimators': [600, 700, 900, 1000]}],\n",
       "             return_train_score=True, scoring='r2', verbose=1)"
      ]
     },
     "execution_count": 33,
     "metadata": {},
     "output_type": "execute_result"
    }
   ],
   "source": [
    "# Import necessary modules\n",
    "from sklearn.model_selection import GridSearchCV\n",
    "\n",
    "max_depth = [28]\n",
    "n_estimators = [600, 700, 900, 1000]\n",
    "\n",
    "# Set the parameters by cross-validation\n",
    "params = [{'max_depth': max_depth,\n",
    "          'n_estimators': n_estimators}]\n",
    "\n",
    "# Create a DecisionTreeRegressor regressor: rfg_search_1\n",
    "rfg_search_1 = RandomForestRegressor(random_state=1981) \n",
    "\n",
    "#cross validation\n",
    "folds = 5\n",
    "\n",
    "# Setup the GridSearchCV object: rfg_cv_all\n",
    "rfg_cv_all = GridSearchCV(estimator = rfg_search_1, \n",
    "                        param_grid = params, \n",
    "                        scoring= 'r2', \n",
    "                        cv = folds, n_jobs=-1,\n",
    "                        return_train_score=True,\n",
    "                        verbose = 1)   \n",
    "\n",
    "# Fit it to the training data\n",
    "rfg_cv_all.fit(X_train, y_train)\n",
    "\n"
   ]
  },
  {
   "cell_type": "code",
   "execution_count": 34,
   "metadata": {},
   "outputs": [
    {
     "name": "stdout",
     "output_type": "stream",
     "text": [
      "Tuned Random Forest Regression Parameters: {'max_depth': 28, 'n_estimators': 700}\n",
      "Tuned Random Forest - Best r2 Score is 99.2997 %\n"
     ]
    }
   ],
   "source": [
    "#checking the value of optimum number of parameters\n",
    "print(\"Tuned Random Forest Regression Parameters: {}\".format(rfg_cv_all.best_params_))\n",
    "print(\"Tuned Random Forest - Best r2 Score is {:.4f}\".format(rfg_cv_all.best_score_ * 100), \"%\")"
   ]
  },
  {
   "cell_type": "code",
   "execution_count": 35,
   "metadata": {},
   "outputs": [
    {
     "data": {
      "text/html": [
       "<div>\n",
       "<style scoped>\n",
       "    .dataframe tbody tr th:only-of-type {\n",
       "        vertical-align: middle;\n",
       "    }\n",
       "\n",
       "    .dataframe tbody tr th {\n",
       "        vertical-align: top;\n",
       "    }\n",
       "\n",
       "    .dataframe thead th {\n",
       "        text-align: right;\n",
       "    }\n",
       "</style>\n",
       "<table border=\"1\" class=\"dataframe\">\n",
       "  <thead>\n",
       "    <tr style=\"text-align: right;\">\n",
       "      <th></th>\n",
       "      <th>mean_fit_time</th>\n",
       "      <th>std_fit_time</th>\n",
       "      <th>mean_score_time</th>\n",
       "      <th>std_score_time</th>\n",
       "      <th>param_max_depth</th>\n",
       "      <th>param_n_estimators</th>\n",
       "      <th>params</th>\n",
       "      <th>split0_test_score</th>\n",
       "      <th>split1_test_score</th>\n",
       "      <th>split2_test_score</th>\n",
       "      <th>...</th>\n",
       "      <th>mean_test_score</th>\n",
       "      <th>std_test_score</th>\n",
       "      <th>rank_test_score</th>\n",
       "      <th>split0_train_score</th>\n",
       "      <th>split1_train_score</th>\n",
       "      <th>split2_train_score</th>\n",
       "      <th>split3_train_score</th>\n",
       "      <th>split4_train_score</th>\n",
       "      <th>mean_train_score</th>\n",
       "      <th>std_train_score</th>\n",
       "    </tr>\n",
       "  </thead>\n",
       "  <tbody>\n",
       "    <tr>\n",
       "      <th>0</th>\n",
       "      <td>27.870400</td>\n",
       "      <td>0.179237</td>\n",
       "      <td>0.231202</td>\n",
       "      <td>0.005492</td>\n",
       "      <td>28</td>\n",
       "      <td>600</td>\n",
       "      <td>{'max_depth': 28, 'n_estimators': 600}</td>\n",
       "      <td>0.995090</td>\n",
       "      <td>0.995488</td>\n",
       "      <td>0.991493</td>\n",
       "      <td>...</td>\n",
       "      <td>0.992973</td>\n",
       "      <td>0.003127</td>\n",
       "      <td>2</td>\n",
       "      <td>0.998824</td>\n",
       "      <td>0.998862</td>\n",
       "      <td>0.998984</td>\n",
       "      <td>0.999300</td>\n",
       "      <td>0.998899</td>\n",
       "      <td>0.998974</td>\n",
       "      <td>0.000172</td>\n",
       "    </tr>\n",
       "    <tr>\n",
       "      <th>1</th>\n",
       "      <td>32.661798</td>\n",
       "      <td>0.147437</td>\n",
       "      <td>0.278012</td>\n",
       "      <td>0.014057</td>\n",
       "      <td>28</td>\n",
       "      <td>700</td>\n",
       "      <td>{'max_depth': 28, 'n_estimators': 700}</td>\n",
       "      <td>0.995106</td>\n",
       "      <td>0.995529</td>\n",
       "      <td>0.991453</td>\n",
       "      <td>...</td>\n",
       "      <td>0.992997</td>\n",
       "      <td>0.003103</td>\n",
       "      <td>1</td>\n",
       "      <td>0.998835</td>\n",
       "      <td>0.998880</td>\n",
       "      <td>0.999000</td>\n",
       "      <td>0.999301</td>\n",
       "      <td>0.998887</td>\n",
       "      <td>0.998981</td>\n",
       "      <td>0.000169</td>\n",
       "    </tr>\n",
       "    <tr>\n",
       "      <th>2</th>\n",
       "      <td>42.131139</td>\n",
       "      <td>0.277727</td>\n",
       "      <td>0.381000</td>\n",
       "      <td>0.040542</td>\n",
       "      <td>28</td>\n",
       "      <td>900</td>\n",
       "      <td>{'max_depth': 28, 'n_estimators': 900}</td>\n",
       "      <td>0.995057</td>\n",
       "      <td>0.995499</td>\n",
       "      <td>0.991423</td>\n",
       "      <td>...</td>\n",
       "      <td>0.992964</td>\n",
       "      <td>0.003138</td>\n",
       "      <td>3</td>\n",
       "      <td>0.998839</td>\n",
       "      <td>0.998887</td>\n",
       "      <td>0.999003</td>\n",
       "      <td>0.999291</td>\n",
       "      <td>0.998884</td>\n",
       "      <td>0.998981</td>\n",
       "      <td>0.000164</td>\n",
       "    </tr>\n",
       "    <tr>\n",
       "      <th>3</th>\n",
       "      <td>38.369669</td>\n",
       "      <td>4.442448</td>\n",
       "      <td>0.281807</td>\n",
       "      <td>0.031843</td>\n",
       "      <td>28</td>\n",
       "      <td>1000</td>\n",
       "      <td>{'max_depth': 28, 'n_estimators': 1000}</td>\n",
       "      <td>0.995053</td>\n",
       "      <td>0.995504</td>\n",
       "      <td>0.991426</td>\n",
       "      <td>...</td>\n",
       "      <td>0.992957</td>\n",
       "      <td>0.003158</td>\n",
       "      <td>4</td>\n",
       "      <td>0.998847</td>\n",
       "      <td>0.998893</td>\n",
       "      <td>0.999010</td>\n",
       "      <td>0.999289</td>\n",
       "      <td>0.998890</td>\n",
       "      <td>0.998986</td>\n",
       "      <td>0.000161</td>\n",
       "    </tr>\n",
       "  </tbody>\n",
       "</table>\n",
       "<p>4 rows × 22 columns</p>\n",
       "</div>"
      ],
      "text/plain": [
       "   mean_fit_time  std_fit_time  mean_score_time  std_score_time  \\\n",
       "0      27.870400      0.179237         0.231202        0.005492   \n",
       "1      32.661798      0.147437         0.278012        0.014057   \n",
       "2      42.131139      0.277727         0.381000        0.040542   \n",
       "3      38.369669      4.442448         0.281807        0.031843   \n",
       "\n",
       "  param_max_depth param_n_estimators                                   params  \\\n",
       "0              28                600   {'max_depth': 28, 'n_estimators': 600}   \n",
       "1              28                700   {'max_depth': 28, 'n_estimators': 700}   \n",
       "2              28                900   {'max_depth': 28, 'n_estimators': 900}   \n",
       "3              28               1000  {'max_depth': 28, 'n_estimators': 1000}   \n",
       "\n",
       "   split0_test_score  split1_test_score  split2_test_score  ...  \\\n",
       "0           0.995090           0.995488           0.991493  ...   \n",
       "1           0.995106           0.995529           0.991453  ...   \n",
       "2           0.995057           0.995499           0.991423  ...   \n",
       "3           0.995053           0.995504           0.991426  ...   \n",
       "\n",
       "   mean_test_score  std_test_score  rank_test_score  split0_train_score  \\\n",
       "0         0.992973        0.003127                2            0.998824   \n",
       "1         0.992997        0.003103                1            0.998835   \n",
       "2         0.992964        0.003138                3            0.998839   \n",
       "3         0.992957        0.003158                4            0.998847   \n",
       "\n",
       "   split1_train_score  split2_train_score  split3_train_score  \\\n",
       "0            0.998862            0.998984            0.999300   \n",
       "1            0.998880            0.999000            0.999301   \n",
       "2            0.998887            0.999003            0.999291   \n",
       "3            0.998893            0.999010            0.999289   \n",
       "\n",
       "   split4_train_score  mean_train_score  std_train_score  \n",
       "0            0.998899          0.998974         0.000172  \n",
       "1            0.998887          0.998981         0.000169  \n",
       "2            0.998884          0.998981         0.000164  \n",
       "3            0.998890          0.998986         0.000161  \n",
       "\n",
       "[4 rows x 22 columns]"
      ]
     },
     "execution_count": 35,
     "metadata": {},
     "output_type": "execute_result"
    }
   ],
   "source": [
    "cv_results = pd.DataFrame(rfg_cv_all.cv_results_)\n",
    "cv_results"
   ]
  },
  {
   "cell_type": "code",
   "execution_count": 47,
   "metadata": {},
   "outputs": [
    {
     "data": {
      "image/png": "[encoded data removed]",
      "text/plain": [
       "<Figure size 1152x360 with 1 Axes>"
      ]
     },
     "metadata": {},
     "output_type": "display_data"
    }
   ],
   "source": [
    "# plotting mean test and train scores with max_depth: \n",
    "cv_results['param_n_estimators'] = cv_results['param_n_estimators'].astype('int32')\n",
    "plt.figure(figsize=(16,5))\n",
    "\n",
    "# plotting r2 score vs n_estimators:\n",
    "plt.plot(cv_results['param_n_estimators'], cv_results['mean_train_score'])\n",
    "plt.plot(cv_results['param_n_estimators'], cv_results['mean_test_score'])\n",
    "plt.axvline(700, color='black', ls='--', lw=2, label='n_estimators=700')\n",
    "plt.xlabel('n_estimators')\n",
    "plt.ylabel('r2 Score')\n",
    "plt.title(\"r2 Score and n_estimators\")\n",
    "plt.legend(['train score', 'test score', 'max_depth=10'], loc='upper right')\n",
    "plt.show()"
   ]
  },
  {
   "cell_type": "markdown",
   "metadata": {},
   "source": [
    "#### 7.5.2 Fitting Random Forests Regression after GridsearchCV (All features)<a id='7.5.2_Fitting_Random_Forests_Regression_after_GridsearchCV_(All_features)'></a>"
   ]
  },
  {
   "cell_type": "code",
   "execution_count": 39,
   "metadata": {},
   "outputs": [
    {
     "name": "stdout",
     "output_type": "stream",
     "text": [
      "R-Squared coefficient Tuned_final : 99.6875 %\n"
     ]
    }
   ],
   "source": [
    "# Create a RandomForestRegressor: rfg_tuned_cv_1\n",
    "\n",
    "max_depth = 28 #(Best GridsearchCV)\n",
    "n_estimators = 700\n",
    "rfg_tuned_cv_1 = RandomForestRegressor(max_depth = max_depth,\n",
    "                                       n_estimators = n_estimators,\n",
    "                                       random_state=1981)\n",
    "\n",
    "# Fit the regressor to the training data\n",
    "rfg_tuned_cv_1.fit(X_train, y_train)\n",
    "\n",
    "# Evaluate the model: R-Squared coefficient\n",
    "print(\"R-Squared coefficient Tuned_final : {:.4f}\".format(rfg_tuned_cv_1.score(X_test, y_test) * 100), '%')\n",
    "\n",
    "\n",
    "# Predict on the test data: y_pred_rfg_cv_1\n",
    "y_pred_rfg_cv_1 = rfg_tuned_cv_1.predict(X_test)\n"
   ]
  },
  {
   "cell_type": "code",
   "execution_count": 40,
   "metadata": {},
   "outputs": [
    {
     "name": "stdout",
     "output_type": "stream",
     "text": [
      "********Tuned Random Forests Regression Model Evaluation********\n",
      "-------------------------------------------------------------\n",
      "Tuned Random Forests Regression - r2 Score: 99.6875 %\n",
      "-------------------------------------------------------------\n",
      "Tuned Random Forests Regression - MAE: 9526.0315\n",
      "-------------------------------------------------------------\n",
      "Tuned Random Forests Regression - MSE:461673319.2261\n",
      "-------------------------------------------------------------\n",
      "Tuned Random Forests Regression - RMSE:21486.5846\n",
      "-------------------------------------------------------------\n",
      "Tuned Random Forests Regression - Variance Score:99.6877 %\n",
      "-------------------------------------------------------------\n"
     ]
    }
   ],
   "source": [
    "print(\"********Tuned Random Forests Regression Model Evaluation********\")\n",
    "print(\"-------------------------------------------------------------\")\n",
    "print(\"Tuned Random Forests Regression - r2 Score: {:.4f}\".format(metrics.r2_score(y_test, y_pred_rfg_cv_1) * 100), '%')\n",
    "print(\"-------------------------------------------------------------\")\n",
    "print(\"Tuned Random Forests Regression - MAE: {:.4f}\".format(metrics.mean_absolute_error(y_test, y_pred_rfg_cv_1)))\n",
    "print(\"-------------------------------------------------------------\")\n",
    "print(\"Tuned Random Forests Regression - MSE:{:.4f}\".format(metrics.mean_squared_error(y_test, y_pred_rfg_cv_1)))\n",
    "print(\"-------------------------------------------------------------\")\n",
    "print(\"Tuned Random Forests Regression - RMSE:{:.4f}\".format(np.sqrt(metrics.mean_squared_error(y_test, y_pred_rfg_cv_1))))\n",
    "print(\"-------------------------------------------------------------\")\n",
    "print(\"Tuned Random Forests Regression - Variance Score:{:.4f}\".format( metrics.explained_variance_score(y_test, y_pred_rfg_cv_1) * 100), '%')\n",
    "print(\"-------------------------------------------------------------\")"
   ]
  },
  {
   "cell_type": "markdown",
   "metadata": {},
   "source": [
    "#### 7.5.3 GridSearchCV for most important features: 'sqft' and 'price_per_sqft'<a id='7.5.3_GridSearchCV_for_most_important_features:_sqft_and_price_per_sqft'></a> "
   ]
  },
  {
   "cell_type": "code",
   "execution_count": 41,
   "metadata": {},
   "outputs": [],
   "source": [
    "# Let's define/select our features:\n",
    "features = ['sqft',  'price_per_sqft']\n",
    "\n",
    "# And, Now let's define X and y:\n",
    "X = df[features]\n",
    "y = df.price\n",
    "\n",
    "# Import train_test_split\n",
    "from sklearn.model_selection import train_test_split\n",
    "\n",
    "\n",
    "# Split into train and test sets:\n",
    "X_train, X_test, y_train, y_test = train_test_split(X,\n",
    "                                                    y,\n",
    "                                                    test_size=0.25,\n",
    "                                                    random_state=1981)\n",
    "\n",
    "# Import StandardScaler:\n",
    "from sklearn.preprocessing import StandardScaler\n",
    "\n",
    "# Instantiate StandardScaler:\n",
    "scaler = StandardScaler()\n",
    "\n",
    "# Fit & transform  scaler to the data:\n",
    "X_train = scaler.fit_transform(X_train.astype(np.float))\n",
    "X_test = scaler.transform(X_test.astype(np.float))"
   ]
  },
  {
   "cell_type": "code",
   "execution_count": 42,
   "metadata": {},
   "outputs": [
    {
     "name": "stdout",
     "output_type": "stream",
     "text": [
      "Fitting 5 folds for each of 16 candidates, totalling 80 fits\n"
     ]
    },
    {
     "data": {
      "text/plain": [
       "GridSearchCV(cv=5, estimator=RandomForestRegressor(random_state=1981),\n",
       "             n_jobs=-1,\n",
       "             param_grid=[{'max_depth': [20, 24, 28, 32],\n",
       "                          'n_estimators': [600, 700, 900, 1000]}],\n",
       "             return_train_score=True, scoring='r2', verbose=1)"
      ]
     },
     "execution_count": 42,
     "metadata": {},
     "output_type": "execute_result"
    }
   ],
   "source": [
    "# Import necessary modules\n",
    "from sklearn.model_selection import GridSearchCV\n",
    "\n",
    "max_depth = range(1,30)\n",
    "\n",
    "max_depth = [20, 24, 28, 32]\n",
    "n_estimators = [600, 700, 900, 1000]\n",
    "\n",
    "# Set the parameters by cross-validation\n",
    "params = [{'max_depth': max_depth,\n",
    "           'n_estimators': n_estimators}]\n",
    "\n",
    "# Create a DecisionTreeRegressor: rfg_search_2\n",
    "rfg_search_2 = RandomForestRegressor(random_state=1981)\n",
    "\n",
    "#cross validation\n",
    "folds = 5\n",
    "\n",
    "# Setup the GridSearchCV object: rfg_cv_2\n",
    "rfg_cv_2 = GridSearchCV(estimator = rfg_search_2, \n",
    "                        param_grid = params, \n",
    "                        scoring= 'r2', \n",
    "                        cv = folds, n_jobs=-1,\n",
    "                        return_train_score=True,\n",
    "                        verbose = 1)   \n",
    "\n",
    "# Fit it to the training data\n",
    "rfg_cv_2.fit(X_train, y_train) \n"
   ]
  },
  {
   "cell_type": "code",
   "execution_count": 43,
   "metadata": {},
   "outputs": [
    {
     "name": "stdout",
     "output_type": "stream",
     "text": [
      "Tuned Random Forests Regression Parameters: {'max_depth': 24, 'n_estimators': 600}\n",
      "Tuned Random Forests - Best r2 score is 99.5212 %\n"
     ]
    }
   ],
   "source": [
    "#checking the value of optimum number of parameters\n",
    "print(\"Tuned Random Forests Regression Parameters: {}\".format(rfg_cv_2.best_params_))\n",
    "print(\"Tuned Random Forests - Best r2 score is {:.4f}\".format(rfg_cv_2.best_score_ * 100), \"%\")"
   ]
  },
  {
   "cell_type": "code",
   "execution_count": 44,
   "metadata": {},
   "outputs": [
    {
     "data": {
      "text/html": [
       "<div>\n",
       "<style scoped>\n",
       "    .dataframe tbody tr th:only-of-type {\n",
       "        vertical-align: middle;\n",
       "    }\n",
       "\n",
       "    .dataframe tbody tr th {\n",
       "        vertical-align: top;\n",
       "    }\n",
       "\n",
       "    .dataframe thead th {\n",
       "        text-align: right;\n",
       "    }\n",
       "</style>\n",
       "<table border=\"1\" class=\"dataframe\">\n",
       "  <thead>\n",
       "    <tr style=\"text-align: right;\">\n",
       "      <th></th>\n",
       "      <th>mean_fit_time</th>\n",
       "      <th>std_fit_time</th>\n",
       "      <th>mean_score_time</th>\n",
       "      <th>std_score_time</th>\n",
       "      <th>param_max_depth</th>\n",
       "      <th>param_n_estimators</th>\n",
       "      <th>params</th>\n",
       "      <th>split0_test_score</th>\n",
       "      <th>split1_test_score</th>\n",
       "      <th>split2_test_score</th>\n",
       "      <th>...</th>\n",
       "      <th>mean_test_score</th>\n",
       "      <th>std_test_score</th>\n",
       "      <th>rank_test_score</th>\n",
       "      <th>split0_train_score</th>\n",
       "      <th>split1_train_score</th>\n",
       "      <th>split2_train_score</th>\n",
       "      <th>split3_train_score</th>\n",
       "      <th>split4_train_score</th>\n",
       "      <th>mean_train_score</th>\n",
       "      <th>std_train_score</th>\n",
       "    </tr>\n",
       "  </thead>\n",
       "  <tbody>\n",
       "    <tr>\n",
       "      <th>0</th>\n",
       "      <td>7.218884</td>\n",
       "      <td>0.068740</td>\n",
       "      <td>0.227400</td>\n",
       "      <td>0.003499</td>\n",
       "      <td>20</td>\n",
       "      <td>600</td>\n",
       "      <td>{'max_depth': 20, 'n_estimators': 600}</td>\n",
       "      <td>0.997653</td>\n",
       "      <td>0.997177</td>\n",
       "      <td>0.992736</td>\n",
       "      <td>...</td>\n",
       "      <td>0.995212</td>\n",
       "      <td>0.002952</td>\n",
       "      <td>4</td>\n",
       "      <td>0.997910</td>\n",
       "      <td>0.998253</td>\n",
       "      <td>0.999176</td>\n",
       "      <td>0.998296</td>\n",
       "      <td>0.998083</td>\n",
       "      <td>0.998344</td>\n",
       "      <td>0.000438</td>\n",
       "    </tr>\n",
       "    <tr>\n",
       "      <th>1</th>\n",
       "      <td>8.365866</td>\n",
       "      <td>0.062704</td>\n",
       "      <td>0.291400</td>\n",
       "      <td>0.022472</td>\n",
       "      <td>20</td>\n",
       "      <td>700</td>\n",
       "      <td>{'max_depth': 20, 'n_estimators': 700}</td>\n",
       "      <td>0.997673</td>\n",
       "      <td>0.997182</td>\n",
       "      <td>0.992733</td>\n",
       "      <td>...</td>\n",
       "      <td>0.995204</td>\n",
       "      <td>0.002969</td>\n",
       "      <td>12</td>\n",
       "      <td>0.997906</td>\n",
       "      <td>0.998251</td>\n",
       "      <td>0.999174</td>\n",
       "      <td>0.998293</td>\n",
       "      <td>0.998076</td>\n",
       "      <td>0.998340</td>\n",
       "      <td>0.000439</td>\n",
       "    </tr>\n",
       "    <tr>\n",
       "      <th>2</th>\n",
       "      <td>11.096077</td>\n",
       "      <td>0.179969</td>\n",
       "      <td>0.398000</td>\n",
       "      <td>0.019453</td>\n",
       "      <td>20</td>\n",
       "      <td>900</td>\n",
       "      <td>{'max_depth': 20, 'n_estimators': 900}</td>\n",
       "      <td>0.997689</td>\n",
       "      <td>0.997181</td>\n",
       "      <td>0.992752</td>\n",
       "      <td>...</td>\n",
       "      <td>0.995209</td>\n",
       "      <td>0.002977</td>\n",
       "      <td>8</td>\n",
       "      <td>0.997911</td>\n",
       "      <td>0.998258</td>\n",
       "      <td>0.999181</td>\n",
       "      <td>0.998291</td>\n",
       "      <td>0.998075</td>\n",
       "      <td>0.998343</td>\n",
       "      <td>0.000441</td>\n",
       "    </tr>\n",
       "    <tr>\n",
       "      <th>3</th>\n",
       "      <td>12.607505</td>\n",
       "      <td>0.076723</td>\n",
       "      <td>0.413803</td>\n",
       "      <td>0.023661</td>\n",
       "      <td>20</td>\n",
       "      <td>1000</td>\n",
       "      <td>{'max_depth': 20, 'n_estimators': 1000}</td>\n",
       "      <td>0.997665</td>\n",
       "      <td>0.997189</td>\n",
       "      <td>0.992760</td>\n",
       "      <td>...</td>\n",
       "      <td>0.995192</td>\n",
       "      <td>0.002998</td>\n",
       "      <td>16</td>\n",
       "      <td>0.997906</td>\n",
       "      <td>0.998255</td>\n",
       "      <td>0.999178</td>\n",
       "      <td>0.998290</td>\n",
       "      <td>0.998073</td>\n",
       "      <td>0.998341</td>\n",
       "      <td>0.000441</td>\n",
       "    </tr>\n",
       "    <tr>\n",
       "      <th>4</th>\n",
       "      <td>8.076126</td>\n",
       "      <td>0.321833</td>\n",
       "      <td>0.251299</td>\n",
       "      <td>0.029453</td>\n",
       "      <td>24</td>\n",
       "      <td>600</td>\n",
       "      <td>{'max_depth': 24, 'n_estimators': 600}</td>\n",
       "      <td>0.997652</td>\n",
       "      <td>0.997177</td>\n",
       "      <td>0.992730</td>\n",
       "      <td>...</td>\n",
       "      <td>0.995212</td>\n",
       "      <td>0.002952</td>\n",
       "      <td>1</td>\n",
       "      <td>0.997911</td>\n",
       "      <td>0.998253</td>\n",
       "      <td>0.999174</td>\n",
       "      <td>0.998296</td>\n",
       "      <td>0.998084</td>\n",
       "      <td>0.998344</td>\n",
       "      <td>0.000437</td>\n",
       "    </tr>\n",
       "    <tr>\n",
       "      <th>5</th>\n",
       "      <td>8.460987</td>\n",
       "      <td>0.081775</td>\n",
       "      <td>0.273904</td>\n",
       "      <td>0.010167</td>\n",
       "      <td>24</td>\n",
       "      <td>700</td>\n",
       "      <td>{'max_depth': 24, 'n_estimators': 700}</td>\n",
       "      <td>0.997672</td>\n",
       "      <td>0.997182</td>\n",
       "      <td>0.992729</td>\n",
       "      <td>...</td>\n",
       "      <td>0.995204</td>\n",
       "      <td>0.002968</td>\n",
       "      <td>9</td>\n",
       "      <td>0.997907</td>\n",
       "      <td>0.998251</td>\n",
       "      <td>0.999173</td>\n",
       "      <td>0.998293</td>\n",
       "      <td>0.998077</td>\n",
       "      <td>0.998340</td>\n",
       "      <td>0.000438</td>\n",
       "    </tr>\n",
       "    <tr>\n",
       "      <th>6</th>\n",
       "      <td>11.004213</td>\n",
       "      <td>0.124089</td>\n",
       "      <td>0.352601</td>\n",
       "      <td>0.012876</td>\n",
       "      <td>24</td>\n",
       "      <td>900</td>\n",
       "      <td>{'max_depth': 24, 'n_estimators': 900}</td>\n",
       "      <td>0.997688</td>\n",
       "      <td>0.997181</td>\n",
       "      <td>0.992745</td>\n",
       "      <td>...</td>\n",
       "      <td>0.995209</td>\n",
       "      <td>0.002978</td>\n",
       "      <td>5</td>\n",
       "      <td>0.997911</td>\n",
       "      <td>0.998258</td>\n",
       "      <td>0.999180</td>\n",
       "      <td>0.998291</td>\n",
       "      <td>0.998075</td>\n",
       "      <td>0.998343</td>\n",
       "      <td>0.000440</td>\n",
       "    </tr>\n",
       "    <tr>\n",
       "      <th>7</th>\n",
       "      <td>12.254762</td>\n",
       "      <td>0.088182</td>\n",
       "      <td>0.388163</td>\n",
       "      <td>0.006169</td>\n",
       "      <td>24</td>\n",
       "      <td>1000</td>\n",
       "      <td>{'max_depth': 24, 'n_estimators': 1000}</td>\n",
       "      <td>0.997667</td>\n",
       "      <td>0.997189</td>\n",
       "      <td>0.992754</td>\n",
       "      <td>...</td>\n",
       "      <td>0.995193</td>\n",
       "      <td>0.002999</td>\n",
       "      <td>13</td>\n",
       "      <td>0.997907</td>\n",
       "      <td>0.998255</td>\n",
       "      <td>0.999177</td>\n",
       "      <td>0.998290</td>\n",
       "      <td>0.998074</td>\n",
       "      <td>0.998340</td>\n",
       "      <td>0.000440</td>\n",
       "    </tr>\n",
       "    <tr>\n",
       "      <th>8</th>\n",
       "      <td>7.608673</td>\n",
       "      <td>0.227193</td>\n",
       "      <td>0.253200</td>\n",
       "      <td>0.029131</td>\n",
       "      <td>28</td>\n",
       "      <td>600</td>\n",
       "      <td>{'max_depth': 28, 'n_estimators': 600}</td>\n",
       "      <td>0.997652</td>\n",
       "      <td>0.997177</td>\n",
       "      <td>0.992730</td>\n",
       "      <td>...</td>\n",
       "      <td>0.995212</td>\n",
       "      <td>0.002952</td>\n",
       "      <td>1</td>\n",
       "      <td>0.997911</td>\n",
       "      <td>0.998253</td>\n",
       "      <td>0.999174</td>\n",
       "      <td>0.998296</td>\n",
       "      <td>0.998084</td>\n",
       "      <td>0.998344</td>\n",
       "      <td>0.000437</td>\n",
       "    </tr>\n",
       "    <tr>\n",
       "      <th>9</th>\n",
       "      <td>8.871882</td>\n",
       "      <td>0.144281</td>\n",
       "      <td>0.296800</td>\n",
       "      <td>0.037188</td>\n",
       "      <td>28</td>\n",
       "      <td>700</td>\n",
       "      <td>{'max_depth': 28, 'n_estimators': 700}</td>\n",
       "      <td>0.997672</td>\n",
       "      <td>0.997182</td>\n",
       "      <td>0.992729</td>\n",
       "      <td>...</td>\n",
       "      <td>0.995204</td>\n",
       "      <td>0.002968</td>\n",
       "      <td>9</td>\n",
       "      <td>0.997907</td>\n",
       "      <td>0.998251</td>\n",
       "      <td>0.999173</td>\n",
       "      <td>0.998293</td>\n",
       "      <td>0.998077</td>\n",
       "      <td>0.998340</td>\n",
       "      <td>0.000438</td>\n",
       "    </tr>\n",
       "    <tr>\n",
       "      <th>10</th>\n",
       "      <td>11.574075</td>\n",
       "      <td>0.371882</td>\n",
       "      <td>0.359000</td>\n",
       "      <td>0.017099</td>\n",
       "      <td>28</td>\n",
       "      <td>900</td>\n",
       "      <td>{'max_depth': 28, 'n_estimators': 900}</td>\n",
       "      <td>0.997688</td>\n",
       "      <td>0.997181</td>\n",
       "      <td>0.992745</td>\n",
       "      <td>...</td>\n",
       "      <td>0.995209</td>\n",
       "      <td>0.002978</td>\n",
       "      <td>5</td>\n",
       "      <td>0.997911</td>\n",
       "      <td>0.998258</td>\n",
       "      <td>0.999180</td>\n",
       "      <td>0.998291</td>\n",
       "      <td>0.998075</td>\n",
       "      <td>0.998343</td>\n",
       "      <td>0.000440</td>\n",
       "    </tr>\n",
       "    <tr>\n",
       "      <th>11</th>\n",
       "      <td>13.123784</td>\n",
       "      <td>0.369923</td>\n",
       "      <td>0.387801</td>\n",
       "      <td>0.010028</td>\n",
       "      <td>28</td>\n",
       "      <td>1000</td>\n",
       "      <td>{'max_depth': 28, 'n_estimators': 1000}</td>\n",
       "      <td>0.997667</td>\n",
       "      <td>0.997189</td>\n",
       "      <td>0.992754</td>\n",
       "      <td>...</td>\n",
       "      <td>0.995193</td>\n",
       "      <td>0.002999</td>\n",
       "      <td>13</td>\n",
       "      <td>0.997907</td>\n",
       "      <td>0.998255</td>\n",
       "      <td>0.999177</td>\n",
       "      <td>0.998290</td>\n",
       "      <td>0.998074</td>\n",
       "      <td>0.998340</td>\n",
       "      <td>0.000440</td>\n",
       "    </tr>\n",
       "    <tr>\n",
       "      <th>12</th>\n",
       "      <td>7.757155</td>\n",
       "      <td>0.194179</td>\n",
       "      <td>0.255401</td>\n",
       "      <td>0.016763</td>\n",
       "      <td>32</td>\n",
       "      <td>600</td>\n",
       "      <td>{'max_depth': 32, 'n_estimators': 600}</td>\n",
       "      <td>0.997652</td>\n",
       "      <td>0.997177</td>\n",
       "      <td>0.992730</td>\n",
       "      <td>...</td>\n",
       "      <td>0.995212</td>\n",
       "      <td>0.002952</td>\n",
       "      <td>1</td>\n",
       "      <td>0.997911</td>\n",
       "      <td>0.998253</td>\n",
       "      <td>0.999174</td>\n",
       "      <td>0.998296</td>\n",
       "      <td>0.998084</td>\n",
       "      <td>0.998344</td>\n",
       "      <td>0.000437</td>\n",
       "    </tr>\n",
       "    <tr>\n",
       "      <th>13</th>\n",
       "      <td>8.825176</td>\n",
       "      <td>0.112102</td>\n",
       "      <td>0.276001</td>\n",
       "      <td>0.012791</td>\n",
       "      <td>32</td>\n",
       "      <td>700</td>\n",
       "      <td>{'max_depth': 32, 'n_estimators': 700}</td>\n",
       "      <td>0.997672</td>\n",
       "      <td>0.997182</td>\n",
       "      <td>0.992729</td>\n",
       "      <td>...</td>\n",
       "      <td>0.995204</td>\n",
       "      <td>0.002968</td>\n",
       "      <td>9</td>\n",
       "      <td>0.997907</td>\n",
       "      <td>0.998251</td>\n",
       "      <td>0.999173</td>\n",
       "      <td>0.998293</td>\n",
       "      <td>0.998077</td>\n",
       "      <td>0.998340</td>\n",
       "      <td>0.000438</td>\n",
       "    </tr>\n",
       "    <tr>\n",
       "      <th>14</th>\n",
       "      <td>11.232196</td>\n",
       "      <td>0.116666</td>\n",
       "      <td>0.357201</td>\n",
       "      <td>0.015277</td>\n",
       "      <td>32</td>\n",
       "      <td>900</td>\n",
       "      <td>{'max_depth': 32, 'n_estimators': 900}</td>\n",
       "      <td>0.997688</td>\n",
       "      <td>0.997181</td>\n",
       "      <td>0.992745</td>\n",
       "      <td>...</td>\n",
       "      <td>0.995209</td>\n",
       "      <td>0.002978</td>\n",
       "      <td>5</td>\n",
       "      <td>0.997911</td>\n",
       "      <td>0.998258</td>\n",
       "      <td>0.999180</td>\n",
       "      <td>0.998291</td>\n",
       "      <td>0.998075</td>\n",
       "      <td>0.998343</td>\n",
       "      <td>0.000440</td>\n",
       "    </tr>\n",
       "    <tr>\n",
       "      <th>15</th>\n",
       "      <td>10.817869</td>\n",
       "      <td>1.156800</td>\n",
       "      <td>0.287407</td>\n",
       "      <td>0.050123</td>\n",
       "      <td>32</td>\n",
       "      <td>1000</td>\n",
       "      <td>{'max_depth': 32, 'n_estimators': 1000}</td>\n",
       "      <td>0.997667</td>\n",
       "      <td>0.997189</td>\n",
       "      <td>0.992754</td>\n",
       "      <td>...</td>\n",
       "      <td>0.995193</td>\n",
       "      <td>0.002999</td>\n",
       "      <td>13</td>\n",
       "      <td>0.997907</td>\n",
       "      <td>0.998255</td>\n",
       "      <td>0.999177</td>\n",
       "      <td>0.998290</td>\n",
       "      <td>0.998074</td>\n",
       "      <td>0.998340</td>\n",
       "      <td>0.000440</td>\n",
       "    </tr>\n",
       "  </tbody>\n",
       "</table>\n",
       "<p>16 rows × 22 columns</p>\n",
       "</div>"
      ],
      "text/plain": [
       "    mean_fit_time  std_fit_time  mean_score_time  std_score_time  \\\n",
       "0        7.218884      0.068740         0.227400        0.003499   \n",
       "1        8.365866      0.062704         0.291400        0.022472   \n",
       "2       11.096077      0.179969         0.398000        0.019453   \n",
       "3       12.607505      0.076723         0.413803        0.023661   \n",
       "4        8.076126      0.321833         0.251299        0.029453   \n",
       "5        8.460987      0.081775         0.273904        0.010167   \n",
       "6       11.004213      0.124089         0.352601        0.012876   \n",
       "7       12.254762      0.088182         0.388163        0.006169   \n",
       "8        7.608673      0.227193         0.253200        0.029131   \n",
       "9        8.871882      0.144281         0.296800        0.037188   \n",
       "10      11.574075      0.371882         0.359000        0.017099   \n",
       "11      13.123784      0.369923         0.387801        0.010028   \n",
       "12       7.757155      0.194179         0.255401        0.016763   \n",
       "13       8.825176      0.112102         0.276001        0.012791   \n",
       "14      11.232196      0.116666         0.357201        0.015277   \n",
       "15      10.817869      1.156800         0.287407        0.050123   \n",
       "\n",
       "   param_max_depth param_n_estimators  \\\n",
       "0               20                600   \n",
       "1               20                700   \n",
       "2               20                900   \n",
       "3               20               1000   \n",
       "4               24                600   \n",
       "5               24                700   \n",
       "6               24                900   \n",
       "7               24               1000   \n",
       "8               28                600   \n",
       "9               28                700   \n",
       "10              28                900   \n",
       "11              28               1000   \n",
       "12              32                600   \n",
       "13              32                700   \n",
       "14              32                900   \n",
       "15              32               1000   \n",
       "\n",
       "                                     params  split0_test_score  \\\n",
       "0    {'max_depth': 20, 'n_estimators': 600}           0.997653   \n",
       "1    {'max_depth': 20, 'n_estimators': 700}           0.997673   \n",
       "2    {'max_depth': 20, 'n_estimators': 900}           0.997689   \n",
       "3   {'max_depth': 20, 'n_estimators': 1000}           0.997665   \n",
       "4    {'max_depth': 24, 'n_estimators': 600}           0.997652   \n",
       "5    {'max_depth': 24, 'n_estimators': 700}           0.997672   \n",
       "6    {'max_depth': 24, 'n_estimators': 900}           0.997688   \n",
       "7   {'max_depth': 24, 'n_estimators': 1000}           0.997667   \n",
       "8    {'max_depth': 28, 'n_estimators': 600}           0.997652   \n",
       "9    {'max_depth': 28, 'n_estimators': 700}           0.997672   \n",
       "10   {'max_depth': 28, 'n_estimators': 900}           0.997688   \n",
       "11  {'max_depth': 28, 'n_estimators': 1000}           0.997667   \n",
       "12   {'max_depth': 32, 'n_estimators': 600}           0.997652   \n",
       "13   {'max_depth': 32, 'n_estimators': 700}           0.997672   \n",
       "14   {'max_depth': 32, 'n_estimators': 900}           0.997688   \n",
       "15  {'max_depth': 32, 'n_estimators': 1000}           0.997667   \n",
       "\n",
       "    split1_test_score  split2_test_score  ...  mean_test_score  \\\n",
       "0            0.997177           0.992736  ...         0.995212   \n",
       "1            0.997182           0.992733  ...         0.995204   \n",
       "2            0.997181           0.992752  ...         0.995209   \n",
       "3            0.997189           0.992760  ...         0.995192   \n",
       "4            0.997177           0.992730  ...         0.995212   \n",
       "5            0.997182           0.992729  ...         0.995204   \n",
       "6            0.997181           0.992745  ...         0.995209   \n",
       "7            0.997189           0.992754  ...         0.995193   \n",
       "8            0.997177           0.992730  ...         0.995212   \n",
       "9            0.997182           0.992729  ...         0.995204   \n",
       "10           0.997181           0.992745  ...         0.995209   \n",
       "11           0.997189           0.992754  ...         0.995193   \n",
       "12           0.997177           0.992730  ...         0.995212   \n",
       "13           0.997182           0.992729  ...         0.995204   \n",
       "14           0.997181           0.992745  ...         0.995209   \n",
       "15           0.997189           0.992754  ...         0.995193   \n",
       "\n",
       "    std_test_score  rank_test_score  split0_train_score  split1_train_score  \\\n",
       "0         0.002952                4            0.997910            0.998253   \n",
       "1         0.002969               12            0.997906            0.998251   \n",
       "2         0.002977                8            0.997911            0.998258   \n",
       "3         0.002998               16            0.997906            0.998255   \n",
       "4         0.002952                1            0.997911            0.998253   \n",
       "5         0.002968                9            0.997907            0.998251   \n",
       "6         0.002978                5            0.997911            0.998258   \n",
       "7         0.002999               13            0.997907            0.998255   \n",
       "8         0.002952                1            0.997911            0.998253   \n",
       "9         0.002968                9            0.997907            0.998251   \n",
       "10        0.002978                5            0.997911            0.998258   \n",
       "11        0.002999               13            0.997907            0.998255   \n",
       "12        0.002952                1            0.997911            0.998253   \n",
       "13        0.002968                9            0.997907            0.998251   \n",
       "14        0.002978                5            0.997911            0.998258   \n",
       "15        0.002999               13            0.997907            0.998255   \n",
       "\n",
       "    split2_train_score  split3_train_score  split4_train_score  \\\n",
       "0             0.999176            0.998296            0.998083   \n",
       "1             0.999174            0.998293            0.998076   \n",
       "2             0.999181            0.998291            0.998075   \n",
       "3             0.999178            0.998290            0.998073   \n",
       "4             0.999174            0.998296            0.998084   \n",
       "5             0.999173            0.998293            0.998077   \n",
       "6             0.999180            0.998291            0.998075   \n",
       "7             0.999177            0.998290            0.998074   \n",
       "8             0.999174            0.998296            0.998084   \n",
       "9             0.999173            0.998293            0.998077   \n",
       "10            0.999180            0.998291            0.998075   \n",
       "11            0.999177            0.998290            0.998074   \n",
       "12            0.999174            0.998296            0.998084   \n",
       "13            0.999173            0.998293            0.998077   \n",
       "14            0.999180            0.998291            0.998075   \n",
       "15            0.999177            0.998290            0.998074   \n",
       "\n",
       "    mean_train_score  std_train_score  \n",
       "0           0.998344         0.000438  \n",
       "1           0.998340         0.000439  \n",
       "2           0.998343         0.000441  \n",
       "3           0.998341         0.000441  \n",
       "4           0.998344         0.000437  \n",
       "5           0.998340         0.000438  \n",
       "6           0.998343         0.000440  \n",
       "7           0.998340         0.000440  \n",
       "8           0.998344         0.000437  \n",
       "9           0.998340         0.000438  \n",
       "10          0.998343         0.000440  \n",
       "11          0.998340         0.000440  \n",
       "12          0.998344         0.000437  \n",
       "13          0.998340         0.000438  \n",
       "14          0.998343         0.000440  \n",
       "15          0.998340         0.000440  \n",
       "\n",
       "[16 rows x 22 columns]"
      ]
     },
     "execution_count": 44,
     "metadata": {},
     "output_type": "execute_result"
    }
   ],
   "source": [
    "cv_results = pd.DataFrame(rfg_cv_2.cv_results_)\n",
    "cv_results"
   ]
  },
  {
   "cell_type": "code",
   "execution_count": 46,
   "metadata": {},
   "outputs": [
    {
     "data": {
      "image/png": "[encoded data removed]",
      "text/plain": [
       "<Figure size 1152x360 with 1 Axes>"
      ]
     },
     "metadata": {},
     "output_type": "display_data"
    }
   ],
   "source": [
    "# plotting mean test and train scores with alpha \n",
    "cv_results['param_max_depth'] = cv_results['param_max_depth'].astype('int32')\n",
    "plt.figure(figsize=(16,5))\n",
    "\n",
    "# plotting r2 score vs max_depth:\n",
    "plt.plot(cv_results['param_max_depth'], cv_results['mean_train_score'])\n",
    "plt.plot(cv_results['param_max_depth'], cv_results['mean_test_score'])\n",
    "plt.axvline(24, color='black', ls='--', lw=2, label='max_depth=24')\n",
    "plt.xlabel('max_depth')\n",
    "plt.ylabel('r2 Score')\n",
    "plt.title(\"r2 Score and max_depth\")\n",
    "plt.legend(['train score', 'test score', 'max_depth=19'], loc='upper right')\n",
    "plt.show()"
   ]
  },
  {
   "cell_type": "markdown",
   "metadata": {},
   "source": [
    "#### 7.5.4 Fitting Random Forests Regression after GridsearchCV (most important features)<a id='7.5.4_Fitting_Random_Forests_Regression_after_GridsearchCV_(most_important_features)'></a>"
   ]
  },
  {
   "cell_type": "code",
   "execution_count": 48,
   "metadata": {},
   "outputs": [
    {
     "name": "stdout",
     "output_type": "stream",
     "text": [
      "R-Squared coefficient Tuned_final : 99.8217 %\n"
     ]
    }
   ],
   "source": [
    "# Create a RandomForestRegressor: rfg_tuned_cv_2\n",
    "max_depth = 24 #(Best GridsearchCV)\n",
    "n_estimators = 600\n",
    "rfg_tuned_cv_2 = RandomForestRegressor(max_depth = max_depth, \n",
    "                                       n_estimators=n_estimators,\n",
    "                                       random_state=1981)\n",
    "\n",
    "# Fit the regressor to the training data\n",
    "rfg_tuned_cv_2.fit(X_train, y_train)\n",
    "\n",
    "# Evaluate the model: R-Squared coefficient\n",
    "print(\"R-Squared coefficient Tuned_final : {:.4f}\".format(rfg_tuned_cv_2.score(X_test, y_test) * 100), '%')\n",
    "\n",
    "\n",
    "# Predict on the test data: y_pred_rfg_cv_2\n",
    "y_pred_rfg_cv_2 = rfg_tuned_cv_2.predict(X_test)"
   ]
  },
  {
   "cell_type": "code",
   "execution_count": 49,
   "metadata": {},
   "outputs": [
    {
     "name": "stdout",
     "output_type": "stream",
     "text": [
      "********Tuned Random Forests Regression Model Evaluation********\n",
      "-------------------------------------------------------------\n",
      "Tuned Random Forests Regression - r2 Score: 99.8217 %\n",
      "-------------------------------------------------------------\n",
      "Tuned Random Forests Regression - MAE: 6271.7787\n",
      "-------------------------------------------------------------\n",
      "Tuned Random Forests Regression - MSE:263419552.7376\n",
      "-------------------------------------------------------------\n",
      "Tuned Random Forests Regression - RMSE:16230.2050\n",
      "-------------------------------------------------------------\n",
      "Tuned Random Forests Regression - Variance Score:99.8221 %\n",
      "-------------------------------------------------------------\n"
     ]
    }
   ],
   "source": [
    "print(\"********Tuned Random Forests Regression Model Evaluation********\")\n",
    "print(\"-------------------------------------------------------------\")\n",
    "print(\"Tuned Random Forests Regression - r2 Score: {:.4f}\".format(metrics.r2_score(y_test, y_pred_rfg_cv_2) * 100), '%')\n",
    "print(\"-------------------------------------------------------------\")\n",
    "print(\"Tuned Random Forests Regression - MAE: {:.4f}\".format(metrics.mean_absolute_error(y_test, y_pred_rfg_cv_2)))\n",
    "print(\"-------------------------------------------------------------\")\n",
    "print(\"Tuned Random Forests Regression - MSE:{:.4f}\".format(metrics.mean_squared_error(y_test, y_pred_rfg_cv_2)))\n",
    "print(\"-------------------------------------------------------------\")\n",
    "print(\"Tuned Random Forests Regression - RMSE:{:.4f}\".format(np.sqrt(metrics.mean_squared_error(y_test, y_pred_rfg_cv_2))))\n",
    "print(\"-------------------------------------------------------------\")\n",
    "print(\"Tuned Random Forests Regression - Variance Score:{:.4f}\".format( metrics.explained_variance_score(y_test, y_pred_rfg_cv_2) * 100), '%')\n",
    "print(\"-------------------------------------------------------------\")"
   ]
  },
  {
   "cell_type": "markdown",
   "metadata": {},
   "source": [
    "## 8. Random Forests Regression Tuning Summary<a id='8_Random_Forests_Regression_Tuning_Summary'></a>\n",
    "\n",
    "As we can see below, We managed to improve our Random Forests Regression Model by:\n",
    " * keeping only the most important features: 2 features ('sqft' and'price_per_sqft'), and\n",
    " * Hyperparameters Tuning using GridSearCV to determine best:\n",
    "   * max_depth=28 &  n_estimators=700 when considering all features.\n",
    "   * max_depth=24 &  n_estimators=600 when considering only the most important features: 'sqft' and'price_per_sqft'.\n",
    " * Variance Score has improved from 99.6789  % (Random Forests - baseline) to 99.8221 %\n",
    "\n",
    "|Model Tuning| r2 Score|    MAE  | MSE  | RMSE|Variance Score|\n",
    "|:----------------------|:-------:|:-------:|:----:|:----:|:----:|\n",
    "|Baseline (all features)|99.6786 %|9767.2155|474838904.0747|21790.7986|99.6789 %|\n",
    "|Keeping 2 features (Most Important)    |99.8165 %|6530.7833|271089597.6564|16464.7987|99.8168 %|\n",
    "|Keeping 5 features    |99.7714  %|17679.2312|337800382.4367|18379.3466|99.7718 %|\n",
    "|Keeping All features + max_depth=28 &  n_estimators=700 (GridsearchCV)          |99.6875 %|9526.0315|461673319.2261|21486.5846|99.6877 %|\n",
    "|Keeping 2 features (Most Important) + max_depth=24 &  n_estimators=600 (GridsearchCV)             |99.8217 %|6271.7787|263419552.7376|16230.2050|99.8221 %|"
   ]
  },
  {
   "cell_type": "markdown",
   "metadata": {},
   "source": [
    "## 9. Random Forests Regression Actual vs Prediction Visualization<a id='9_Random_Forests_Regression_Actual_vs_Prediction_Visualization'></a>"
   ]
  },
  {
   "cell_type": "code",
   "execution_count": 50,
   "metadata": {},
   "outputs": [
    {
     "data": {
      "text/plain": [
       "Text(0, 0.5, 'Prediction')"
      ]
     },
     "execution_count": 50,
     "metadata": {},
     "output_type": "execute_result"
    },
    {
     "data": {
      "image/png": "[encoded data removed]",
      "text/plain": [
       "<Figure size 1080x720 with 1 Axes>"
      ]
     },
     "metadata": {},
     "output_type": "display_data"
    }
   ],
   "source": [
    "# Let's plot the predictions against the actual result. Use scatter()\n",
    "plt.figure(figsize=(15,10))\n",
    "plt.scatter(y_test,y_pred_rfg, color='black', marker='D', s=40, alpha=0.3, label='Actual vs Prediction-Random Forests: Baseline')\n",
    "plt.scatter(y_test,y_pred_rfg_cv_2, color='red', marker='o', s=20, alpha=0.3,label='Actual vs Prediction-Random Forests: Final Tuned')\n",
    "plt.title('Random Forests Regression model: predictions vs. the actual values')\n",
    "plt.plot([0,(np.max(y_test))],[0,(np.max(y_test))], 'blue', linewidth=30, alpha=0.2)\n",
    "plt.legend()\n",
    "plt.xlabel('Actual Result')\n",
    "plt.ylabel('Prediction')"
   ]
  },
  {
   "cell_type": "code",
   "execution_count": 51,
   "metadata": {},
   "outputs": [
    {
     "data": {
      "text/html": [
       "<div>\n",
       "<style scoped>\n",
       "    .dataframe tbody tr th:only-of-type {\n",
       "        vertical-align: middle;\n",
       "    }\n",
       "\n",
       "    .dataframe tbody tr th {\n",
       "        vertical-align: top;\n",
       "    }\n",
       "\n",
       "    .dataframe thead th {\n",
       "        text-align: right;\n",
       "    }\n",
       "</style>\n",
       "<table border=\"1\" class=\"dataframe\">\n",
       "  <thead>\n",
       "    <tr style=\"text-align: right;\">\n",
       "      <th></th>\n",
       "      <th>SalePrice_Actual</th>\n",
       "      <th>SalePrice_Predicted_baseline</th>\n",
       "      <th>SalePrice_Predicted_Tuned</th>\n",
       "    </tr>\n",
       "  </thead>\n",
       "  <tbody>\n",
       "    <tr>\n",
       "      <th>6219</th>\n",
       "      <td>1900000</td>\n",
       "      <td>1801600.00</td>\n",
       "      <td>1807139.783</td>\n",
       "    </tr>\n",
       "    <tr>\n",
       "      <th>696</th>\n",
       "      <td>1770000</td>\n",
       "      <td>1777628.00</td>\n",
       "      <td>1774880.000</td>\n",
       "    </tr>\n",
       "    <tr>\n",
       "      <th>2560</th>\n",
       "      <td>1600000</td>\n",
       "      <td>1609294.44</td>\n",
       "      <td>1608047.269</td>\n",
       "    </tr>\n",
       "    <tr>\n",
       "      <th>3249</th>\n",
       "      <td>1525000</td>\n",
       "      <td>1524197.14</td>\n",
       "      <td>1524801.450</td>\n",
       "    </tr>\n",
       "    <tr>\n",
       "      <th>1223</th>\n",
       "      <td>1478000</td>\n",
       "      <td>1478597.50</td>\n",
       "      <td>1471034.667</td>\n",
       "    </tr>\n",
       "    <tr>\n",
       "      <th>6756</th>\n",
       "      <td>1438000</td>\n",
       "      <td>1465441.85</td>\n",
       "      <td>1448479.833</td>\n",
       "    </tr>\n",
       "    <tr>\n",
       "      <th>1904</th>\n",
       "      <td>1375000</td>\n",
       "      <td>1373190.62</td>\n",
       "      <td>1349539.357</td>\n",
       "    </tr>\n",
       "    <tr>\n",
       "      <th>7028</th>\n",
       "      <td>1300000</td>\n",
       "      <td>1305168.00</td>\n",
       "      <td>1300861.333</td>\n",
       "    </tr>\n",
       "    <tr>\n",
       "      <th>6904</th>\n",
       "      <td>1216000</td>\n",
       "      <td>1168589.05</td>\n",
       "      <td>1184541.568</td>\n",
       "    </tr>\n",
       "    <tr>\n",
       "      <th>3982</th>\n",
       "      <td>1080000</td>\n",
       "      <td>1087069.54</td>\n",
       "      <td>1089055.603</td>\n",
       "    </tr>\n",
       "    <tr>\n",
       "      <th>4337</th>\n",
       "      <td>876000</td>\n",
       "      <td>891497.81</td>\n",
       "      <td>868798.333</td>\n",
       "    </tr>\n",
       "    <tr>\n",
       "      <th>595</th>\n",
       "      <td>850000</td>\n",
       "      <td>847577.86</td>\n",
       "      <td>848173.166</td>\n",
       "    </tr>\n",
       "    <tr>\n",
       "      <th>4489</th>\n",
       "      <td>850000</td>\n",
       "      <td>858951.22</td>\n",
       "      <td>853231.667</td>\n",
       "    </tr>\n",
       "    <tr>\n",
       "      <th>7400</th>\n",
       "      <td>825000</td>\n",
       "      <td>812483.72</td>\n",
       "      <td>824304.007</td>\n",
       "    </tr>\n",
       "    <tr>\n",
       "      <th>3136</th>\n",
       "      <td>821000</td>\n",
       "      <td>818584.81</td>\n",
       "      <td>817007.161</td>\n",
       "    </tr>\n",
       "    <tr>\n",
       "      <th>5011</th>\n",
       "      <td>820000</td>\n",
       "      <td>801588.16</td>\n",
       "      <td>811336.667</td>\n",
       "    </tr>\n",
       "    <tr>\n",
       "      <th>535</th>\n",
       "      <td>750000</td>\n",
       "      <td>751919.37</td>\n",
       "      <td>740044.675</td>\n",
       "    </tr>\n",
       "    <tr>\n",
       "      <th>1851</th>\n",
       "      <td>745000</td>\n",
       "      <td>768290.00</td>\n",
       "      <td>748758.338</td>\n",
       "    </tr>\n",
       "    <tr>\n",
       "      <th>1044</th>\n",
       "      <td>725000</td>\n",
       "      <td>732152.00</td>\n",
       "      <td>723583.833</td>\n",
       "    </tr>\n",
       "    <tr>\n",
       "      <th>4969</th>\n",
       "      <td>705000</td>\n",
       "      <td>729329.44</td>\n",
       "      <td>713940.157</td>\n",
       "    </tr>\n",
       "    <tr>\n",
       "      <th>6493</th>\n",
       "      <td>692000</td>\n",
       "      <td>690946.94</td>\n",
       "      <td>694354.242</td>\n",
       "    </tr>\n",
       "    <tr>\n",
       "      <th>790</th>\n",
       "      <td>585000</td>\n",
       "      <td>585887.77</td>\n",
       "      <td>585835.787</td>\n",
       "    </tr>\n",
       "    <tr>\n",
       "      <th>7422</th>\n",
       "      <td>540000</td>\n",
       "      <td>539385.25</td>\n",
       "      <td>536766.667</td>\n",
       "    </tr>\n",
       "    <tr>\n",
       "      <th>5395</th>\n",
       "      <td>535000</td>\n",
       "      <td>537221.00</td>\n",
       "      <td>535143.667</td>\n",
       "    </tr>\n",
       "    <tr>\n",
       "      <th>4768</th>\n",
       "      <td>525000</td>\n",
       "      <td>524912.76</td>\n",
       "      <td>524923.333</td>\n",
       "    </tr>\n",
       "    <tr>\n",
       "      <th>4032</th>\n",
       "      <td>525000</td>\n",
       "      <td>523220.00</td>\n",
       "      <td>526428.750</td>\n",
       "    </tr>\n",
       "    <tr>\n",
       "      <th>5130</th>\n",
       "      <td>505000</td>\n",
       "      <td>503145.00</td>\n",
       "      <td>503110.667</td>\n",
       "    </tr>\n",
       "    <tr>\n",
       "      <th>5548</th>\n",
       "      <td>495000</td>\n",
       "      <td>501780.00</td>\n",
       "      <td>501117.773</td>\n",
       "    </tr>\n",
       "    <tr>\n",
       "      <th>5320</th>\n",
       "      <td>335000</td>\n",
       "      <td>338710.00</td>\n",
       "      <td>337666.667</td>\n",
       "    </tr>\n",
       "    <tr>\n",
       "      <th>4511</th>\n",
       "      <td>215000</td>\n",
       "      <td>233762.50</td>\n",
       "      <td>232558.917</td>\n",
       "    </tr>\n",
       "  </tbody>\n",
       "</table>\n",
       "</div>"
      ],
      "text/plain": [
       "      SalePrice_Actual  SalePrice_Predicted_baseline  \\\n",
       "6219           1900000                    1801600.00   \n",
       "696            1770000                    1777628.00   \n",
       "2560           1600000                    1609294.44   \n",
       "3249           1525000                    1524197.14   \n",
       "1223           1478000                    1478597.50   \n",
       "6756           1438000                    1465441.85   \n",
       "1904           1375000                    1373190.62   \n",
       "7028           1300000                    1305168.00   \n",
       "6904           1216000                    1168589.05   \n",
       "3982           1080000                    1087069.54   \n",
       "4337            876000                     891497.81   \n",
       "595             850000                     847577.86   \n",
       "4489            850000                     858951.22   \n",
       "7400            825000                     812483.72   \n",
       "3136            821000                     818584.81   \n",
       "5011            820000                     801588.16   \n",
       "535             750000                     751919.37   \n",
       "1851            745000                     768290.00   \n",
       "1044            725000                     732152.00   \n",
       "4969            705000                     729329.44   \n",
       "6493            692000                     690946.94   \n",
       "790             585000                     585887.77   \n",
       "7422            540000                     539385.25   \n",
       "5395            535000                     537221.00   \n",
       "4768            525000                     524912.76   \n",
       "4032            525000                     523220.00   \n",
       "5130            505000                     503145.00   \n",
       "5548            495000                     501780.00   \n",
       "5320            335000                     338710.00   \n",
       "4511            215000                     233762.50   \n",
       "\n",
       "      SalePrice_Predicted_Tuned  \n",
       "6219                1807139.783  \n",
       "696                 1774880.000  \n",
       "2560                1608047.269  \n",
       "3249                1524801.450  \n",
       "1223                1471034.667  \n",
       "6756                1448479.833  \n",
       "1904                1349539.357  \n",
       "7028                1300861.333  \n",
       "6904                1184541.568  \n",
       "3982                1089055.603  \n",
       "4337                 868798.333  \n",
       "595                  848173.166  \n",
       "4489                 853231.667  \n",
       "7400                 824304.007  \n",
       "3136                 817007.161  \n",
       "5011                 811336.667  \n",
       "535                  740044.675  \n",
       "1851                 748758.338  \n",
       "1044                 723583.833  \n",
       "4969                 713940.157  \n",
       "6493                 694354.242  \n",
       "790                  585835.787  \n",
       "7422                 536766.667  \n",
       "5395                 535143.667  \n",
       "4768                 524923.333  \n",
       "4032                 526428.750  \n",
       "5130                 503110.667  \n",
       "5548                 501117.773  \n",
       "5320                 337666.667  \n",
       "4511                 232558.917  "
      ]
     },
     "execution_count": 51,
     "metadata": {},
     "output_type": "execute_result"
    }
   ],
   "source": [
    "final_rfg = pd.DataFrame({'SalePrice_Actual': y_test, 'SalePrice_Predicted_baseline': y_pred_rfg.round(3), 'SalePrice_Predicted_Tuned': y_pred_rfg_cv_2.round(3)})\n",
    "final_rfg.head(30).sort_values(by='SalePrice_Actual', ascending=False)"
   ]
  },
  {
   "cell_type": "markdown",
   "metadata": {},
   "source": [
    "## 10. Models next step:<a id='10_Models_next_step'></a>\n",
    "\n",
    "Now, after building our 2nd Model: Decision Tree Regression, let's see if we can further improve our prediction using below algorithm:\n",
    "\n",
    " * Gradient-Boosting Regression\n",
    " "
   ]
  },
  {
   "cell_type": "markdown",
   "metadata": {},
   "source": [
    "## 11. Saving our Data<a id='9_Saving_our_data'></a>\n",
    "Finally, let's save our final DataFrame with the new features:\n"
   ]
  },
  {
   "cell_type": "code",
   "execution_count": null,
   "metadata": {},
   "outputs": [],
   "source": [
    "# Saving df_final_v1:\n",
    "df_final_v1.to_csv(path_or_buf = \"path\" + \"/pre_processing_df.csv\", index=False)"
   ]
  },
  {
   "cell_type": "code",
   "execution_count": 1,
   "metadata": {},
   "outputs": [
    {
     "data": {
      "text/html": [
       "<style>.container { width:75% !important; }</style>"
      ],
      "text/plain": [
       "<IPython.core.display.HTML object>"
      ]
     },
     "metadata": {},
     "output_type": "display_data"
    }
   ],
   "source": [
    "from IPython.core.display import display, HTML\n",
    "display(HTML(\"<style>.container { width:75% !important; }</style>\"))"
   ]
  },
  {
   "cell_type": "code",
   "execution_count": null,
   "metadata": {},
   "outputs": [],
   "source": []
  }
 ],
 "metadata": {
  "kernelspec": {
   "display_name": "Python 3",
   "language": "python",
   "name": "python3"
  },
  "language_info": {
   "codemirror_mode": {
    "name": "ipython",
    "version": 3
   },
   "file_extension": ".py",
   "mimetype": "text/x-python",
   "name": "python",
   "nbconvert_exporter": "python",
   "pygments_lexer": "ipython3",
   "version": "3.7.6"
  }
 },
 "nbformat": 4,
 "nbformat_minor": 4
}
