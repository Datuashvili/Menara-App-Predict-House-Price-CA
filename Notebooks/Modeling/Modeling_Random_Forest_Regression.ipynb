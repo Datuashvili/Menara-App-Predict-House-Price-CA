{
 "cells": [
  {
   "cell_type": "markdown",
   "metadata": {},
   "source": [
    "# Modeling: \n",
    "\n",
    "## Random Forests Regression\n",
    "\n",
    "![Modeling](https://user-images.githubusercontent.com/67468718/111879997-1bbd6a80-8966-11eb-92c1-01c38cbdbe4a.JPG)\n",
    "\n"
   ]
  },
  {
   "cell_type": "markdown",
   "metadata": {},
   "source": [
    "## Contents<a id='Contents'></a>\n",
    " * [1. Introduction](#1_Introduction)\n",
    " * [2. Sourcing and Loading](#2_Sourcing_and_Loading)\n",
    "    * [2.1 Import relevant libraries](#2.1_Import_relevant_libraries)\n",
    "    * [2.2 Load the data](#2.2_Load_the_data)\n",
    " * [3. View and Visualize our dependent variable 'price'](#3._View_and_Visualize_our_dependent_variable_price)\n",
    "    * [3.1 View the data](#3.1_View_the_data)\n",
    "    * [3.2 Final Visualization of our dependent Variable 'price'](#3.2_Final_Visualization_of_our_dependent_variable_price)\n",
    " * [4. Features Selection: Define/Select Features](#4_Features_Selection:_Define_Select_Features)\n",
    " * [5. Train/Test Split](#5_Train/Test_Split)\n",
    " * [6. Scaling and Transformation: Standardization](#6_Scaling_and_Transformation:_Standardization)\n",
    " * [7. Modeling: Random Forests Regression](#7_Random_Forests_Regression)\n",
    "    * [7.1 Fitting Random Forests Regression](#7.1_Fitting_Random_Forests_Regression)\n",
    "    * [7.2 Random Forests Regression: Residuals Visualization](#7.2_Random_Forests_Regression:_Residuals_Visualization)\n",
    "    * [7.3 Random Forests Regression Model Evaluation](#7.3_Random_Forests_Regression_Model_Evaluation)\n",
    "    * [7.4 Features Selection](#7.4_Features_Selection)\n",
    "       * [7.4.1 Features Importance](#7.4.1_Features_Importance)\n",
    "       * [7.4.2 Keeping only 'price_per_sqft' and 'sqft'](#7.4.2_Keeping_only_price_per_sqft_and_sqft)\n",
    "       * [7.4.3 Keeping 'price_per_sqft', 'sqft', 'median_income', 'property_type' and 'school_rating'](#7.4.3_Keeping_price_per_sqft_sqft_median_income_property_type_school_rating)    \n",
    "       * [7.4.4 Features Selection Summary](#7.4.4_Features_Selection_Summary)    \n",
    "    * [7.5 Hyperparameters Tuning: RandomizedSearchCV](#7.5_Hyperparameters_Tuning:_RandomizedSearchCV)\n",
    "       * [7.5.1 RandomizedSearchCV for all features](#7.5.1_RandomizedSearchCV_for_all_features)\n",
    "       * [7.5.2 Fitting Random Forests Regression after RandomizedSearchCV (All features)](#7.5.2_Fitting_Random_Forests_Regression_after_RandomizedSearchCV_(All_features))\n",
    "       * [7.5.3 RandomizedSearchCV for most important features: 'sqft' and 'price_per_sqft'](#7.5.3_RandomizedSearchCV_for_most_important_features:_sqft_and_price_per_sqft)\n",
    "       * [7.5.4 Fitting Random Forests Regression after RandomizedSearchCV (most important features)](#7.5.4_Fitting_Random_Forests_Regression_after_RandomizedSearchCV_(most_important_features))\n",
    "       * [7.5.5 RandomizedSearchCV for most important features: 'sqft', 'price_per_sqft', 'property_type', 'school_rating' and 'median_income'](#7.5.5_RandomizedSearchCV_for_most_important_features:_sqft_and_price_per_sqft_property_type_school_rating_median_income)\n",
    "       * [7.5.6 Fitting Random Forests Regression after RandomizedSearchCV (Top-5 Features)](#7.5.6_Fitting_Random_Forests_Regression_after_RandomizedSearchCV_(Top-5_Features))       \n",
    " * [8. Random Forests Regression Tuning Summary](#8_Random_Forests_Regression_Tuning_Summary)\n",
    " * [9. Random Forests Regression Actual vs Prediction Visualization](#9_Random_Forests_Regression_Actual_vs_Prediction_Visualization)\n",
    " * [10. Models next step](#10_Models_next_step)"
   ]
  },
  {
   "cell_type": "markdown",
   "metadata": {},
   "source": [
    "## 1. Introduction<a id='1_Introduction'></a>\n",
    "\n",
    "Here comes the really fun step: modeling! For this step, we'll be:\n",
    " * Training multiple Regression algorithms.\n",
    " * Apply hyperparameters tuning where applicable to ensure every algorithm will result in best prediction possible.\n",
    " * Finally, evaluate these Models.\n",
    "\n",
    "**Regression Models:**\n",
    " * Linear Regression (Baseline Model).\n",
    " * Ridge Regression (L2 Regularization)\n",
    " * Lasso Regression (L1 Regularization)\n",
    " * Decision Trees\n",
    " * Random Forests\n",
    " * GB\n",
    " * XGBoost\n",
    " * Support Vector Regression\n",
    " * Stacking\n",
    " * Neural networks.\n",
    " \n",
    " \n",
    " **In This Notebook, We'll be using Random Forests**\n",
    "\n"
   ]
  },
  {
   "cell_type": "markdown",
   "metadata": {},
   "source": [
    "## 2. Sourcing and Loading<a id='2_Sourcing_and_Loading'></a> \n",
    "\n",
    "### 2.1 Import relevant libraries<a id='2.1_Import_relevant_libraries'></a> "
   ]
  },
  {
   "cell_type": "code",
   "execution_count": 3,
   "metadata": {},
   "outputs": [
    {
     "name": "stdout",
     "output_type": "stream",
     "text": [
      "***Libraries are imported***\n"
     ]
    }
   ],
   "source": [
    "import numpy as np\n",
    "import pandas as pd\n",
    "import matplotlib.pyplot as plt\n",
    "import seaborn as sns\n",
    "import plotly.express as px\n",
    "import os \n",
    "\n",
    "plt.style.use('ggplot')\n",
    "\n",
    "print('***Libraries are imported***')"
   ]
  },
  {
   "cell_type": "markdown",
   "metadata": {},
   "source": [
    "### 2.2 Load the data<a id='2.2_Load_the_data'></a>"
   ]
  },
  {
   "cell_type": "code",
   "execution_count": null,
   "metadata": {},
   "outputs": [],
   "source": [
    "# Check Current Directory:\n",
    "os.getcwd()"
   ]
  },
  {
   "cell_type": "code",
   "execution_count": 5,
   "metadata": {},
   "outputs": [],
   "source": [
    "# Changing the directory:\n",
    "os.chdir(r\"path/Feature_Engineering/datasets\")"
   ]
  },
  {
   "cell_type": "code",
   "execution_count": null,
   "metadata": {},
   "outputs": [],
   "source": [
    "#Confirm the directory:\n",
    "os.getcwd()"
   ]
  },
  {
   "cell_type": "code",
   "execution_count": 7,
   "metadata": {},
   "outputs": [
    {
     "data": {
      "text/plain": [
       "['pre_processing_df.csv']"
      ]
     },
     "execution_count": 7,
     "metadata": {},
     "output_type": "execute_result"
    }
   ],
   "source": [
    "# List files/folders in the cd:\n",
    "os.listdir()"
   ]
  },
  {
   "cell_type": "code",
   "execution_count": 8,
   "metadata": {},
   "outputs": [],
   "source": [
    "df = pd.read_csv('pre_processing_df.csv')"
   ]
  },
  {
   "cell_type": "markdown",
   "metadata": {},
   "source": [
    "## 3. View and Visualize our dependent variable 'price'<a id='3._View_and_Visualize_our_dependent_variable_price'></a>\n",
    "\n",
    "### 3.1 View the data<a id='3.1_View_the_data'></a>"
   ]
  },
  {
   "cell_type": "code",
   "execution_count": 9,
   "metadata": {},
   "outputs": [
    {
     "name": "stdout",
     "output_type": "stream",
     "text": [
      "Final DataFrame 'df' has Rows: 7484 and Columns:  23\n"
     ]
    }
   ],
   "source": [
    "#Let's check the df shape:\n",
    "structure = df.shape\n",
    "print(\"Final DataFrame 'df' has Rows:\", structure[0], \"and Columns: \", structure[1])"
   ]
  },
  {
   "cell_type": "code",
   "execution_count": 10,
   "metadata": {},
   "outputs": [
    {
     "data": {
      "text/html": [
       "<div>\n",
       "<style scoped>\n",
       "    .dataframe tbody tr th:only-of-type {\n",
       "        vertical-align: middle;\n",
       "    }\n",
       "\n",
       "    .dataframe tbody tr th {\n",
       "        vertical-align: top;\n",
       "    }\n",
       "\n",
       "    .dataframe thead th {\n",
       "        text-align: right;\n",
       "    }\n",
       "</style>\n",
       "<table border=\"1\" class=\"dataframe\">\n",
       "  <thead>\n",
       "    <tr style=\"text-align: right;\">\n",
       "      <th></th>\n",
       "      <th>property_type</th>\n",
       "      <th>zipcode</th>\n",
       "      <th>price</th>\n",
       "      <th>beds</th>\n",
       "      <th>baths</th>\n",
       "      <th>sqft</th>\n",
       "      <th>lot_size</th>\n",
       "      <th>days_on_market</th>\n",
       "      <th>price_per_sqft</th>\n",
       "      <th>hoa_month</th>\n",
       "      <th>...</th>\n",
       "      <th>median_income</th>\n",
       "      <th>hotness_score</th>\n",
       "      <th>supply_score</th>\n",
       "      <th>demand_score</th>\n",
       "      <th>university_count</th>\n",
       "      <th>barts</th>\n",
       "      <th>malls</th>\n",
       "      <th>universities</th>\n",
       "      <th>bedBath</th>\n",
       "      <th>AvgRoomSize</th>\n",
       "    </tr>\n",
       "  </thead>\n",
       "  <tbody>\n",
       "    <tr>\n",
       "      <th>0</th>\n",
       "      <td>1</td>\n",
       "      <td>94568</td>\n",
       "      <td>905000</td>\n",
       "      <td>3</td>\n",
       "      <td>4</td>\n",
       "      <td>1994</td>\n",
       "      <td>0</td>\n",
       "      <td>80</td>\n",
       "      <td>454</td>\n",
       "      <td>388.0</td>\n",
       "      <td>...</td>\n",
       "      <td>119637</td>\n",
       "      <td>83.72</td>\n",
       "      <td>94.25</td>\n",
       "      <td>73.19</td>\n",
       "      <td>0</td>\n",
       "      <td>1</td>\n",
       "      <td>0</td>\n",
       "      <td>0</td>\n",
       "      <td>12</td>\n",
       "      <td>284.857</td>\n",
       "    </tr>\n",
       "    <tr>\n",
       "      <th>1</th>\n",
       "      <td>2</td>\n",
       "      <td>94566</td>\n",
       "      <td>645000</td>\n",
       "      <td>2</td>\n",
       "      <td>2</td>\n",
       "      <td>1221</td>\n",
       "      <td>1237</td>\n",
       "      <td>143</td>\n",
       "      <td>528</td>\n",
       "      <td>379.0</td>\n",
       "      <td>...</td>\n",
       "      <td>126782</td>\n",
       "      <td>80.07</td>\n",
       "      <td>79.57</td>\n",
       "      <td>80.57</td>\n",
       "      <td>0</td>\n",
       "      <td>0</td>\n",
       "      <td>1</td>\n",
       "      <td>0</td>\n",
       "      <td>4</td>\n",
       "      <td>305.250</td>\n",
       "    </tr>\n",
       "    <tr>\n",
       "      <th>2</th>\n",
       "      <td>1</td>\n",
       "      <td>94588</td>\n",
       "      <td>940000</td>\n",
       "      <td>4</td>\n",
       "      <td>2</td>\n",
       "      <td>1928</td>\n",
       "      <td>2660</td>\n",
       "      <td>148</td>\n",
       "      <td>488</td>\n",
       "      <td>470.0</td>\n",
       "      <td>...</td>\n",
       "      <td>134451</td>\n",
       "      <td>85.91</td>\n",
       "      <td>87.06</td>\n",
       "      <td>84.76</td>\n",
       "      <td>0</td>\n",
       "      <td>1</td>\n",
       "      <td>1</td>\n",
       "      <td>0</td>\n",
       "      <td>8</td>\n",
       "      <td>321.333</td>\n",
       "    </tr>\n",
       "    <tr>\n",
       "      <th>3</th>\n",
       "      <td>0</td>\n",
       "      <td>94588</td>\n",
       "      <td>1036000</td>\n",
       "      <td>3</td>\n",
       "      <td>2</td>\n",
       "      <td>1355</td>\n",
       "      <td>7708</td>\n",
       "      <td>66</td>\n",
       "      <td>765</td>\n",
       "      <td>33.0</td>\n",
       "      <td>...</td>\n",
       "      <td>134451</td>\n",
       "      <td>85.91</td>\n",
       "      <td>87.06</td>\n",
       "      <td>84.76</td>\n",
       "      <td>0</td>\n",
       "      <td>1</td>\n",
       "      <td>1</td>\n",
       "      <td>0</td>\n",
       "      <td>6</td>\n",
       "      <td>271.000</td>\n",
       "    </tr>\n",
       "    <tr>\n",
       "      <th>4</th>\n",
       "      <td>0</td>\n",
       "      <td>94568</td>\n",
       "      <td>1250000</td>\n",
       "      <td>4</td>\n",
       "      <td>4</td>\n",
       "      <td>3083</td>\n",
       "      <td>3058</td>\n",
       "      <td>143</td>\n",
       "      <td>405</td>\n",
       "      <td>232.0</td>\n",
       "      <td>...</td>\n",
       "      <td>119637</td>\n",
       "      <td>83.72</td>\n",
       "      <td>94.25</td>\n",
       "      <td>73.19</td>\n",
       "      <td>0</td>\n",
       "      <td>1</td>\n",
       "      <td>0</td>\n",
       "      <td>0</td>\n",
       "      <td>16</td>\n",
       "      <td>385.375</td>\n",
       "    </tr>\n",
       "  </tbody>\n",
       "</table>\n",
       "<p>5 rows × 23 columns</p>\n",
       "</div>"
      ],
      "text/plain": [
       "   property_type  zipcode    price  beds  baths  sqft  lot_size  \\\n",
       "0              1    94568   905000     3      4  1994         0   \n",
       "1              2    94566   645000     2      2  1221      1237   \n",
       "2              1    94588   940000     4      2  1928      2660   \n",
       "3              0    94588  1036000     3      2  1355      7708   \n",
       "4              0    94568  1250000     4      4  3083      3058   \n",
       "\n",
       "   days_on_market  price_per_sqft  hoa_month  ...  median_income  \\\n",
       "0              80             454      388.0  ...         119637   \n",
       "1             143             528      379.0  ...         126782   \n",
       "2             148             488      470.0  ...         134451   \n",
       "3              66             765       33.0  ...         134451   \n",
       "4             143             405      232.0  ...         119637   \n",
       "\n",
       "   hotness_score  supply_score  demand_score  university_count  barts  malls  \\\n",
       "0          83.72         94.25         73.19                 0      1      0   \n",
       "1          80.07         79.57         80.57                 0      0      1   \n",
       "2          85.91         87.06         84.76                 0      1      1   \n",
       "3          85.91         87.06         84.76                 0      1      1   \n",
       "4          83.72         94.25         73.19                 0      1      0   \n",
       "\n",
       "   universities  bedBath  AvgRoomSize  \n",
       "0             0       12      284.857  \n",
       "1             0        4      305.250  \n",
       "2             0        8      321.333  \n",
       "3             0        6      271.000  \n",
       "4             0       16      385.375  \n",
       "\n",
       "[5 rows x 23 columns]"
      ]
     },
     "execution_count": 10,
     "metadata": {},
     "output_type": "execute_result"
    }
   ],
   "source": [
    "#Let's check the df shape:\n",
    "df.head()"
   ]
  },
  {
   "cell_type": "code",
   "execution_count": 11,
   "metadata": {},
   "outputs": [
    {
     "data": {
      "text/plain": [
       "count       7484.00\n",
       "mean      887769.19\n",
       "std       387091.45\n",
       "min       165000.00\n",
       "25%       590000.00\n",
       "50%       808000.00\n",
       "75%      1150000.00\n",
       "max      1955000.00\n",
       "Name: price, dtype: float64"
      ]
     },
     "execution_count": 11,
     "metadata": {},
     "output_type": "execute_result"
    }
   ],
   "source": [
    "# Summary Statistics:\n",
    "df.describe()['price'].round(2)"
   ]
  },
  {
   "cell_type": "markdown",
   "metadata": {},
   "source": [
    "### 3.2 Final Visualization of our dependent Variable 'price'<a id='3.2_Final_Visualization_of_our_dependent_variable_price'></a>"
   ]
  },
  {
   "cell_type": "code",
   "execution_count": 12,
   "metadata": {},
   "outputs": [
    {
     "name": "stderr",
     "output_type": "stream",
     "text": [
      "C:\\Users\\aktha\\anaconda3\\lib\\site-packages\\ipykernel_launcher.py:8: UserWarning: FixedFormatter should only be used together with FixedLocator\n",
      "  \n"
     ]
    },
    {
     "data": {
      "image/png": "[encoded data removed]",
      "text/plain": [
       "<Figure size 1728x432 with 1 Axes>"
      ]
     },
     "metadata": {},
     "output_type": "display_data"
    }
   ],
   "source": [
    "# Making a histogram of the price variable and adding average house sale:\n",
    "f, ax = plt.subplots(figsize = (24,6))\n",
    "ax = sns.histplot(x=df['price'], kde=True)\n",
    "ax.axvline(df['price'].mean(), color='red', ls='-', alpha=0.35, lw=10)\n",
    "plt.annotate('Avg House Price = $887,769', xy=(900000, 420), xytext=(950000, 450), arrowprops={'color':'red'}, fontsize=15)\n",
    "ax.set_title('House Prices in North California', fontsize=15)\n",
    "xlabels = ['{:,.0f}'.format(x) + 'K' for x in ax.get_xticks()/1000]\n",
    "ax.set_xticklabels(xlabels)\n",
    "plt.grid(True)"
   ]
  },
  {
   "cell_type": "markdown",
   "metadata": {},
   "source": [
    "## 4. Features Selection: Define/Select Features<a id='4_Features_Selection:_Define/Select_Features'></a>\n"
   ]
  },
  {
   "cell_type": "code",
   "execution_count": 13,
   "metadata": {},
   "outputs": [
    {
     "data": {
      "text/plain": [
       "Index(['property_type', 'zipcode', 'price', 'beds', 'baths', 'sqft',\n",
       "       'lot_size', 'days_on_market', 'price_per_sqft', 'hoa_month',\n",
       "       'property_age', 'school_rating', 'school_count', 'median_income',\n",
       "       'hotness_score', 'supply_score', 'demand_score', 'university_count',\n",
       "       'barts', 'malls', 'universities', 'bedBath', 'AvgRoomSize'],\n",
       "      dtype='object')"
      ]
     },
     "execution_count": 13,
     "metadata": {},
     "output_type": "execute_result"
    }
   ],
   "source": [
    "# let's check our final df columns:\n",
    "df.columns"
   ]
  },
  {
   "cell_type": "code",
   "execution_count": 14,
   "metadata": {},
   "outputs": [],
   "source": [
    "# Let's define/select our features:\n",
    "features = ['property_type', 'zipcode', 'beds', 'baths', 'sqft', 'lot_size', \n",
    "            'days_on_market', 'price_per_sqft', 'hoa_month', 'property_age', \n",
    "            'school_rating', 'school_count', 'median_income', 'hotness_score', \n",
    "            'supply_score', 'demand_score', 'university_count', 'barts', \n",
    "            'malls', 'universities', 'bedBath', 'AvgRoomSize']\n",
    "\n",
    "# And, Now let's define X and y:\n",
    "X = df[features]\n",
    "y = df.price"
   ]
  },
  {
   "cell_type": "markdown",
   "metadata": {},
   "source": [
    "## 5. Train/Test Split<a id='5_Train/Test_Split'></a>\n",
    "\n",
    "Now, let's split our data (X) into training and testing splits, without letting a model learn anything about the test split.\n",
    "\n",
    "let's have 75/25 Train/Test split"
   ]
  },
  {
   "cell_type": "code",
   "execution_count": 15,
   "metadata": {},
   "outputs": [],
   "source": [
    "# Import train_test_split\n",
    "from sklearn.model_selection import train_test_split\n",
    "\n",
    "\n",
    "# Split into train and test sets:\n",
    "X_train, X_test, y_train, y_test = train_test_split(X,\n",
    "                                                    y,\n",
    "                                                    test_size=0.25,\n",
    "                                                    random_state=1981)"
   ]
  },
  {
   "cell_type": "markdown",
   "metadata": {},
   "source": [
    "## 6. Scaling and Transformation: Standardization<a id='6_Scaling_and_Transformation:_Standardization'></a>\n",
    "\n",
    "**Standardization** finds the mean of our data and centers the distribution around it, calculating the number of standard deviations away from the mean each point is. The number of standard deviations are then used as our new values. This centers the data around 0 but technically has no limit to the maximum and minimum values.\n",
    "\n"
   ]
  },
  {
   "cell_type": "code",
   "execution_count": 16,
   "metadata": {},
   "outputs": [],
   "source": [
    "# Import StandardScaler:\n",
    "from sklearn.preprocessing import StandardScaler\n",
    "\n",
    "# Instantiate StandardScaler:\n",
    "scaler = StandardScaler()\n",
    "\n",
    "# Fit & transform  scaler to the data:\n",
    "X_train = scaler.fit_transform(X_train.astype(np.float))\n",
    "X_test = scaler.transform(X_test.astype(np.float))\n"
   ]
  },
  {
   "cell_type": "markdown",
   "metadata": {},
   "source": [
    "## 7. Modeling: Random Forests Regression<a id='7_Random_Forests_Regression'></a>\n",
    "\n",
    "**Random Forest** is an ensemble technique capable of performing both regression and classification tasks with the use of multiple decision trees and a technique called Bootstrap and Aggregation, commonly known as bagging. The basic idea behind this is to combine multiple decision trees in determining the final output rather than relying on individual decision trees.\n",
    "Random Forest has multiple decision trees as base learning models. We randomly perform row sampling and feature sampling from the dataset forming sample datasets for every model. This part is called Bootstrap.\n",
    "\n",
    "A RandomForestRegressor has all the hyperparameters of:\n",
    "  * **DecisionTreeRegressor** (to control how trees are grown).\n",
    "  * **BaggingRegressor** to control the ensemble itself.\n",
    "\n",
    "The Random Forest algorithm introduces extra randomness when growing trees; instead of searching for the very best feature when splitting a node, it searches for the best feature among a random subset of features. This results in a greater tree diversity, which (once again) trades a higher bias for a lower variance, generally yielding an overall better model. \n",
    "\n",
    "\n",
    "**Further Diveristy with Random Forests:**\n",
    "  * Random Forests is an ensemble method that uses a decision tree as a base estimator. \n",
    "  * Each estimator is trained on a different bootstrap sample having the same size as the training set. \n",
    "  * RF introduces further randomization than bagging when training each of the base estimators. \n",
    "  * When each tree is trained, only d features can be sampled at each node without replacement, where d is a number smaller than the total number of features.\n",
    "\n",
    "### 7.1 Fitting  Random Forests Regression<a id='7.1_Fitting_Random_Forests_Regression'></a>\n"
   ]
  },
  {
   "cell_type": "code",
   "execution_count": 17,
   "metadata": {},
   "outputs": [
    {
     "name": "stdout",
     "output_type": "stream",
     "text": [
      "R-Squared coefficient : 99.6786 %\n"
     ]
    }
   ],
   "source": [
    "# Import necessary modules\n",
    "from sklearn.ensemble import RandomForestRegressor\n",
    "\n",
    "# Create a RandomForestRegressor: rfg\n",
    "# Default: max_depth=None, n_estimators=100\n",
    "rfg = RandomForestRegressor(random_state=1981) \n",
    "\n",
    "# Fit the regressor to the training data\n",
    "rfg.fit(X_train, y_train)\n",
    "\n",
    "# Evaluate the model: R-Squared coefficient\n",
    "print(\"R-Squared coefficient : {:.4f}\".format(rfg.score(X_test, y_test) * 100), '%')"
   ]
  },
  {
   "cell_type": "markdown",
   "metadata": {},
   "source": [
    "Random Forests R-Squared coefficient is clearly higher 99.6786 % compared to all previous regression Models (Linear, Ridge, Lasso and Decision Tree)."
   ]
  },
  {
   "cell_type": "code",
   "execution_count": 18,
   "metadata": {},
   "outputs": [],
   "source": [
    "# Predict on the test data: y_pred_dtg\n",
    "y_pred_rfg = rfg.predict(X_test)"
   ]
  },
  {
   "cell_type": "markdown",
   "metadata": {},
   "source": [
    "### 7.2 Random Forests Regression: Residuals Visualization<a id='7.2_Random_Forests_Regression:_Residuals_Visualization'></a>"
   ]
  },
  {
   "cell_type": "code",
   "execution_count": 19,
   "metadata": {},
   "outputs": [
    {
     "name": "stderr",
     "output_type": "stream",
     "text": [
      "C:\\Users\\aktha\\anaconda3\\lib\\site-packages\\seaborn\\distributions.py:2551: FutureWarning: `distplot` is a deprecated function and will be removed in a future version. Please adapt your code to use either `displot` (a figure-level function with similar flexibility) or `histplot` (an axes-level function for histograms).\n",
      "  warnings.warn(msg, FutureWarning)\n"
     ]
    },
    {
     "data": {
      "text/plain": [
       "<AxesSubplot:xlabel='price', ylabel='Density'>"
      ]
     },
     "execution_count": 19,
     "metadata": {},
     "output_type": "execute_result"
    },
    {
     "data": {
      "image/png": "[encoded data removed]",
      "text/plain": [
       "<Figure size 720x360 with 1 Axes>"
      ]
     },
     "metadata": {},
     "output_type": "display_data"
    }
   ],
   "source": [
    "# visualizing residuals\n",
    "fig = plt.figure(figsize=(10, 5))\n",
    "residuals = (y_test-y_pred_rfg)\n",
    "sns.distplot(residuals)"
   ]
  },
  {
   "cell_type": "markdown",
   "metadata": {},
   "source": [
    "As we can see above by visualizing the residual we can see that is normally distributed which is a good indication that we're having a linear relationship with our dependent variable 'price'."
   ]
  },
  {
   "cell_type": "markdown",
   "metadata": {},
   "source": [
    "### 7.3 Random Forests Regression Model Evaluation<a id='7.3_Random_Forests_Regression_Model_Evaluation'></a>"
   ]
  },
  {
   "cell_type": "code",
   "execution_count": 20,
   "metadata": {},
   "outputs": [
    {
     "name": "stdout",
     "output_type": "stream",
     "text": [
      "********Random Forests Regression Model Evaluation********\n",
      "-------------------------------------------------\n",
      "Random Forests Regression - r2 Score: 99.6786 %\n",
      "-------------------------------------------------\n",
      "Random Forests Regression - MAE: 9767.2155\n",
      "-------------------------------------------------\n",
      "Random Forests Regression - MSE:474838904.0747\n",
      "-------------------------------------------------\n",
      "Random Forestse Regression - RMSE:21790.7986\n",
      "-------------------------------------------------\n",
      "Random Forests Regression - Variance Score:99.6789 %\n",
      "-------------------------------------------------\n"
     ]
    }
   ],
   "source": [
    "from sklearn import metrics\n",
    "\n",
    "print(\"********Random Forests Regression Model Evaluation********\")\n",
    "print(\"-------------------------------------------------\")\n",
    "print(\"Random Forests Regression - r2 Score: {:.4f}\".format(metrics.r2_score(y_test, y_pred_rfg) * 100), '%')\n",
    "print(\"-------------------------------------------------\")\n",
    "print(\"Random Forests Regression - MAE: {:.4f}\".format(metrics.mean_absolute_error(y_test, y_pred_rfg)))\n",
    "print(\"-------------------------------------------------\")\n",
    "print(\"Random Forests Regression - MSE:{:.4f}\".format(metrics.mean_squared_error(y_test, y_pred_rfg)))\n",
    "print(\"-------------------------------------------------\")\n",
    "print(\"Random Forestse Regression - RMSE:{:.4f}\".format(np.sqrt(metrics.mean_squared_error(y_test, y_pred_rfg))))\n",
    "print(\"-------------------------------------------------\")\n",
    "print(\"Random Forests Regression - Variance Score:{:.4f}\".format( metrics.explained_variance_score(y_test, y_pred_rfg) * 100), '%')\n",
    "print(\"-------------------------------------------------\")"
   ]
  },
  {
   "cell_type": "markdown",
   "metadata": {},
   "source": [
    "As we can see, the value of **root mean squared error (RMSE) is 21,790.7986**, which is slightly less than 2.5% of the mean value of the Sales Price i.e.  $887,769.19. also, we have very good variance score at 99.6789%. \n",
    "\n",
    "This mean that our base Random Forest Regression Model is performing way much better than Linear, Ridge, lasso and Decision Tree Regression Models.\n"
   ]
  },
  {
   "cell_type": "markdown",
   "metadata": {},
   "source": [
    "### 7.4 Features Selection<a id='7.4_Features_Selection'></a>\n",
    "\n",
    "As shown below let's try to improve predictions by keeping high importants features only: \n",
    "\n",
    "#### 7.4.1 Features Importance<a id='7.4.1_Features_Importance'></a> \n"
   ]
  },
  {
   "cell_type": "code",
   "execution_count": 21,
   "metadata": {},
   "outputs": [
    {
     "data": {
      "image/png": "[encoded data removed]",
      "text/plain": [
       "<Figure size 720x576 with 1 Axes>"
      ]
     },
     "metadata": {},
     "output_type": "display_data"
    }
   ],
   "source": [
    "# First, let's create a pd.Series of features importances\n",
    "importances_rfg = pd.Series(data=rfg.feature_importances_, index=X.columns)\n",
    "\n",
    "# Sort importances\n",
    "importances_sorted = importances_rfg.sort_values()\n",
    "\n",
    "# Draw a horizontal barplot of importances_sorted\n",
    "plt.figure(figsize=(10, 8))\n",
    "importances_sorted.plot(kind='barh', color='green')\n",
    "plt.title('Features Importances - Random Forests Regression - Base Model')\n",
    "plt.grid(True)\n",
    "plt.show()"
   ]
  },
  {
   "cell_type": "markdown",
   "metadata": {},
   "source": [
    "**Dropping Features:**\n",
    " * As shown above, the high important features are only: 'price_per_sqft' and 'sqft' so as a first step let's keep them and drop the remaining features.\n",
    " * Second, let's keep  'price_per_sqft', 'sqft', 'median_income', 'property_type' and'school_rating'.\n",
    "\n",
    " \n",
    "#### 7.4.2 Keeping only 'price_per_sqft' and 'sqft'<a id='7.4.2_Keeping_only_price_per_sqft_and_sqft'></a> "
   ]
  },
  {
   "cell_type": "code",
   "execution_count": 22,
   "metadata": {},
   "outputs": [],
   "source": [
    "# So Now, Let's re define/select our features and keep only high Coefficients:\n",
    "# let's keep only  'sqft', 'price_per_sqft':\n",
    "features = ['sqft', 'price_per_sqft']\n",
    "\n",
    "# And, Now let's define X and y:\n",
    "X = df[features]\n",
    "y = df.price"
   ]
  },
  {
   "cell_type": "code",
   "execution_count": 23,
   "metadata": {},
   "outputs": [],
   "source": [
    "# Import train_test_split\n",
    "from sklearn.model_selection import train_test_split\n",
    "\n",
    "\n",
    "# Split into train and test sets:\n",
    "X_train, X_test, y_train, y_test = train_test_split(X,\n",
    "                                                    y,\n",
    "                                                    test_size=0.25,\n",
    "                                                    random_state=1981)"
   ]
  },
  {
   "cell_type": "code",
   "execution_count": 24,
   "metadata": {},
   "outputs": [],
   "source": [
    "# Import StandardScaler:\n",
    "from sklearn.preprocessing import StandardScaler\n",
    "\n",
    "# Instantiate StandardScaler:\n",
    "scaler = StandardScaler()\n",
    "\n",
    "# Fit & transform  scaler to the data:\n",
    "X_train = scaler.fit_transform(X_train.astype(np.float))\n",
    "X_test = scaler.transform(X_test.astype(np.float))"
   ]
  },
  {
   "cell_type": "code",
   "execution_count": 25,
   "metadata": {},
   "outputs": [
    {
     "name": "stdout",
     "output_type": "stream",
     "text": [
      "R-Squared coefficient : 99.8165 %\n"
     ]
    }
   ],
   "source": [
    "# Create a RandomForestRegressor: rfg_2\n",
    "# Default: max_depth=None, n_estimators=100\n",
    "rfg_2 = RandomForestRegressor(random_state=1981) \n",
    "\n",
    "# Fit the regressor to the training data\n",
    "rfg_2.fit(X_train, y_train)\n",
    "\n",
    "# Evaluate the model: R-Squared coefficient\n",
    "print(\"R-Squared coefficient : {:.4f}\".format(rfg_2.score(X_test, y_test) * 100), '%')\n",
    "\n",
    "# Predict on the test data: y_pred_rfg_2\n",
    "y_pred_rfg_2 = rfg_2.predict(X_test)"
   ]
  },
  {
   "cell_type": "code",
   "execution_count": 26,
   "metadata": {},
   "outputs": [
    {
     "name": "stdout",
     "output_type": "stream",
     "text": [
      "********Tuned Random Forests Regression Model Evaluation********\n",
      "-------------------------------------------------------\n",
      "Tuned Random Forests Regression - r2 Score: 99.8165 %\n",
      "-------------------------------------------------------\n",
      "Tuned Random Forests Regression - MAE: 6530.7833\n",
      "-------------------------------------------------------\n",
      "Tuned Random Forests Regression - MSE:271089597.6564\n",
      "-------------------------------------------------------\n",
      "Tuned Random Forests Regression - RMSE:16464.7987\n",
      "-------------------------------------------------------\n",
      "Tuned Random Forests Regression - Variance Score:99.8168 %\n",
      "-------------------------------------------------------\n"
     ]
    }
   ],
   "source": [
    "print(\"********Tuned Random Forests Regression Model Evaluation********\")\n",
    "print(\"-------------------------------------------------------\")\n",
    "print(\"Tuned Random Forests Regression - r2 Score: {:.4f}\".format(metrics.r2_score(y_test, y_pred_rfg_2) * 100), '%')\n",
    "print(\"-------------------------------------------------------\")\n",
    "print(\"Tuned Random Forests Regression - MAE: {:.4f}\".format(metrics.mean_absolute_error(y_test, y_pred_rfg_2)))\n",
    "print(\"-------------------------------------------------------\")\n",
    "print(\"Tuned Random Forests Regression - MSE:{:.4f}\".format(metrics.mean_squared_error(y_test, y_pred_rfg_2)))\n",
    "print(\"-------------------------------------------------------\")\n",
    "print(\"Tuned Random Forests Regression - RMSE:{:.4f}\".format(np.sqrt(metrics.mean_squared_error(y_test, y_pred_rfg_2))))\n",
    "print(\"-------------------------------------------------------\")\n",
    "print(\"Tuned Random Forests Regression - Variance Score:{:.4f}\".format( metrics.explained_variance_score(y_test, y_pred_rfg_2) * 100), '%')\n",
    "print(\"-------------------------------------------------------\")"
   ]
  },
  {
   "cell_type": "markdown",
   "metadata": {},
   "source": [
    "#### 7.4.3 Keeping 'price_per_sqft', 'sqft', 'median_income', 'property_type' and 'school_rating'<a id='7.4.3_Keeping_price_per_sqft_sqft_median_income_property_type_school_rating'></a> "
   ]
  },
  {
   "cell_type": "code",
   "execution_count": 27,
   "metadata": {},
   "outputs": [
    {
     "data": {
      "text/plain": [
       "Index(['property_type', 'zipcode', 'price', 'beds', 'baths', 'sqft',\n",
       "       'lot_size', 'days_on_market', 'price_per_sqft', 'hoa_month',\n",
       "       'property_age', 'school_rating', 'school_count', 'median_income',\n",
       "       'hotness_score', 'supply_score', 'demand_score', 'university_count',\n",
       "       'barts', 'malls', 'universities', 'bedBath', 'AvgRoomSize'],\n",
       "      dtype='object')"
      ]
     },
     "execution_count": 27,
     "metadata": {},
     "output_type": "execute_result"
    }
   ],
   "source": [
    "df.columns"
   ]
  },
  {
   "cell_type": "code",
   "execution_count": 28,
   "metadata": {},
   "outputs": [],
   "source": [
    "# So Now, Let's re define/select our features and keep only high Coefficients:\n",
    "# let's keep only  'price_per_sqft', 'sqft', 'median_income', 'property_type' and 'school_rating':\n",
    "features = ['sqft', 'price_per_sqft', 'property_type', \n",
    "            'school_rating', 'median_income']\n",
    "\n",
    "# And, Now let's define X and y:\n",
    "X = df[features]\n",
    "y = df.price"
   ]
  },
  {
   "cell_type": "code",
   "execution_count": 29,
   "metadata": {},
   "outputs": [],
   "source": [
    "# Import train_test_split\n",
    "from sklearn.model_selection import train_test_split\n",
    "\n",
    "\n",
    "# Split into train and test sets:\n",
    "X_train, X_test, y_train, y_test = train_test_split(X,\n",
    "                                                    y,\n",
    "                                                    test_size=0.25,\n",
    "                                                    random_state=1981)"
   ]
  },
  {
   "cell_type": "code",
   "execution_count": 30,
   "metadata": {},
   "outputs": [
    {
     "name": "stdout",
     "output_type": "stream",
     "text": [
      "R-Squared coefficient : 99.7714 %\n"
     ]
    }
   ],
   "source": [
    "# Create a RandomForestRegressor: rfg_5\n",
    "# Default: max_depth=None, n_estimators=100\n",
    "rfg_5 = RandomForestRegressor(random_state=1981) \n",
    "\n",
    "# Fit the regressor to the training data\n",
    "rfg_5.fit(X_train, y_train)\n",
    "\n",
    "# Evaluate the model: R-Squared coefficient\n",
    "print(\"R-Squared coefficient : {:.4f}\".format(rfg_5.score(X_test, y_test) * 100), '%')\n",
    "\n",
    "# Predict on the test data: y_pred_rfg_5\n",
    "y_pred_rfg_5 = rfg_5.predict(X_test)"
   ]
  },
  {
   "cell_type": "code",
   "execution_count": 31,
   "metadata": {},
   "outputs": [
    {
     "name": "stdout",
     "output_type": "stream",
     "text": [
      "********Tuned_5 Random Forests Regression Model Evaluation********\n",
      "-------------------------------------------------------\n",
      "Tuned_5 Random Forests Regression - r2 Score: 99.7714 %\n",
      "-------------------------------------------------------\n",
      "Tuned_5 Random Forests Regression - MAE: 7679.2312\n",
      "-------------------------------------------------------\n",
      "Tuned_5 Random Forests Regression - MSE:337800382.4367\n",
      "-------------------------------------------------------\n",
      "Tuned_5 Random Forests Regression - RMSE:18379.3466\n",
      "-------------------------------------------------------\n",
      "Tuned_5 Random Forests Regression - Variance Score:99.7718 %\n",
      "-------------------------------------------------------\n"
     ]
    }
   ],
   "source": [
    "print(\"********Tuned_5 Random Forests Regression Model Evaluation********\")\n",
    "print(\"-------------------------------------------------------\")\n",
    "print(\"Tuned_5 Random Forests Regression - r2 Score: {:.4f}\".format(metrics.r2_score(y_test, y_pred_rfg_5) * 100), '%')\n",
    "print(\"-------------------------------------------------------\")\n",
    "print(\"Tuned_5 Random Forests Regression - MAE: {:.4f}\".format(metrics.mean_absolute_error(y_test, y_pred_rfg_5)))\n",
    "print(\"-------------------------------------------------------\")\n",
    "print(\"Tuned_5 Random Forests Regression - MSE:{:.4f}\".format(metrics.mean_squared_error(y_test, y_pred_rfg_5)))\n",
    "print(\"-------------------------------------------------------\")\n",
    "print(\"Tuned_5 Random Forests Regression - RMSE:{:.4f}\".format(np.sqrt(metrics.mean_squared_error(y_test, y_pred_rfg_5))))\n",
    "print(\"-------------------------------------------------------\")\n",
    "print(\"Tuned_5 Random Forests Regression - Variance Score:{:.4f}\".format( metrics.explained_variance_score(y_test, y_pred_rfg_5) * 100), '%')\n",
    "print(\"-------------------------------------------------------\")"
   ]
  },
  {
   "cell_type": "markdown",
   "metadata": {},
   "source": [
    "#### 7.4.4 Features Selection Summary<a id='7.4.4_Features_Selection_Summary'></a>\n",
    "\n",
    "As we can see below, when we're keeping 2 features ('sqft', 'price_per_sqft'): we're seeing the best Result for Random Forests Regression:\n",
    "\n",
    "|Features Selection| r2 Score|    MAE  | MSE  | RMSE|Variance Score|\n",
    "|:----------------------|:-------:|:-------:|:----:|:----:|:----:|\n",
    "|Baseline (all features)|99.6786 %|9767.2155|474838904.0747|21790.7986|99.6789 %|\n",
    "|Keeping 2 features (Most Important)    |99.8165 %|6530.7833|271089597.6564|16464.7987|99.8168 %|\n",
    "|Keeping 5 features    |99.7714  %|17679.2312|337800382.4367|18379.3466|99.7718 %|"
   ]
  },
  {
   "cell_type": "markdown",
   "metadata": {},
   "source": [
    "### 7.5 Hyperparameters Tuning: RandomizedSearchCV<a id='7.5_Hyperparameters_Tuning:_RandomizedSearchCV'></a>\n",
    "\n",
    "#### 7.5.1 RandomizedSearchCV for all features:<a id='7.5.1_RandomizedSearchCV_for_all_features'></a>"
   ]
  },
  {
   "cell_type": "code",
   "execution_count": 32,
   "metadata": {},
   "outputs": [],
   "source": [
    "# Let's define/select our features:\n",
    "features = ['property_type', 'zipcode', 'beds', 'baths', 'sqft', 'lot_size', \n",
    "            'days_on_market', 'price_per_sqft', 'hoa_month', 'property_age', \n",
    "            'school_rating', 'school_count', 'median_income', 'hotness_score', \n",
    "            'supply_score', 'demand_score', 'university_count', 'barts', \n",
    "            'malls', 'universities', 'bedBath', 'AvgRoomSize']\n",
    "\n",
    "# And, Now let's define X and y:\n",
    "X = df[features]\n",
    "y = df.price\n",
    "\n",
    "# Import train_test_split\n",
    "from sklearn.model_selection import train_test_split\n",
    "\n",
    "\n",
    "# Split into train and test sets:\n",
    "X_train, X_test, y_train, y_test = train_test_split(X,\n",
    "                                                    y,\n",
    "                                                    test_size=0.25,\n",
    "                                                    random_state=1981)\n",
    "\n",
    "# Import StandardScaler:\n",
    "from sklearn.preprocessing import StandardScaler\n",
    "\n",
    "# Instantiate StandardScaler:\n",
    "scaler = StandardScaler()\n",
    "\n",
    "# Fit & transform  scaler to the data:\n",
    "X_train = scaler.fit_transform(X_train.astype(np.float))\n",
    "X_test = scaler.transform(X_test.astype(np.float))"
   ]
  },
  {
   "cell_type": "code",
   "execution_count": 33,
   "metadata": {
    "scrolled": false
   },
   "outputs": [
    {
     "name": "stdout",
     "output_type": "stream",
     "text": [
      "Fitting 3 folds for each of 300 candidates, totalling 900 fits\n"
     ]
    },
    {
     "data": {
      "text/plain": [
       "RandomizedSearchCV(cv=3, estimator=RandomForestRegressor(random_state=1981),\n",
       "                   n_iter=300, n_jobs=-1,\n",
       "                   param_distributions=[{'max_depth': range(2, 32, 2),\n",
       "                                         'min_samples_leaf': range(1, 35, 5),\n",
       "                                         'min_samples_split': range(2, 32, 2),\n",
       "                                         'n_estimators': range(50, 550, 50)}],\n",
       "                   return_train_score=True, scoring='neg_mean_squared_error',\n",
       "                   verbose=2)"
      ]
     },
     "execution_count": 33,
     "metadata": {},
     "output_type": "execute_result"
    }
   ],
   "source": [
    "# Import necessary modules\n",
    "from sklearn.model_selection import GridSearchCV, RandomizedSearchCV\n",
    "\n",
    "max_depth = range(2, 32, 2)\n",
    "n_estimators = range(50, 550, 50)\n",
    "min_samples_split = range(2, 32, 2)\n",
    "min_samples_leaf = range(1, 35, 5)\n",
    "\n",
    "\n",
    "# Set the parameters by cross-validation\n",
    "params = [{'max_depth': max_depth,\n",
    "          'n_estimators': n_estimators,\n",
    "          'min_samples_split' : min_samples_split,\n",
    "          'min_samples_leaf' : min_samples_leaf}]\n",
    "\n",
    "# Create a RandomForestRegressor regressor: rfg_search_1\n",
    "rfg_search_1 = RandomForestRegressor(random_state=1981) \n",
    "\n",
    "#cross validation\n",
    "folds = 3\n",
    "\n",
    "# Setup the RandomizedSearchCV object: rfg_cv_all\n",
    "rfg_cv_all = RandomizedSearchCV(estimator = rfg_search_1, \n",
    "                               param_distributions = params, \n",
    "                               scoring= 'neg_mean_squared_error', \n",
    "                               n_iter = 300, cv = folds, n_jobs=-1,\n",
    "                               return_train_score=True, verbose = 2)   \n",
    "\n",
    "# Fit it to the training data\n",
    "rfg_cv_all.fit(X_train, y_train)\n",
    "\n"
   ]
  },
  {
   "cell_type": "code",
   "execution_count": 34,
   "metadata": {},
   "outputs": [
    {
     "name": "stdout",
     "output_type": "stream",
     "text": [
      "Tuned Random Forest Regression Parameters: {'n_estimators': 500, 'min_samples_split': 2, 'min_samples_leaf': 1, 'max_depth': 30}\n",
      "Tuned Random Forest - Best neg_mean_squared_error Score is -1357775017.1002\n"
     ]
    }
   ],
   "source": [
    "#checking the value of optimum number of parameters\n",
    "print(\"Tuned Random Forest Regression Parameters: {}\".format(rfg_cv_all.best_params_))\n",
    "print(\"Tuned Random Forest - Best neg_mean_squared_error Score is {:.4f}\".format(rfg_cv_all.best_score_))"
   ]
  },
  {
   "cell_type": "code",
   "execution_count": 35,
   "metadata": {},
   "outputs": [
    {
     "data": {
      "text/html": [
       "<div>\n",
       "<style scoped>\n",
       "    .dataframe tbody tr th:only-of-type {\n",
       "        vertical-align: middle;\n",
       "    }\n",
       "\n",
       "    .dataframe tbody tr th {\n",
       "        vertical-align: top;\n",
       "    }\n",
       "\n",
       "    .dataframe thead th {\n",
       "        text-align: right;\n",
       "    }\n",
       "</style>\n",
       "<table border=\"1\" class=\"dataframe\">\n",
       "  <thead>\n",
       "    <tr style=\"text-align: right;\">\n",
       "      <th></th>\n",
       "      <th>count</th>\n",
       "      <th>mean</th>\n",
       "      <th>std</th>\n",
       "      <th>min</th>\n",
       "      <th>25%</th>\n",
       "      <th>50%</th>\n",
       "      <th>75%</th>\n",
       "      <th>max</th>\n",
       "    </tr>\n",
       "  </thead>\n",
       "  <tbody>\n",
       "    <tr>\n",
       "      <th>mean_fit_time</th>\n",
       "      <td>300.0</td>\n",
       "      <td>6.060000e+00</td>\n",
       "      <td>3.740000e+00</td>\n",
       "      <td>4.100000e-01</td>\n",
       "      <td>2.910000e+00</td>\n",
       "      <td>5.480000e+00</td>\n",
       "      <td>8.910000e+00</td>\n",
       "      <td>2.097000e+01</td>\n",
       "    </tr>\n",
       "    <tr>\n",
       "      <th>std_fit_time</th>\n",
       "      <td>300.0</td>\n",
       "      <td>1.000000e-01</td>\n",
       "      <td>9.000000e-02</td>\n",
       "      <td>0.000000e+00</td>\n",
       "      <td>4.000000e-02</td>\n",
       "      <td>8.000000e-02</td>\n",
       "      <td>1.600000e-01</td>\n",
       "      <td>4.200000e-01</td>\n",
       "    </tr>\n",
       "    <tr>\n",
       "      <th>mean_score_time</th>\n",
       "      <td>300.0</td>\n",
       "      <td>9.000000e-02</td>\n",
       "      <td>5.000000e-02</td>\n",
       "      <td>1.000000e-02</td>\n",
       "      <td>5.000000e-02</td>\n",
       "      <td>9.000000e-02</td>\n",
       "      <td>1.300000e-01</td>\n",
       "      <td>2.700000e-01</td>\n",
       "    </tr>\n",
       "    <tr>\n",
       "      <th>std_score_time</th>\n",
       "      <td>300.0</td>\n",
       "      <td>0.000000e+00</td>\n",
       "      <td>0.000000e+00</td>\n",
       "      <td>0.000000e+00</td>\n",
       "      <td>0.000000e+00</td>\n",
       "      <td>0.000000e+00</td>\n",
       "      <td>1.000000e-02</td>\n",
       "      <td>3.000000e-02</td>\n",
       "    </tr>\n",
       "    <tr>\n",
       "      <th>split0_test_score</th>\n",
       "      <td>300.0</td>\n",
       "      <td>-7.830207e+09</td>\n",
       "      <td>1.274383e+10</td>\n",
       "      <td>-5.748194e+10</td>\n",
       "      <td>-5.887921e+09</td>\n",
       "      <td>-4.326594e+09</td>\n",
       "      <td>-2.603212e+09</td>\n",
       "      <td>-1.124841e+09</td>\n",
       "    </tr>\n",
       "    <tr>\n",
       "      <th>split1_test_score</th>\n",
       "      <td>300.0</td>\n",
       "      <td>-7.169017e+09</td>\n",
       "      <td>1.232897e+10</td>\n",
       "      <td>-5.488871e+10</td>\n",
       "      <td>-4.883016e+09</td>\n",
       "      <td>-3.550959e+09</td>\n",
       "      <td>-2.249080e+09</td>\n",
       "      <td>-1.493560e+09</td>\n",
       "    </tr>\n",
       "    <tr>\n",
       "      <th>split2_test_score</th>\n",
       "      <td>300.0</td>\n",
       "      <td>-7.047426e+09</td>\n",
       "      <td>1.091810e+10</td>\n",
       "      <td>-4.961456e+10</td>\n",
       "      <td>-5.351436e+09</td>\n",
       "      <td>-3.987373e+09</td>\n",
       "      <td>-2.507330e+09</td>\n",
       "      <td>-1.416594e+09</td>\n",
       "    </tr>\n",
       "    <tr>\n",
       "      <th>mean_test_score</th>\n",
       "      <td>300.0</td>\n",
       "      <td>-7.348884e+09</td>\n",
       "      <td>1.199517e+10</td>\n",
       "      <td>-5.378265e+10</td>\n",
       "      <td>-5.378302e+09</td>\n",
       "      <td>-3.950665e+09</td>\n",
       "      <td>-2.443717e+09</td>\n",
       "      <td>-1.357775e+09</td>\n",
       "    </tr>\n",
       "    <tr>\n",
       "      <th>std_test_score</th>\n",
       "      <td>300.0</td>\n",
       "      <td>4.785813e+08</td>\n",
       "      <td>7.366961e+08</td>\n",
       "      <td>1.539393e+07</td>\n",
       "      <td>1.728944e+08</td>\n",
       "      <td>3.292580e+08</td>\n",
       "      <td>4.227808e+08</td>\n",
       "      <td>3.520968e+09</td>\n",
       "    </tr>\n",
       "    <tr>\n",
       "      <th>rank_test_score</th>\n",
       "      <td>300.0</td>\n",
       "      <td>1.497500e+02</td>\n",
       "      <td>8.643000e+01</td>\n",
       "      <td>1.000000e+00</td>\n",
       "      <td>7.575000e+01</td>\n",
       "      <td>1.495000e+02</td>\n",
       "      <td>2.250000e+02</td>\n",
       "      <td>3.000000e+02</td>\n",
       "    </tr>\n",
       "    <tr>\n",
       "      <th>split0_train_score</th>\n",
       "      <td>300.0</td>\n",
       "      <td>-6.549478e+09</td>\n",
       "      <td>1.237739e+10</td>\n",
       "      <td>-5.528185e+10</td>\n",
       "      <td>-4.563055e+09</td>\n",
       "      <td>-3.112925e+09</td>\n",
       "      <td>-1.631007e+09</td>\n",
       "      <td>-2.088586e+08</td>\n",
       "    </tr>\n",
       "    <tr>\n",
       "      <th>split1_train_score</th>\n",
       "      <td>300.0</td>\n",
       "      <td>-6.389216e+09</td>\n",
       "      <td>1.202671e+10</td>\n",
       "      <td>-5.291778e+10</td>\n",
       "      <td>-4.457435e+09</td>\n",
       "      <td>-3.090795e+09</td>\n",
       "      <td>-1.555263e+09</td>\n",
       "      <td>-1.537470e+08</td>\n",
       "    </tr>\n",
       "    <tr>\n",
       "      <th>split2_train_score</th>\n",
       "      <td>300.0</td>\n",
       "      <td>-6.129977e+09</td>\n",
       "      <td>1.126726e+10</td>\n",
       "      <td>-5.035010e+10</td>\n",
       "      <td>-4.318600e+09</td>\n",
       "      <td>-2.980779e+09</td>\n",
       "      <td>-1.554081e+09</td>\n",
       "      <td>-1.610883e+08</td>\n",
       "    </tr>\n",
       "    <tr>\n",
       "      <th>mean_train_score</th>\n",
       "      <td>300.0</td>\n",
       "      <td>-6.356224e+09</td>\n",
       "      <td>1.188969e+10</td>\n",
       "      <td>-5.257623e+10</td>\n",
       "      <td>-4.452236e+09</td>\n",
       "      <td>-3.062030e+09</td>\n",
       "      <td>-1.576012e+09</td>\n",
       "      <td>-1.745646e+08</td>\n",
       "    </tr>\n",
       "    <tr>\n",
       "      <th>std_train_score</th>\n",
       "      <td>300.0</td>\n",
       "      <td>2.001205e+08</td>\n",
       "      <td>4.717642e+08</td>\n",
       "      <td>3.186610e+06</td>\n",
       "      <td>4.505885e+07</td>\n",
       "      <td>6.686046e+07</td>\n",
       "      <td>8.473426e+07</td>\n",
       "      <td>2.232449e+09</td>\n",
       "    </tr>\n",
       "  </tbody>\n",
       "</table>\n",
       "</div>"
      ],
      "text/plain": [
       "                    count          mean           std           min  \\\n",
       "mean_fit_time       300.0  6.060000e+00  3.740000e+00  4.100000e-01   \n",
       "std_fit_time        300.0  1.000000e-01  9.000000e-02  0.000000e+00   \n",
       "mean_score_time     300.0  9.000000e-02  5.000000e-02  1.000000e-02   \n",
       "std_score_time      300.0  0.000000e+00  0.000000e+00  0.000000e+00   \n",
       "split0_test_score   300.0 -7.830207e+09  1.274383e+10 -5.748194e+10   \n",
       "split1_test_score   300.0 -7.169017e+09  1.232897e+10 -5.488871e+10   \n",
       "split2_test_score   300.0 -7.047426e+09  1.091810e+10 -4.961456e+10   \n",
       "mean_test_score     300.0 -7.348884e+09  1.199517e+10 -5.378265e+10   \n",
       "std_test_score      300.0  4.785813e+08  7.366961e+08  1.539393e+07   \n",
       "rank_test_score     300.0  1.497500e+02  8.643000e+01  1.000000e+00   \n",
       "split0_train_score  300.0 -6.549478e+09  1.237739e+10 -5.528185e+10   \n",
       "split1_train_score  300.0 -6.389216e+09  1.202671e+10 -5.291778e+10   \n",
       "split2_train_score  300.0 -6.129977e+09  1.126726e+10 -5.035010e+10   \n",
       "mean_train_score    300.0 -6.356224e+09  1.188969e+10 -5.257623e+10   \n",
       "std_train_score     300.0  2.001205e+08  4.717642e+08  3.186610e+06   \n",
       "\n",
       "                             25%           50%           75%           max  \n",
       "mean_fit_time       2.910000e+00  5.480000e+00  8.910000e+00  2.097000e+01  \n",
       "std_fit_time        4.000000e-02  8.000000e-02  1.600000e-01  4.200000e-01  \n",
       "mean_score_time     5.000000e-02  9.000000e-02  1.300000e-01  2.700000e-01  \n",
       "std_score_time      0.000000e+00  0.000000e+00  1.000000e-02  3.000000e-02  \n",
       "split0_test_score  -5.887921e+09 -4.326594e+09 -2.603212e+09 -1.124841e+09  \n",
       "split1_test_score  -4.883016e+09 -3.550959e+09 -2.249080e+09 -1.493560e+09  \n",
       "split2_test_score  -5.351436e+09 -3.987373e+09 -2.507330e+09 -1.416594e+09  \n",
       "mean_test_score    -5.378302e+09 -3.950665e+09 -2.443717e+09 -1.357775e+09  \n",
       "std_test_score      1.728944e+08  3.292580e+08  4.227808e+08  3.520968e+09  \n",
       "rank_test_score     7.575000e+01  1.495000e+02  2.250000e+02  3.000000e+02  \n",
       "split0_train_score -4.563055e+09 -3.112925e+09 -1.631007e+09 -2.088586e+08  \n",
       "split1_train_score -4.457435e+09 -3.090795e+09 -1.555263e+09 -1.537470e+08  \n",
       "split2_train_score -4.318600e+09 -2.980779e+09 -1.554081e+09 -1.610883e+08  \n",
       "mean_train_score   -4.452236e+09 -3.062030e+09 -1.576012e+09 -1.745646e+08  \n",
       "std_train_score     4.505885e+07  6.686046e+07  8.473426e+07  2.232449e+09  "
      ]
     },
     "execution_count": 35,
     "metadata": {},
     "output_type": "execute_result"
    }
   ],
   "source": [
    "cv_results = pd.DataFrame(rfg_cv_all.cv_results_)\n",
    "cv_results.describe().T.round(2)"
   ]
  },
  {
   "cell_type": "markdown",
   "metadata": {},
   "source": [
    "#### 7.5.2 Fitting Random Forests Regression after RandomizedSearchCV (All features)<a id='7.5.2_Fitting_Random_Forests_Regression_after_RandomizedSearchCV_(All_features)'></a>"
   ]
  },
  {
   "cell_type": "code",
   "execution_count": 36,
   "metadata": {},
   "outputs": [
    {
     "name": "stdout",
     "output_type": "stream",
     "text": [
      "R-Squared coefficient Tuned_final : 99.6824 %\n"
     ]
    }
   ],
   "source": [
    "#(Best RandomizedSearchCV)\n",
    "max_depth = 30\n",
    "n_estimators = 500\n",
    "min_samples_split = 2\n",
    "min_samples_leaf = 1\n",
    "\n",
    "# Create a RandomForestRegressor: rfg_tuned_cv_1\n",
    "rfg_tuned_cv_1 = RandomForestRegressor(max_depth = max_depth,\n",
    "                                       n_estimators = n_estimators,\n",
    "                                       min_samples_split = min_samples_split,\n",
    "                                       min_samples_leaf = min_samples_leaf,\n",
    "                                       random_state=1981)\n",
    "\n",
    "# Fit the regressor to the training data\n",
    "rfg_tuned_cv_1.fit(X_train, y_train)\n",
    "\n",
    "# Evaluate the model: R-Squared coefficient\n",
    "print(\"R-Squared coefficient Tuned_final : {:.4f}\".format(rfg_tuned_cv_1.score(X_test, y_test) * 100), '%')\n",
    "\n",
    "\n",
    "# Predict on the test data: y_pred_rfg_cv_1\n",
    "y_pred_rfg_cv_1 = rfg_tuned_cv_1.predict(X_test)\n"
   ]
  },
  {
   "cell_type": "code",
   "execution_count": 37,
   "metadata": {},
   "outputs": [
    {
     "name": "stdout",
     "output_type": "stream",
     "text": [
      "********Tuned Random Forests Regression Model Evaluation********\n",
      "-------------------------------------------------------------\n",
      "Tuned Random Forests Regression - r2 Score: 99.6824 %\n",
      "-------------------------------------------------------------\n",
      "Tuned Random Forests Regression - MAE: 9620.5996\n",
      "-------------------------------------------------------------\n",
      "Tuned Random Forests Regression - MSE:469264404.6720\n",
      "-------------------------------------------------------------\n",
      "Tuned Random Forests Regression - RMSE:21662.5115\n",
      "-------------------------------------------------------------\n",
      "Tuned Random Forests Regression - Variance Score:99.6826 %\n",
      "-------------------------------------------------------------\n"
     ]
    }
   ],
   "source": [
    "print(\"********Tuned Random Forests Regression Model Evaluation********\")\n",
    "print(\"-------------------------------------------------------------\")\n",
    "print(\"Tuned Random Forests Regression - r2 Score: {:.4f}\".format(metrics.r2_score(y_test, y_pred_rfg_cv_1) * 100), '%')\n",
    "print(\"-------------------------------------------------------------\")\n",
    "print(\"Tuned Random Forests Regression - MAE: {:.4f}\".format(metrics.mean_absolute_error(y_test, y_pred_rfg_cv_1)))\n",
    "print(\"-------------------------------------------------------------\")\n",
    "print(\"Tuned Random Forests Regression - MSE:{:.4f}\".format(metrics.mean_squared_error(y_test, y_pred_rfg_cv_1)))\n",
    "print(\"-------------------------------------------------------------\")\n",
    "print(\"Tuned Random Forests Regression - RMSE:{:.4f}\".format(np.sqrt(metrics.mean_squared_error(y_test, y_pred_rfg_cv_1))))\n",
    "print(\"-------------------------------------------------------------\")\n",
    "print(\"Tuned Random Forests Regression - Variance Score:{:.4f}\".format( metrics.explained_variance_score(y_test, y_pred_rfg_cv_1) * 100), '%')\n",
    "print(\"-------------------------------------------------------------\")"
   ]
  },
  {
   "cell_type": "markdown",
   "metadata": {},
   "source": [
    "#### 7.5.3 RandomizedSearchCV for most important features: 'sqft' and 'price_per_sqft'<a id='7.5.3_RandomizedSearchCV_for_most_important_features:_sqft_and_price_per_sqft'></a> "
   ]
  },
  {
   "cell_type": "code",
   "execution_count": 38,
   "metadata": {},
   "outputs": [],
   "source": [
    "# Let's define/select our features:\n",
    "features = ['sqft',  'price_per_sqft']\n",
    "\n",
    "# And, Now let's define X and y:\n",
    "X = df[features]\n",
    "y = df.price\n",
    "\n",
    "# Import train_test_split\n",
    "from sklearn.model_selection import train_test_split\n",
    "\n",
    "\n",
    "# Split into train and test sets:\n",
    "X_train, X_test, y_train, y_test = train_test_split(X,\n",
    "                                                    y,\n",
    "                                                    test_size=0.25,\n",
    "                                                    random_state=1981)\n",
    "\n",
    "# Import StandardScaler:\n",
    "from sklearn.preprocessing import StandardScaler\n",
    "\n",
    "# Instantiate StandardScaler:\n",
    "scaler = StandardScaler()\n",
    "\n",
    "# Fit & transform  scaler to the data:\n",
    "X_train = scaler.fit_transform(X_train.astype(np.float))\n",
    "X_test = scaler.transform(X_test.astype(np.float))"
   ]
  },
  {
   "cell_type": "code",
   "execution_count": 39,
   "metadata": {},
   "outputs": [
    {
     "name": "stdout",
     "output_type": "stream",
     "text": [
      "Fitting 3 folds for each of 300 candidates, totalling 900 fits\n"
     ]
    },
    {
     "data": {
      "text/plain": [
       "RandomizedSearchCV(cv=3, estimator=RandomForestRegressor(random_state=1981),\n",
       "                   n_iter=300, n_jobs=-1,\n",
       "                   param_distributions=[{'max_depth': range(2, 32, 2),\n",
       "                                         'min_samples_leaf': range(1, 35, 5),\n",
       "                                         'min_samples_split': range(2, 32, 2),\n",
       "                                         'n_estimators': range(50, 550, 50)}],\n",
       "                   return_train_score=True, scoring='neg_mean_squared_error',\n",
       "                   verbose=2)"
      ]
     },
     "execution_count": 39,
     "metadata": {},
     "output_type": "execute_result"
    }
   ],
   "source": [
    "max_depth = range(2, 32, 2)\n",
    "n_estimators = range(50, 550, 50)\n",
    "min_samples_split = range(2, 32, 2)\n",
    "min_samples_leaf = range(1, 35, 5)\n",
    "\n",
    "\n",
    "# Set the parameters by cross-validation\n",
    "params = [{'max_depth': max_depth,\n",
    "          'n_estimators': n_estimators,\n",
    "          'min_samples_split' : min_samples_split,\n",
    "          'min_samples_leaf' : min_samples_leaf}]\n",
    "\n",
    "# Create a RandomForestRegressor regressor: rfg_search_2\n",
    "rfg_search_2 = RandomForestRegressor(random_state=1981) \n",
    "\n",
    "#cross validation\n",
    "folds = 3\n",
    "\n",
    "# Setup the RandomizedSearchCV object: rfg_cv_2\n",
    "rfg_cv_2 = RandomizedSearchCV(estimator = rfg_search_2, \n",
    "                               param_distributions = params, \n",
    "                               scoring= 'neg_mean_squared_error', \n",
    "                               n_iter = 300, cv = folds, n_jobs=-1,\n",
    "                               return_train_score=True, verbose = 2)   \n",
    "\n",
    "# Fit it to the training data\n",
    "rfg_cv_2.fit(X_train, y_train)\n"
   ]
  },
  {
   "cell_type": "code",
   "execution_count": 40,
   "metadata": {},
   "outputs": [
    {
     "name": "stdout",
     "output_type": "stream",
     "text": [
      "Tuned Random Forests Regression Parameters: {'n_estimators': 450, 'min_samples_split': 2, 'min_samples_leaf': 1, 'max_depth': 16}\n",
      "Tuned Random Forests - Best neg_mean_squared_error score is -903556623.0174\n"
     ]
    }
   ],
   "source": [
    "#checking the value of optimum number of parameters\n",
    "print(\"Tuned Random Forests Regression Parameters: {}\".format(rfg_cv_2.best_params_))\n",
    "print(\"Tuned Random Forests - Best neg_mean_squared_error score is {:.4f}\".format(rfg_cv_2.best_score_))"
   ]
  },
  {
   "cell_type": "code",
   "execution_count": 45,
   "metadata": {},
   "outputs": [
    {
     "data": {
      "text/html": [
       "<div>\n",
       "<style scoped>\n",
       "    .dataframe tbody tr th:only-of-type {\n",
       "        vertical-align: middle;\n",
       "    }\n",
       "\n",
       "    .dataframe tbody tr th {\n",
       "        vertical-align: top;\n",
       "    }\n",
       "\n",
       "    .dataframe thead th {\n",
       "        text-align: right;\n",
       "    }\n",
       "</style>\n",
       "<table border=\"1\" class=\"dataframe\">\n",
       "  <thead>\n",
       "    <tr style=\"text-align: right;\">\n",
       "      <th></th>\n",
       "      <th>count</th>\n",
       "      <th>mean</th>\n",
       "      <th>std</th>\n",
       "      <th>min</th>\n",
       "      <th>25%</th>\n",
       "      <th>50%</th>\n",
       "      <th>75%</th>\n",
       "      <th>max</th>\n",
       "    </tr>\n",
       "  </thead>\n",
       "  <tbody>\n",
       "    <tr>\n",
       "      <th>mean_fit_time</th>\n",
       "      <td>300.0</td>\n",
       "      <td>1.780000e+00</td>\n",
       "      <td>9.900000e-01</td>\n",
       "      <td>1.800000e-01</td>\n",
       "      <td>1.030000e+00</td>\n",
       "      <td>1.660000e+00</td>\n",
       "      <td>2.550000e+00</td>\n",
       "      <td>4.870000e+00</td>\n",
       "    </tr>\n",
       "    <tr>\n",
       "      <th>std_fit_time</th>\n",
       "      <td>300.0</td>\n",
       "      <td>5.000000e-02</td>\n",
       "      <td>4.000000e-02</td>\n",
       "      <td>0.000000e+00</td>\n",
       "      <td>2.000000e-02</td>\n",
       "      <td>3.000000e-02</td>\n",
       "      <td>6.000000e-02</td>\n",
       "      <td>2.300000e-01</td>\n",
       "    </tr>\n",
       "    <tr>\n",
       "      <th>mean_score_time</th>\n",
       "      <td>300.0</td>\n",
       "      <td>9.000000e-02</td>\n",
       "      <td>5.000000e-02</td>\n",
       "      <td>1.000000e-02</td>\n",
       "      <td>5.000000e-02</td>\n",
       "      <td>8.000000e-02</td>\n",
       "      <td>1.300000e-01</td>\n",
       "      <td>2.500000e-01</td>\n",
       "    </tr>\n",
       "    <tr>\n",
       "      <th>std_score_time</th>\n",
       "      <td>300.0</td>\n",
       "      <td>0.000000e+00</td>\n",
       "      <td>1.000000e-02</td>\n",
       "      <td>0.000000e+00</td>\n",
       "      <td>0.000000e+00</td>\n",
       "      <td>0.000000e+00</td>\n",
       "      <td>1.000000e-02</td>\n",
       "      <td>4.000000e-02</td>\n",
       "    </tr>\n",
       "    <tr>\n",
       "      <th>split0_test_score</th>\n",
       "      <td>300.0</td>\n",
       "      <td>-8.650301e+09</td>\n",
       "      <td>1.504596e+10</td>\n",
       "      <td>-5.903493e+10</td>\n",
       "      <td>-5.921166e+09</td>\n",
       "      <td>-3.674778e+09</td>\n",
       "      <td>-2.457380e+09</td>\n",
       "      <td>-6.900837e+08</td>\n",
       "    </tr>\n",
       "    <tr>\n",
       "      <th>split1_test_score</th>\n",
       "      <td>300.0</td>\n",
       "      <td>-8.437888e+09</td>\n",
       "      <td>1.595288e+10</td>\n",
       "      <td>-6.188800e+10</td>\n",
       "      <td>-4.852078e+09</td>\n",
       "      <td>-3.377184e+09</td>\n",
       "      <td>-2.082084e+09</td>\n",
       "      <td>-1.025306e+09</td>\n",
       "    </tr>\n",
       "    <tr>\n",
       "      <th>split2_test_score</th>\n",
       "      <td>300.0</td>\n",
       "      <td>-7.782043e+09</td>\n",
       "      <td>1.381436e+10</td>\n",
       "      <td>-5.498147e+10</td>\n",
       "      <td>-5.151393e+09</td>\n",
       "      <td>-3.168791e+09</td>\n",
       "      <td>-2.305431e+09</td>\n",
       "      <td>-9.952801e+08</td>\n",
       "    </tr>\n",
       "    <tr>\n",
       "      <th>mean_test_score</th>\n",
       "      <td>300.0</td>\n",
       "      <td>-8.290077e+09</td>\n",
       "      <td>1.493443e+10</td>\n",
       "      <td>-5.844811e+10</td>\n",
       "      <td>-5.313123e+09</td>\n",
       "      <td>-3.449728e+09</td>\n",
       "      <td>-2.278138e+09</td>\n",
       "      <td>-9.035566e+08</td>\n",
       "    </tr>\n",
       "    <tr>\n",
       "      <th>std_test_score</th>\n",
       "      <td>300.0</td>\n",
       "      <td>5.754783e+08</td>\n",
       "      <td>8.194831e+08</td>\n",
       "      <td>8.713648e+06</td>\n",
       "      <td>1.705317e+08</td>\n",
       "      <td>3.006975e+08</td>\n",
       "      <td>4.578092e+08</td>\n",
       "      <td>3.254455e+09</td>\n",
       "    </tr>\n",
       "    <tr>\n",
       "      <th>rank_test_score</th>\n",
       "      <td>300.0</td>\n",
       "      <td>1.498700e+02</td>\n",
       "      <td>8.643000e+01</td>\n",
       "      <td>1.000000e+00</td>\n",
       "      <td>7.575000e+01</td>\n",
       "      <td>1.505000e+02</td>\n",
       "      <td>2.250000e+02</td>\n",
       "      <td>2.980000e+02</td>\n",
       "    </tr>\n",
       "    <tr>\n",
       "      <th>split0_train_score</th>\n",
       "      <td>300.0</td>\n",
       "      <td>-7.577343e+09</td>\n",
       "      <td>1.489275e+10</td>\n",
       "      <td>-5.776524e+10</td>\n",
       "      <td>-4.667540e+09</td>\n",
       "      <td>-2.552438e+09</td>\n",
       "      <td>-1.635188e+09</td>\n",
       "      <td>-3.271545e+08</td>\n",
       "    </tr>\n",
       "    <tr>\n",
       "      <th>split1_train_score</th>\n",
       "      <td>300.0</td>\n",
       "      <td>-7.646407e+09</td>\n",
       "      <td>1.504164e+10</td>\n",
       "      <td>-5.790522e+10</td>\n",
       "      <td>-4.656923e+09</td>\n",
       "      <td>-2.513890e+09</td>\n",
       "      <td>-1.669930e+09</td>\n",
       "      <td>-1.559818e+08</td>\n",
       "    </tr>\n",
       "    <tr>\n",
       "      <th>split2_train_score</th>\n",
       "      <td>300.0</td>\n",
       "      <td>-6.850465e+09</td>\n",
       "      <td>1.404533e+10</td>\n",
       "      <td>-5.506587e+10</td>\n",
       "      <td>-3.968880e+09</td>\n",
       "      <td>-2.129654e+09</td>\n",
       "      <td>-1.353673e+09</td>\n",
       "      <td>-2.942892e+08</td>\n",
       "    </tr>\n",
       "    <tr>\n",
       "      <th>mean_train_score</th>\n",
       "      <td>300.0</td>\n",
       "      <td>-7.358072e+09</td>\n",
       "      <td>1.465892e+10</td>\n",
       "      <td>-5.672488e+10</td>\n",
       "      <td>-4.439413e+09</td>\n",
       "      <td>-2.344106e+09</td>\n",
       "      <td>-1.552951e+09</td>\n",
       "      <td>-2.591418e+08</td>\n",
       "    </tr>\n",
       "    <tr>\n",
       "      <th>std_train_score</th>\n",
       "      <td>300.0</td>\n",
       "      <td>3.713149e+08</td>\n",
       "      <td>4.615901e+08</td>\n",
       "      <td>6.121448e+07</td>\n",
       "      <td>1.351098e+08</td>\n",
       "      <td>2.141917e+08</td>\n",
       "      <td>3.153914e+08</td>\n",
       "      <td>1.899814e+09</td>\n",
       "    </tr>\n",
       "  </tbody>\n",
       "</table>\n",
       "</div>"
      ],
      "text/plain": [
       "                    count          mean           std           min  \\\n",
       "mean_fit_time       300.0  1.780000e+00  9.900000e-01  1.800000e-01   \n",
       "std_fit_time        300.0  5.000000e-02  4.000000e-02  0.000000e+00   \n",
       "mean_score_time     300.0  9.000000e-02  5.000000e-02  1.000000e-02   \n",
       "std_score_time      300.0  0.000000e+00  1.000000e-02  0.000000e+00   \n",
       "split0_test_score   300.0 -8.650301e+09  1.504596e+10 -5.903493e+10   \n",
       "split1_test_score   300.0 -8.437888e+09  1.595288e+10 -6.188800e+10   \n",
       "split2_test_score   300.0 -7.782043e+09  1.381436e+10 -5.498147e+10   \n",
       "mean_test_score     300.0 -8.290077e+09  1.493443e+10 -5.844811e+10   \n",
       "std_test_score      300.0  5.754783e+08  8.194831e+08  8.713648e+06   \n",
       "rank_test_score     300.0  1.498700e+02  8.643000e+01  1.000000e+00   \n",
       "split0_train_score  300.0 -7.577343e+09  1.489275e+10 -5.776524e+10   \n",
       "split1_train_score  300.0 -7.646407e+09  1.504164e+10 -5.790522e+10   \n",
       "split2_train_score  300.0 -6.850465e+09  1.404533e+10 -5.506587e+10   \n",
       "mean_train_score    300.0 -7.358072e+09  1.465892e+10 -5.672488e+10   \n",
       "std_train_score     300.0  3.713149e+08  4.615901e+08  6.121448e+07   \n",
       "\n",
       "                             25%           50%           75%           max  \n",
       "mean_fit_time       1.030000e+00  1.660000e+00  2.550000e+00  4.870000e+00  \n",
       "std_fit_time        2.000000e-02  3.000000e-02  6.000000e-02  2.300000e-01  \n",
       "mean_score_time     5.000000e-02  8.000000e-02  1.300000e-01  2.500000e-01  \n",
       "std_score_time      0.000000e+00  0.000000e+00  1.000000e-02  4.000000e-02  \n",
       "split0_test_score  -5.921166e+09 -3.674778e+09 -2.457380e+09 -6.900837e+08  \n",
       "split1_test_score  -4.852078e+09 -3.377184e+09 -2.082084e+09 -1.025306e+09  \n",
       "split2_test_score  -5.151393e+09 -3.168791e+09 -2.305431e+09 -9.952801e+08  \n",
       "mean_test_score    -5.313123e+09 -3.449728e+09 -2.278138e+09 -9.035566e+08  \n",
       "std_test_score      1.705317e+08  3.006975e+08  4.578092e+08  3.254455e+09  \n",
       "rank_test_score     7.575000e+01  1.505000e+02  2.250000e+02  2.980000e+02  \n",
       "split0_train_score -4.667540e+09 -2.552438e+09 -1.635188e+09 -3.271545e+08  \n",
       "split1_train_score -4.656923e+09 -2.513890e+09 -1.669930e+09 -1.559818e+08  \n",
       "split2_train_score -3.968880e+09 -2.129654e+09 -1.353673e+09 -2.942892e+08  \n",
       "mean_train_score   -4.439413e+09 -2.344106e+09 -1.552951e+09 -2.591418e+08  \n",
       "std_train_score     1.351098e+08  2.141917e+08  3.153914e+08  1.899814e+09  "
      ]
     },
     "execution_count": 45,
     "metadata": {},
     "output_type": "execute_result"
    }
   ],
   "source": [
    "cv_results = pd.DataFrame(rfg_cv_2.cv_results_)\n",
    "cv_results.describe().T.round(2)"
   ]
  },
  {
   "cell_type": "markdown",
   "metadata": {},
   "source": [
    "#### 7.5.4 Fitting Random Forests Regression after RandomizedSearchCV (most important features)<a id='7.5.4_Fitting_Random_Forests_Regression_after_RandomizedSearchCV_(most_important_features)'></a>"
   ]
  },
  {
   "cell_type": "code",
   "execution_count": 41,
   "metadata": {},
   "outputs": [
    {
     "name": "stdout",
     "output_type": "stream",
     "text": [
      "R-Squared coefficient Tuned_final : 99.8210 %\n"
     ]
    }
   ],
   "source": [
    "#(Best RandomizedSearchCV)\n",
    "max_depth = 16\n",
    "n_estimators = 450\n",
    "min_samples_split = 2\n",
    "min_samples_leaf = 1\n",
    "\n",
    "# Create a RandomForestRegressor: rfg_tuned_cv_2\n",
    "rfg_tuned_cv_2 = RandomForestRegressor(max_depth = max_depth,\n",
    "                                       n_estimators = n_estimators,\n",
    "                                       min_samples_split = min_samples_split,\n",
    "                                       min_samples_leaf = min_samples_leaf,\n",
    "                                       random_state=1981)\n",
    "\n",
    "# Fit the regressor to the training data\n",
    "rfg_tuned_cv_2.fit(X_train, y_train)\n",
    "\n",
    "# Evaluate the model: R-Squared coefficient\n",
    "print(\"R-Squared coefficient Tuned_final : {:.4f}\".format(rfg_tuned_cv_2.score(X_test, y_test) * 100), '%')\n",
    "\n",
    "\n",
    "# Predict on the test data: y_pred_rfg_cv_2\n",
    "y_pred_rfg_cv_2 = rfg_tuned_cv_2.predict(X_test)"
   ]
  },
  {
   "cell_type": "code",
   "execution_count": 42,
   "metadata": {},
   "outputs": [
    {
     "name": "stdout",
     "output_type": "stream",
     "text": [
      "********Tuned Random Forests Regression Model Evaluation********\n",
      "-------------------------------------------------------------\n",
      "Tuned Random Forests Regression - r2 Score: 99.8210 %\n",
      "-------------------------------------------------------------\n",
      "Tuned Random Forests Regression - MAE: 6302.4739\n",
      "-------------------------------------------------------------\n",
      "Tuned Random Forests Regression - MSE:264445019.5696\n",
      "-------------------------------------------------------------\n",
      "Tuned Random Forests Regression - RMSE:16261.7656\n",
      "-------------------------------------------------------------\n",
      "Tuned Random Forests Regression - Variance Score:99.8214 %\n",
      "-------------------------------------------------------------\n"
     ]
    }
   ],
   "source": [
    "print(\"********Tuned Random Forests Regression Model Evaluation********\")\n",
    "print(\"-------------------------------------------------------------\")\n",
    "print(\"Tuned Random Forests Regression - r2 Score: {:.4f}\".format(metrics.r2_score(y_test, y_pred_rfg_cv_2) * 100), '%')\n",
    "print(\"-------------------------------------------------------------\")\n",
    "print(\"Tuned Random Forests Regression - MAE: {:.4f}\".format(metrics.mean_absolute_error(y_test, y_pred_rfg_cv_2)))\n",
    "print(\"-------------------------------------------------------------\")\n",
    "print(\"Tuned Random Forests Regression - MSE:{:.4f}\".format(metrics.mean_squared_error(y_test, y_pred_rfg_cv_2)))\n",
    "print(\"-------------------------------------------------------------\")\n",
    "print(\"Tuned Random Forests Regression - RMSE:{:.4f}\".format(np.sqrt(metrics.mean_squared_error(y_test, y_pred_rfg_cv_2))))\n",
    "print(\"-------------------------------------------------------------\")\n",
    "print(\"Tuned Random Forests Regression - Variance Score:{:.4f}\".format( metrics.explained_variance_score(y_test, y_pred_rfg_cv_2) * 100), '%')\n",
    "print(\"-------------------------------------------------------------\")"
   ]
  },
  {
   "cell_type": "markdown",
   "metadata": {},
   "source": [
    "#### 7.5.5 RandomizedSearchCV for most important features: 'sqft', 'price_per_sqft', 'property_type', 'school_rating' and 'median_income'<a id='7.5.5_RandomizedSearchCV_for_most_important_features:_sqft_and_price_per_sqft_property_type_school_rating_median_income'></a> "
   ]
  },
  {
   "cell_type": "code",
   "execution_count": 43,
   "metadata": {},
   "outputs": [],
   "source": [
    "# let's keep only  'price_per_sqft', 'sqft', 'median_income', 'property_type' and 'school_rating':\n",
    "features = ['sqft', 'price_per_sqft', 'property_type', \n",
    "            'school_rating', 'median_income']\n",
    "\n",
    "# And, Now let's define X and y:\n",
    "X = df[features]\n",
    "y = df.price\n",
    "\n",
    "# Import train_test_split\n",
    "from sklearn.model_selection import train_test_split\n",
    "\n",
    "\n",
    "# Split into train and test sets:\n",
    "X_train, X_test, y_train, y_test = train_test_split(X,\n",
    "                                                    y,\n",
    "                                                    test_size=0.25,\n",
    "                                                    random_state=1981)\n",
    "\n",
    "# Import StandardScaler:\n",
    "from sklearn.preprocessing import StandardScaler\n",
    "\n",
    "# Instantiate StandardScaler:\n",
    "scaler = StandardScaler()\n",
    "\n",
    "# Fit & transform  scaler to the data:\n",
    "X_train = scaler.fit_transform(X_train.astype(np.float))\n",
    "X_test = scaler.transform(X_test.astype(np.float))"
   ]
  },
  {
   "cell_type": "code",
   "execution_count": 44,
   "metadata": {},
   "outputs": [
    {
     "name": "stdout",
     "output_type": "stream",
     "text": [
      "Fitting 3 folds for each of 300 candidates, totalling 900 fits\n"
     ]
    },
    {
     "data": {
      "text/plain": [
       "RandomizedSearchCV(cv=3, estimator=RandomForestRegressor(random_state=1981),\n",
       "                   n_iter=300, n_jobs=-1,\n",
       "                   param_distributions=[{'max_depth': range(2, 32, 2),\n",
       "                                         'min_samples_leaf': range(1, 35, 5),\n",
       "                                         'min_samples_split': range(2, 32, 2),\n",
       "                                         'n_estimators': range(50, 550, 50)}],\n",
       "                   return_train_score=True, scoring='neg_mean_squared_error',\n",
       "                   verbose=2)"
      ]
     },
     "execution_count": 44,
     "metadata": {},
     "output_type": "execute_result"
    }
   ],
   "source": [
    "max_depth = range(2, 32, 2)\n",
    "n_estimators = range(50, 550, 50)\n",
    "min_samples_split = range(2, 32, 2)\n",
    "min_samples_leaf = range(1, 35, 5)\n",
    "\n",
    "\n",
    "# Set the parameters by cross-validation\n",
    "params = [{'max_depth': max_depth,\n",
    "          'n_estimators': n_estimators,\n",
    "          'min_samples_split' : min_samples_split,\n",
    "          'min_samples_leaf' : min_samples_leaf}]\n",
    "\n",
    "# Create a RandomForestRegressor regressor: rfg_search_5\n",
    "rfg_search_5 = RandomForestRegressor(random_state=1981) \n",
    "\n",
    "#cross validation\n",
    "folds = 3\n",
    "\n",
    "# Setup the RandomizedSearchCV object: rfg_cv_5\n",
    "rfg_cv_5 = RandomizedSearchCV(estimator = rfg_search_5, \n",
    "                               param_distributions = params, \n",
    "                               scoring= 'neg_mean_squared_error', \n",
    "                               n_iter = 300, cv = folds, n_jobs=-1,\n",
    "                               return_train_score=True, verbose = 2)   \n",
    "\n",
    "# Fit it to the training data\n",
    "rfg_cv_5.fit(X_train, y_train)"
   ]
  },
  {
   "cell_type": "code",
   "execution_count": 46,
   "metadata": {},
   "outputs": [
    {
     "name": "stdout",
     "output_type": "stream",
     "text": [
      "Tuned Random Forests Regression Parameters: {'n_estimators': 500, 'min_samples_split': 2, 'min_samples_leaf': 1, 'max_depth': 26}\n",
      "Tuned Random Forests - Best neg_mean_squared_error score is -1079451683.4745\n"
     ]
    }
   ],
   "source": [
    "#checking the value of optimum number of parameters\n",
    "print(\"Tuned Random Forests Regression Parameters: {}\".format(rfg_cv_5.best_params_))\n",
    "print(\"Tuned Random Forests - Best neg_mean_squared_error score is {:.4f}\".format(rfg_cv_5.best_score_))"
   ]
  },
  {
   "cell_type": "code",
   "execution_count": 47,
   "metadata": {},
   "outputs": [
    {
     "data": {
      "text/html": [
       "<div>\n",
       "<style scoped>\n",
       "    .dataframe tbody tr th:only-of-type {\n",
       "        vertical-align: middle;\n",
       "    }\n",
       "\n",
       "    .dataframe tbody tr th {\n",
       "        vertical-align: top;\n",
       "    }\n",
       "\n",
       "    .dataframe thead th {\n",
       "        text-align: right;\n",
       "    }\n",
       "</style>\n",
       "<table border=\"1\" class=\"dataframe\">\n",
       "  <thead>\n",
       "    <tr style=\"text-align: right;\">\n",
       "      <th></th>\n",
       "      <th>count</th>\n",
       "      <th>mean</th>\n",
       "      <th>std</th>\n",
       "      <th>min</th>\n",
       "      <th>25%</th>\n",
       "      <th>50%</th>\n",
       "      <th>75%</th>\n",
       "      <th>max</th>\n",
       "    </tr>\n",
       "  </thead>\n",
       "  <tbody>\n",
       "    <tr>\n",
       "      <th>mean_fit_time</th>\n",
       "      <td>300.0</td>\n",
       "      <td>2.310000e+00</td>\n",
       "      <td>1.330000e+00</td>\n",
       "      <td>2.100000e-01</td>\n",
       "      <td>1.220000e+00</td>\n",
       "      <td>2.100000e+00</td>\n",
       "      <td>3.410000e+00</td>\n",
       "      <td>7.530000e+00</td>\n",
       "    </tr>\n",
       "    <tr>\n",
       "      <th>std_fit_time</th>\n",
       "      <td>300.0</td>\n",
       "      <td>6.000000e-02</td>\n",
       "      <td>5.000000e-02</td>\n",
       "      <td>0.000000e+00</td>\n",
       "      <td>2.000000e-02</td>\n",
       "      <td>4.000000e-02</td>\n",
       "      <td>8.000000e-02</td>\n",
       "      <td>2.900000e-01</td>\n",
       "    </tr>\n",
       "    <tr>\n",
       "      <th>mean_score_time</th>\n",
       "      <td>300.0</td>\n",
       "      <td>9.000000e-02</td>\n",
       "      <td>5.000000e-02</td>\n",
       "      <td>1.000000e-02</td>\n",
       "      <td>5.000000e-02</td>\n",
       "      <td>8.000000e-02</td>\n",
       "      <td>1.400000e-01</td>\n",
       "      <td>2.700000e-01</td>\n",
       "    </tr>\n",
       "    <tr>\n",
       "      <th>std_score_time</th>\n",
       "      <td>300.0</td>\n",
       "      <td>1.000000e-02</td>\n",
       "      <td>1.000000e-02</td>\n",
       "      <td>0.000000e+00</td>\n",
       "      <td>0.000000e+00</td>\n",
       "      <td>0.000000e+00</td>\n",
       "      <td>1.000000e-02</td>\n",
       "      <td>3.000000e-02</td>\n",
       "    </tr>\n",
       "    <tr>\n",
       "      <th>split0_test_score</th>\n",
       "      <td>300.0</td>\n",
       "      <td>-8.325108e+09</td>\n",
       "      <td>1.391319e+10</td>\n",
       "      <td>-5.748194e+10</td>\n",
       "      <td>-5.704411e+09</td>\n",
       "      <td>-4.188761e+09</td>\n",
       "      <td>-2.462741e+09</td>\n",
       "      <td>-8.978336e+08</td>\n",
       "    </tr>\n",
       "    <tr>\n",
       "      <th>split1_test_score</th>\n",
       "      <td>300.0</td>\n",
       "      <td>-7.722048e+09</td>\n",
       "      <td>1.349131e+10</td>\n",
       "      <td>-5.488871e+10</td>\n",
       "      <td>-4.812935e+09</td>\n",
       "      <td>-3.473258e+09</td>\n",
       "      <td>-2.143073e+09</td>\n",
       "      <td>-1.231295e+09</td>\n",
       "    </tr>\n",
       "    <tr>\n",
       "      <th>split2_test_score</th>\n",
       "      <td>300.0</td>\n",
       "      <td>-7.530345e+09</td>\n",
       "      <td>1.195302e+10</td>\n",
       "      <td>-4.961456e+10</td>\n",
       "      <td>-5.370579e+09</td>\n",
       "      <td>-3.935892e+09</td>\n",
       "      <td>-2.401012e+09</td>\n",
       "      <td>-1.059134e+09</td>\n",
       "    </tr>\n",
       "    <tr>\n",
       "      <th>mean_test_score</th>\n",
       "      <td>300.0</td>\n",
       "      <td>-7.859167e+09</td>\n",
       "      <td>1.311743e+10</td>\n",
       "      <td>-5.379136e+10</td>\n",
       "      <td>-5.295946e+09</td>\n",
       "      <td>-3.858596e+09</td>\n",
       "      <td>-2.321675e+09</td>\n",
       "      <td>-1.079452e+09</td>\n",
       "    </tr>\n",
       "    <tr>\n",
       "      <th>std_test_score</th>\n",
       "      <td>300.0</td>\n",
       "      <td>4.868099e+08</td>\n",
       "      <td>7.954516e+08</td>\n",
       "      <td>8.789915e+06</td>\n",
       "      <td>1.680409e+08</td>\n",
       "      <td>2.924683e+08</td>\n",
       "      <td>3.776112e+08</td>\n",
       "      <td>3.509207e+09</td>\n",
       "    </tr>\n",
       "    <tr>\n",
       "      <th>rank_test_score</th>\n",
       "      <td>300.0</td>\n",
       "      <td>1.497700e+02</td>\n",
       "      <td>8.652000e+01</td>\n",
       "      <td>1.000000e+00</td>\n",
       "      <td>7.550000e+01</td>\n",
       "      <td>1.505000e+02</td>\n",
       "      <td>2.250000e+02</td>\n",
       "      <td>3.000000e+02</td>\n",
       "    </tr>\n",
       "    <tr>\n",
       "      <th>split0_train_score</th>\n",
       "      <td>300.0</td>\n",
       "      <td>-7.119043e+09</td>\n",
       "      <td>1.346421e+10</td>\n",
       "      <td>-5.528185e+10</td>\n",
       "      <td>-4.474223e+09</td>\n",
       "      <td>-3.054708e+09</td>\n",
       "      <td>-1.619055e+09</td>\n",
       "      <td>-2.254359e+08</td>\n",
       "    </tr>\n",
       "    <tr>\n",
       "      <th>split1_train_score</th>\n",
       "      <td>300.0</td>\n",
       "      <td>-6.951045e+09</td>\n",
       "      <td>1.314799e+10</td>\n",
       "      <td>-5.291778e+10</td>\n",
       "      <td>-4.405146e+09</td>\n",
       "      <td>-3.044646e+09</td>\n",
       "      <td>-1.517325e+09</td>\n",
       "      <td>-1.227499e+08</td>\n",
       "    </tr>\n",
       "    <tr>\n",
       "      <th>split2_train_score</th>\n",
       "      <td>300.0</td>\n",
       "      <td>-6.703665e+09</td>\n",
       "      <td>1.229792e+10</td>\n",
       "      <td>-5.035010e+10</td>\n",
       "      <td>-4.348161e+09</td>\n",
       "      <td>-2.979063e+09</td>\n",
       "      <td>-1.579743e+09</td>\n",
       "      <td>-1.784705e+08</td>\n",
       "    </tr>\n",
       "    <tr>\n",
       "      <th>mean_train_score</th>\n",
       "      <td>300.0</td>\n",
       "      <td>-6.924585e+09</td>\n",
       "      <td>1.296923e+10</td>\n",
       "      <td>-5.258843e+10</td>\n",
       "      <td>-4.409399e+09</td>\n",
       "      <td>-3.028347e+09</td>\n",
       "      <td>-1.571029e+09</td>\n",
       "      <td>-1.755521e+08</td>\n",
       "    </tr>\n",
       "    <tr>\n",
       "      <th>std_train_score</th>\n",
       "      <td>300.0</td>\n",
       "      <td>2.089416e+08</td>\n",
       "      <td>4.990554e+08</td>\n",
       "      <td>1.076925e+07</td>\n",
       "      <td>3.809794e+07</td>\n",
       "      <td>5.050464e+07</td>\n",
       "      <td>8.676796e+07</td>\n",
       "      <td>2.216680e+09</td>\n",
       "    </tr>\n",
       "  </tbody>\n",
       "</table>\n",
       "</div>"
      ],
      "text/plain": [
       "                    count          mean           std           min  \\\n",
       "mean_fit_time       300.0  2.310000e+00  1.330000e+00  2.100000e-01   \n",
       "std_fit_time        300.0  6.000000e-02  5.000000e-02  0.000000e+00   \n",
       "mean_score_time     300.0  9.000000e-02  5.000000e-02  1.000000e-02   \n",
       "std_score_time      300.0  1.000000e-02  1.000000e-02  0.000000e+00   \n",
       "split0_test_score   300.0 -8.325108e+09  1.391319e+10 -5.748194e+10   \n",
       "split1_test_score   300.0 -7.722048e+09  1.349131e+10 -5.488871e+10   \n",
       "split2_test_score   300.0 -7.530345e+09  1.195302e+10 -4.961456e+10   \n",
       "mean_test_score     300.0 -7.859167e+09  1.311743e+10 -5.379136e+10   \n",
       "std_test_score      300.0  4.868099e+08  7.954516e+08  8.789915e+06   \n",
       "rank_test_score     300.0  1.497700e+02  8.652000e+01  1.000000e+00   \n",
       "split0_train_score  300.0 -7.119043e+09  1.346421e+10 -5.528185e+10   \n",
       "split1_train_score  300.0 -6.951045e+09  1.314799e+10 -5.291778e+10   \n",
       "split2_train_score  300.0 -6.703665e+09  1.229792e+10 -5.035010e+10   \n",
       "mean_train_score    300.0 -6.924585e+09  1.296923e+10 -5.258843e+10   \n",
       "std_train_score     300.0  2.089416e+08  4.990554e+08  1.076925e+07   \n",
       "\n",
       "                             25%           50%           75%           max  \n",
       "mean_fit_time       1.220000e+00  2.100000e+00  3.410000e+00  7.530000e+00  \n",
       "std_fit_time        2.000000e-02  4.000000e-02  8.000000e-02  2.900000e-01  \n",
       "mean_score_time     5.000000e-02  8.000000e-02  1.400000e-01  2.700000e-01  \n",
       "std_score_time      0.000000e+00  0.000000e+00  1.000000e-02  3.000000e-02  \n",
       "split0_test_score  -5.704411e+09 -4.188761e+09 -2.462741e+09 -8.978336e+08  \n",
       "split1_test_score  -4.812935e+09 -3.473258e+09 -2.143073e+09 -1.231295e+09  \n",
       "split2_test_score  -5.370579e+09 -3.935892e+09 -2.401012e+09 -1.059134e+09  \n",
       "mean_test_score    -5.295946e+09 -3.858596e+09 -2.321675e+09 -1.079452e+09  \n",
       "std_test_score      1.680409e+08  2.924683e+08  3.776112e+08  3.509207e+09  \n",
       "rank_test_score     7.550000e+01  1.505000e+02  2.250000e+02  3.000000e+02  \n",
       "split0_train_score -4.474223e+09 -3.054708e+09 -1.619055e+09 -2.254359e+08  \n",
       "split1_train_score -4.405146e+09 -3.044646e+09 -1.517325e+09 -1.227499e+08  \n",
       "split2_train_score -4.348161e+09 -2.979063e+09 -1.579743e+09 -1.784705e+08  \n",
       "mean_train_score   -4.409399e+09 -3.028347e+09 -1.571029e+09 -1.755521e+08  \n",
       "std_train_score     3.809794e+07  5.050464e+07  8.676796e+07  2.216680e+09  "
      ]
     },
     "execution_count": 47,
     "metadata": {},
     "output_type": "execute_result"
    }
   ],
   "source": [
    "cv_results = pd.DataFrame(rfg_cv_5.cv_results_)\n",
    "cv_results.describe().T.round(2)"
   ]
  },
  {
   "cell_type": "markdown",
   "metadata": {},
   "source": [
    "#### 7.5.6 Fitting Random Forests Regression after RandomizedSearchCV (Top-5 Features)<a id='7.5.6_Fitting_Random_Forests_Regression_after_RandomizedSearchCV_(Top-5_Features)'></a>"
   ]
  },
  {
   "cell_type": "code",
   "execution_count": 48,
   "metadata": {},
   "outputs": [
    {
     "name": "stdout",
     "output_type": "stream",
     "text": [
      "R-Squared coefficient Tuned_final : 99.7865 %\n"
     ]
    }
   ],
   "source": [
    "#(Best RandomizedSearchCV)\n",
    "max_depth = 26\n",
    "n_estimators = 500\n",
    "min_samples_split = 2\n",
    "min_samples_leaf = 1\n",
    "\n",
    "# Create a RandomForestRegressor: rfg_tuned_cv_5\n",
    "rfg_tuned_cv_5 = RandomForestRegressor(max_depth = max_depth,\n",
    "                                       n_estimators = n_estimators,\n",
    "                                       min_samples_split = min_samples_split,\n",
    "                                       min_samples_leaf = min_samples_leaf,\n",
    "                                       random_state=1981)\n",
    "\n",
    "# Fit the regressor to the training data\n",
    "rfg_tuned_cv_5.fit(X_train, y_train)\n",
    "\n",
    "# Evaluate the model: R-Squared coefficient\n",
    "print(\"R-Squared coefficient Tuned_final : {:.4f}\".format(rfg_tuned_cv_5.score(X_test, y_test) * 100), '%')\n",
    "\n",
    "\n",
    "# Predict on the test data: y_pred_rfg_cv_5\n",
    "y_pred_rfg_cv_5 = rfg_tuned_cv_5.predict(X_test)"
   ]
  },
  {
   "cell_type": "code",
   "execution_count": 49,
   "metadata": {},
   "outputs": [
    {
     "name": "stdout",
     "output_type": "stream",
     "text": [
      "********Tuned Random Forests Regression Model Evaluation********\n",
      "-------------------------------------------------------------\n",
      "Tuned Random Forests Regression - r2 Score: 99.7865 %\n",
      "-------------------------------------------------------------\n",
      "Tuned Random Forests Regression - MAE: 7353.4259\n",
      "-------------------------------------------------------------\n",
      "Tuned Random Forests Regression - MSE:315470893.2504\n",
      "-------------------------------------------------------------\n",
      "Tuned Random Forests Regression - RMSE:17761.5003\n",
      "-------------------------------------------------------------\n",
      "Tuned Random Forests Regression - Variance Score:99.7866 %\n",
      "-------------------------------------------------------------\n"
     ]
    }
   ],
   "source": [
    "print(\"********Tuned Random Forests Regression Model Evaluation********\")\n",
    "print(\"-------------------------------------------------------------\")\n",
    "print(\"Tuned Random Forests Regression - r2 Score: {:.4f}\".format(metrics.r2_score(y_test, y_pred_rfg_cv_5) * 100), '%')\n",
    "print(\"-------------------------------------------------------------\")\n",
    "print(\"Tuned Random Forests Regression - MAE: {:.4f}\".format(metrics.mean_absolute_error(y_test, y_pred_rfg_cv_5)))\n",
    "print(\"-------------------------------------------------------------\")\n",
    "print(\"Tuned Random Forests Regression - MSE:{:.4f}\".format(metrics.mean_squared_error(y_test, y_pred_rfg_cv_5)))\n",
    "print(\"-------------------------------------------------------------\")\n",
    "print(\"Tuned Random Forests Regression - RMSE:{:.4f}\".format(np.sqrt(metrics.mean_squared_error(y_test, y_pred_rfg_cv_5))))\n",
    "print(\"-------------------------------------------------------------\")\n",
    "print(\"Tuned Random Forests Regression - Variance Score:{:.4f}\".format( metrics.explained_variance_score(y_test, y_pred_rfg_cv_5) * 100), '%')\n",
    "print(\"-------------------------------------------------------------\")"
   ]
  },
  {
   "cell_type": "markdown",
   "metadata": {},
   "source": [
    "## 8. Random Forests Regression Tuning Summary<a id='8_Random_Forests_Regression_Tuning_Summary'></a>\n",
    "\n",
    "As we can see below, We managed to improve our Random Forests Regression Model by:\n",
    " * keeping only the most important features: 2 features ('sqft' and'price_per_sqft'), and\n",
    " * Hyperparameters Tuning using RandomizedSearchCV to determine best:\n",
    "   * {'n_estimators': 500, 'min_samples_split': 2, 'min_samples_leaf': 1, 'max_depth': 30} when considering all features.\n",
    "   * {'n_estimators': 450, 'min_samples_split': 2, 'min_samples_leaf': 1, 'max_depth': 16} when considering only the top-2 important features\n",
    "   * {'n_estimators': 500, 'min_samples_split': 2, 'min_samples_leaf': 1, 'max_depth': 26} when considering only the top-5 important features \n",
    " * Variance Score has improved from 99.6789  % (Random Forests - baseline) to 99.8214 %\n",
    "\n",
    "|Model Tuning| r2 Score|    MAE  | MSE  | RMSE|Variance Score|\n",
    "|:----------------------|:-------:|:-------:|:----:|:----:|:----:|\n",
    "|Baseline (all features)|99.6786 %|9767.2155|474838904.0747|21790.7986|99.6789 %|\n",
    "|Keeping 2 features (Most Important)    |99.8165 %|6530.7833|271089597.6564|16464.7987|99.8168 %|\n",
    "|Keeping 5 features    |99.7714  %|17679.2312|337800382.4367|18379.3466|99.7718 %|\n",
    "|Keeping All features + {'n_estimators': 500, 'max_depth': 30} (RandomizedSearchCV)  |99.6824 %|9620.5996|469264404.6720|21662.5115|99.6826 %|\n",
    "|Keeping top-2 features + {'n_estimators': 450, 'max_depth': 16} (RandomizedSearchCV)|99.8210 %|6302.4739|264445019.5696|16261.7656|99.8214 %|\n",
    "|Keeping top-5 features + {'n_estimators': 500, 'max_depth': 26} (RandomizedSearchCV)|99.7865 %|7353.4259|315470893.2504|17761.5003|99.7866 %"
   ]
  },
  {
   "cell_type": "markdown",
   "metadata": {},
   "source": [
    "## 9. Random Forests Regression Actual vs Prediction Visualization<a id='9_Random_Forests_Regression_Actual_vs_Prediction_Visualization'></a>"
   ]
  },
  {
   "cell_type": "code",
   "execution_count": 50,
   "metadata": {},
   "outputs": [
    {
     "data": {
      "text/plain": [
       "Text(0, 0.5, 'Prediction')"
      ]
     },
     "execution_count": 50,
     "metadata": {},
     "output_type": "execute_result"
    },
    {
     "data": {
      "image/png": "[encoded data removed]",
      "text/plain": [
       "<Figure size 1080x720 with 1 Axes>"
      ]
     },
     "metadata": {},
     "output_type": "display_data"
    }
   ],
   "source": [
    "# Let's plot the predictions against the actual result. Use scatter()\n",
    "plt.figure(figsize=(15,10))\n",
    "plt.scatter(y_test,y_pred_rfg, color='black', marker='D', s=40, alpha=0.3, label='Actual vs Prediction-Random Forests: Baseline')\n",
    "plt.scatter(y_test,y_pred_rfg_cv_2, color='red', marker='o', s=20, alpha=0.3,label='Actual vs Prediction-Random Forests: Final Tuned')\n",
    "plt.title('Random Forests Regression model: predictions vs. the actual values')\n",
    "plt.plot([0,(np.max(y_test))],[0,(np.max(y_test))], 'blue', linewidth=30, alpha=0.2)\n",
    "plt.legend()\n",
    "plt.xlabel('Actual Result')\n",
    "plt.ylabel('Prediction')"
   ]
  },
  {
   "cell_type": "code",
   "execution_count": 51,
   "metadata": {},
   "outputs": [
    {
     "data": {
      "text/html": [
       "<div>\n",
       "<style scoped>\n",
       "    .dataframe tbody tr th:only-of-type {\n",
       "        vertical-align: middle;\n",
       "    }\n",
       "\n",
       "    .dataframe tbody tr th {\n",
       "        vertical-align: top;\n",
       "    }\n",
       "\n",
       "    .dataframe thead th {\n",
       "        text-align: right;\n",
       "    }\n",
       "</style>\n",
       "<table border=\"1\" class=\"dataframe\">\n",
       "  <thead>\n",
       "    <tr style=\"text-align: right;\">\n",
       "      <th></th>\n",
       "      <th>SalePrice_Actual</th>\n",
       "      <th>SalePrice_Predicted_baseline</th>\n",
       "      <th>SalePrice_Predicted_Tuned</th>\n",
       "    </tr>\n",
       "  </thead>\n",
       "  <tbody>\n",
       "    <tr>\n",
       "      <th>6219</th>\n",
       "      <td>1900000</td>\n",
       "      <td>1801600.00</td>\n",
       "      <td>1806867.324</td>\n",
       "    </tr>\n",
       "    <tr>\n",
       "      <th>696</th>\n",
       "      <td>1770000</td>\n",
       "      <td>1777628.00</td>\n",
       "      <td>1775584.444</td>\n",
       "    </tr>\n",
       "    <tr>\n",
       "      <th>2560</th>\n",
       "      <td>1600000</td>\n",
       "      <td>1609294.44</td>\n",
       "      <td>1607529.113</td>\n",
       "    </tr>\n",
       "    <tr>\n",
       "      <th>3249</th>\n",
       "      <td>1525000</td>\n",
       "      <td>1524197.14</td>\n",
       "      <td>1525863.044</td>\n",
       "    </tr>\n",
       "    <tr>\n",
       "      <th>1223</th>\n",
       "      <td>1478000</td>\n",
       "      <td>1478597.50</td>\n",
       "      <td>1470459.111</td>\n",
       "    </tr>\n",
       "    <tr>\n",
       "      <th>6756</th>\n",
       "      <td>1438000</td>\n",
       "      <td>1465441.85</td>\n",
       "      <td>1447156.667</td>\n",
       "    </tr>\n",
       "    <tr>\n",
       "      <th>1904</th>\n",
       "      <td>1375000</td>\n",
       "      <td>1373190.62</td>\n",
       "      <td>1342482.760</td>\n",
       "    </tr>\n",
       "    <tr>\n",
       "      <th>7028</th>\n",
       "      <td>1300000</td>\n",
       "      <td>1305168.00</td>\n",
       "      <td>1300475.556</td>\n",
       "    </tr>\n",
       "    <tr>\n",
       "      <th>6904</th>\n",
       "      <td>1216000</td>\n",
       "      <td>1168589.05</td>\n",
       "      <td>1186674.082</td>\n",
       "    </tr>\n",
       "    <tr>\n",
       "      <th>3982</th>\n",
       "      <td>1080000</td>\n",
       "      <td>1087069.54</td>\n",
       "      <td>1087663.676</td>\n",
       "    </tr>\n",
       "    <tr>\n",
       "      <th>4337</th>\n",
       "      <td>876000</td>\n",
       "      <td>891497.81</td>\n",
       "      <td>869523.333</td>\n",
       "    </tr>\n",
       "    <tr>\n",
       "      <th>595</th>\n",
       "      <td>850000</td>\n",
       "      <td>847577.86</td>\n",
       "      <td>847871.557</td>\n",
       "    </tr>\n",
       "    <tr>\n",
       "      <th>4489</th>\n",
       "      <td>850000</td>\n",
       "      <td>858951.22</td>\n",
       "      <td>852936.111</td>\n",
       "    </tr>\n",
       "    <tr>\n",
       "      <th>7400</th>\n",
       "      <td>825000</td>\n",
       "      <td>812483.72</td>\n",
       "      <td>825375.600</td>\n",
       "    </tr>\n",
       "    <tr>\n",
       "      <th>3136</th>\n",
       "      <td>821000</td>\n",
       "      <td>818584.81</td>\n",
       "      <td>817017.314</td>\n",
       "    </tr>\n",
       "    <tr>\n",
       "      <th>5011</th>\n",
       "      <td>820000</td>\n",
       "      <td>801588.16</td>\n",
       "      <td>810535.556</td>\n",
       "    </tr>\n",
       "    <tr>\n",
       "      <th>535</th>\n",
       "      <td>750000</td>\n",
       "      <td>751919.37</td>\n",
       "      <td>740424.721</td>\n",
       "    </tr>\n",
       "    <tr>\n",
       "      <th>1851</th>\n",
       "      <td>745000</td>\n",
       "      <td>768290.00</td>\n",
       "      <td>748775.560</td>\n",
       "    </tr>\n",
       "    <tr>\n",
       "      <th>1044</th>\n",
       "      <td>725000</td>\n",
       "      <td>732152.00</td>\n",
       "      <td>723947.185</td>\n",
       "    </tr>\n",
       "    <tr>\n",
       "      <th>4969</th>\n",
       "      <td>705000</td>\n",
       "      <td>729329.44</td>\n",
       "      <td>714995.140</td>\n",
       "    </tr>\n",
       "    <tr>\n",
       "      <th>6493</th>\n",
       "      <td>692000</td>\n",
       "      <td>690946.94</td>\n",
       "      <td>693843.558</td>\n",
       "    </tr>\n",
       "    <tr>\n",
       "      <th>790</th>\n",
       "      <td>585000</td>\n",
       "      <td>585887.77</td>\n",
       "      <td>585598.166</td>\n",
       "    </tr>\n",
       "    <tr>\n",
       "      <th>7422</th>\n",
       "      <td>540000</td>\n",
       "      <td>539385.25</td>\n",
       "      <td>536725.185</td>\n",
       "    </tr>\n",
       "    <tr>\n",
       "      <th>5395</th>\n",
       "      <td>535000</td>\n",
       "      <td>537221.00</td>\n",
       "      <td>534767.240</td>\n",
       "    </tr>\n",
       "    <tr>\n",
       "      <th>4768</th>\n",
       "      <td>525000</td>\n",
       "      <td>524912.76</td>\n",
       "      <td>525015.741</td>\n",
       "    </tr>\n",
       "    <tr>\n",
       "      <th>4032</th>\n",
       "      <td>525000</td>\n",
       "      <td>523220.00</td>\n",
       "      <td>526218.787</td>\n",
       "    </tr>\n",
       "    <tr>\n",
       "      <th>5130</th>\n",
       "      <td>505000</td>\n",
       "      <td>503145.00</td>\n",
       "      <td>503527.348</td>\n",
       "    </tr>\n",
       "    <tr>\n",
       "      <th>5548</th>\n",
       "      <td>495000</td>\n",
       "      <td>501780.00</td>\n",
       "      <td>501906.744</td>\n",
       "    </tr>\n",
       "    <tr>\n",
       "      <th>5320</th>\n",
       "      <td>335000</td>\n",
       "      <td>338710.00</td>\n",
       "      <td>337272.370</td>\n",
       "    </tr>\n",
       "    <tr>\n",
       "      <th>4511</th>\n",
       "      <td>215000</td>\n",
       "      <td>233762.50</td>\n",
       "      <td>232449.444</td>\n",
       "    </tr>\n",
       "  </tbody>\n",
       "</table>\n",
       "</div>"
      ],
      "text/plain": [
       "      SalePrice_Actual  SalePrice_Predicted_baseline  \\\n",
       "6219           1900000                    1801600.00   \n",
       "696            1770000                    1777628.00   \n",
       "2560           1600000                    1609294.44   \n",
       "3249           1525000                    1524197.14   \n",
       "1223           1478000                    1478597.50   \n",
       "6756           1438000                    1465441.85   \n",
       "1904           1375000                    1373190.62   \n",
       "7028           1300000                    1305168.00   \n",
       "6904           1216000                    1168589.05   \n",
       "3982           1080000                    1087069.54   \n",
       "4337            876000                     891497.81   \n",
       "595             850000                     847577.86   \n",
       "4489            850000                     858951.22   \n",
       "7400            825000                     812483.72   \n",
       "3136            821000                     818584.81   \n",
       "5011            820000                     801588.16   \n",
       "535             750000                     751919.37   \n",
       "1851            745000                     768290.00   \n",
       "1044            725000                     732152.00   \n",
       "4969            705000                     729329.44   \n",
       "6493            692000                     690946.94   \n",
       "790             585000                     585887.77   \n",
       "7422            540000                     539385.25   \n",
       "5395            535000                     537221.00   \n",
       "4768            525000                     524912.76   \n",
       "4032            525000                     523220.00   \n",
       "5130            505000                     503145.00   \n",
       "5548            495000                     501780.00   \n",
       "5320            335000                     338710.00   \n",
       "4511            215000                     233762.50   \n",
       "\n",
       "      SalePrice_Predicted_Tuned  \n",
       "6219                1806867.324  \n",
       "696                 1775584.444  \n",
       "2560                1607529.113  \n",
       "3249                1525863.044  \n",
       "1223                1470459.111  \n",
       "6756                1447156.667  \n",
       "1904                1342482.760  \n",
       "7028                1300475.556  \n",
       "6904                1186674.082  \n",
       "3982                1087663.676  \n",
       "4337                 869523.333  \n",
       "595                  847871.557  \n",
       "4489                 852936.111  \n",
       "7400                 825375.600  \n",
       "3136                 817017.314  \n",
       "5011                 810535.556  \n",
       "535                  740424.721  \n",
       "1851                 748775.560  \n",
       "1044                 723947.185  \n",
       "4969                 714995.140  \n",
       "6493                 693843.558  \n",
       "790                  585598.166  \n",
       "7422                 536725.185  \n",
       "5395                 534767.240  \n",
       "4768                 525015.741  \n",
       "4032                 526218.787  \n",
       "5130                 503527.348  \n",
       "5548                 501906.744  \n",
       "5320                 337272.370  \n",
       "4511                 232449.444  "
      ]
     },
     "execution_count": 51,
     "metadata": {},
     "output_type": "execute_result"
    }
   ],
   "source": [
    "final_rfg = pd.DataFrame({'SalePrice_Actual': y_test, 'SalePrice_Predicted_baseline': y_pred_rfg.round(3), 'SalePrice_Predicted_Tuned': y_pred_rfg_cv_2.round(3)})\n",
    "final_rfg.head(30).sort_values(by='SalePrice_Actual', ascending=False)"
   ]
  },
  {
   "cell_type": "markdown",
   "metadata": {},
   "source": [
    "## 10. Models next step:<a id='10_Models_next_step'></a>\n",
    "\n",
    "Now, after building our 2nd Model: Decision Tree Regression, let's see if we can further improve our prediction using below algorithm:\n",
    "\n",
    " * Gradient-Boosting Regression\n",
    " "
   ]
  },
  {
   "cell_type": "markdown",
   "metadata": {},
   "source": [
    "## 11. Saving our Data<a id='9_Saving_our_data'></a>\n",
    "Finally, let's save our final DataFrame with the new features:\n"
   ]
  },
  {
   "cell_type": "code",
   "execution_count": null,
   "metadata": {},
   "outputs": [],
   "source": [
    "# Saving df_final_v1:\n",
    "df_final_v1.to_csv(path_or_buf = \"path\" + \"/pre_processing_df.csv\", index=False)"
   ]
  },
  {
   "cell_type": "code",
   "execution_count": 1,
   "metadata": {},
   "outputs": [
    {
     "data": {
      "text/html": [
       "<style>.container { width:75% !important; }</style>"
      ],
      "text/plain": [
       "<IPython.core.display.HTML object>"
      ]
     },
     "metadata": {},
     "output_type": "display_data"
    }
   ],
   "source": [
    "from IPython.core.display import display, HTML\n",
    "display(HTML(\"<style>.container { width:75% !important; }</style>\"))"
   ]
  },
  {
   "cell_type": "code",
   "execution_count": null,
   "metadata": {},
   "outputs": [],
   "source": []
  }
 ],
 "metadata": {
  "kernelspec": {
   "display_name": "Python 3",
   "language": "python",
   "name": "python3"
  },
  "language_info": {
   "codemirror_mode": {
    "name": "ipython",
    "version": 3
   },
   "file_extension": ".py",
   "mimetype": "text/x-python",
   "name": "python",
   "nbconvert_exporter": "python",
   "pygments_lexer": "ipython3",
   "version": "3.7.6"
  }
 },
 "nbformat": 4,
 "nbformat_minor": 4
}
