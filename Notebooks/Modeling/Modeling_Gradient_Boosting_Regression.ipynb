{
 "cells": [
  {
   "cell_type": "markdown",
   "metadata": {},
   "source": [
    "# Modeling: \n",
    "\n",
    "## Gradient Boosting Regression\n",
    "\n",
    "![Modeling](https://user-images.githubusercontent.com/67468718/111879997-1bbd6a80-8966-11eb-92c1-01c38cbdbe4a.JPG)\n",
    "\n"
   ]
  },
  {
   "cell_type": "markdown",
   "metadata": {},
   "source": [
    "## Contents<a id='Contents'></a>\n",
    " * [1. Introduction](#1_Introduction)\n",
    " * [2. Sourcing and Loading](#2_Sourcing_and_Loading)\n",
    "    * [2.1 Import relevant libraries](#2.1_Import_relevant_libraries)\n",
    "    * [2.2 Load the data](#2.2_Load_the_data)\n",
    " * [3. View and Visualize our dependent variable 'price'](#3._View_and_Visualize_our_dependent_variable_price)\n",
    "    * [3.1 View the data](#3.1_View_the_data)\n",
    "    * [3.2 Final Visualization of our dependent Variable 'price'](#3.2_Final_Visualization_of_our_dependent_variable_price)\n",
    " * [4. Features Selection: Define/Select Features](#4_Features_Selection:_Define_Select_Features)\n",
    " * [5. Train/Test Split](#5_Train/Test_Split)\n",
    " * [6. Scaling and Transformation: Standardization](#6_Scaling_and_Transformation:_Standardization)\n",
    " * [7. Modeling: Gradient Boosting Regression](#7_Gradient_Boosting_Regression)\n",
    "    * [7.1 Fitting Gradient Boosting Regression](#7.1_Fitting_Gradient_Boosting_Regression)\n",
    "    * [7.2 Gradient Boosting Regression: Residuals Visualization](#7.2_Gradient_Boosting_Regression:_Residuals_Visualization)\n",
    "    * [7.3 Gradient Boosting Regression Model Evaluation](#7.3_Gradient_Boosting_Regression_Model_Evaluation)\n",
    "    * [7.4 Features Selection](#7.4_Features_Selection)\n",
    "       * [7.4.1 Features Importance](#7.4.1_Features_Importance)\n",
    "       * [7.4.2 Keeping only 'price_per_sqft' and 'sqft'](#7.4.2_Keeping_only_price_per_sqft_and_sqft)\n",
    "       * [7.4.3 Keeping 'price_per_sqft', 'sqft', 'median_income', 'property_type' and 'school_rating'](#7.4.3_Keeping_price_per_sqft_sqft_median_income_property_type_school_rating)    \n",
    "       * [7.4.4 Features Selection Summary](#7.4.4_Features_Selection_Summary)    \n",
    "    * [7.5 Hyperparameters Tuning: GridSearchCV](#7.5_Hyperparameters_Tuning:_GridSearchCV)\n",
    "       * [7.5.1 GridSearchCV for all features](#7.5.1_GridSearchCV_for_all_features)\n",
    "       * [7.5.2 Fitting Gradient Boosting Regression after GridsearchCV (All features)](#7.5.2_Fitting_Gradient_Boosting_Regression_after_GridsearchCV_(All_features))\n",
    "       * [7.5.3 GridSearchCV for most important features: 'sqft' and 'price_per_sqft'](#7.5.3_GridSearchCV_for_most_important_features:_sqft_and_price_per_sqft)\n",
    "       * [7.5.4 Fitting Gradient Boosting Regression after GridsearchCV (most important features)](#7.5.4_Fitting_Gradient_Boosting_Regression_after_GridsearchCV_(most_important_features))\n",
    "       * [7.5.5 GridSearchCV for most important features: 'sqft', 'price_per_sqft', 'property_type', 'school_rating' and 'median_income'](#7.5.5_GridSearchCV_for_most_important_features:_sqft_and_price_per_sqft_property_type_school_rating_median_income)\n",
    "       * [7.5.6 Fitting Gradient Boosting Regression after GridsearchCV (Top-5 Features)](#7.5.6_Fitting_Gradient_Boosting_Regression_after_GridsearchCV_(Top-5_Features))\n",
    " * [8. Gradient Boosting Regression Tuning Summary](#8_Gradient_Boosting_Regression_Tuning_Summary)\n",
    " * [9. Gradient Boosting Regression Actual vs Prediction Visualization](#9_Gradient_Boosting_Regression_Actual_vs_Prediction_Visualization)\n",
    " * [10. Models next step](#10_Models_next_step)"
   ]
  },
  {
   "cell_type": "markdown",
   "metadata": {},
   "source": [
    "## 1. Introduction<a id='1_Introduction'></a>\n",
    "\n",
    "Here comes the really fun step: modeling! For this step, we'll be:\n",
    " * Training multiple Regression algorithms.\n",
    " * Apply hyperparameters tuning where applicable to ensure every algorithm will result in best prediction possible.\n",
    " * Finally, evaluate these Models.\n",
    "\n",
    "**Regression Models:**\n",
    " * Linear Regression (Baseline Model).\n",
    " * Ridge Regression (L2 Regularization)\n",
    " * Lasso Regression (L1 Regularization)\n",
    " * Decision Trees\n",
    " * Random Forests\n",
    " * GB\n",
    " * XGBoost\n",
    " * Support Vector Regression\n",
    " * Stacking\n",
    " * Neural networks.\n",
    " \n",
    " \n",
    " **In This Notebook, We'll be using Gradient Boosting**\n",
    "\n"
   ]
  },
  {
   "cell_type": "markdown",
   "metadata": {},
   "source": [
    "## 2. Sourcing and Loading<a id='2_Sourcing_and_Loading'></a> \n",
    "\n",
    "### 2.1 Import relevant libraries<a id='2.1_Import_relevant_libraries'></a> "
   ]
  },
  {
   "cell_type": "code",
   "execution_count": 3,
   "metadata": {},
   "outputs": [
    {
     "name": "stdout",
     "output_type": "stream",
     "text": [
      "***Libraries are imported***\n"
     ]
    }
   ],
   "source": [
    "import numpy as np\n",
    "import pandas as pd\n",
    "import matplotlib.pyplot as plt\n",
    "import seaborn as sns\n",
    "import plotly.express as px\n",
    "import os \n",
    "\n",
    "plt.style.use('ggplot')\n",
    "\n",
    "print('***Libraries are imported***')"
   ]
  },
  {
   "cell_type": "markdown",
   "metadata": {},
   "source": [
    "### 2.2 Load the data<a id='2.2_Load_the_data'></a>"
   ]
  },
  {
   "cell_type": "code",
   "execution_count": null,
   "metadata": {},
   "outputs": [],
   "source": [
    "# Check Current Directory:\n",
    "os.getcwd()"
   ]
  },
  {
   "cell_type": "code",
   "execution_count": 5,
   "metadata": {},
   "outputs": [],
   "source": [
    "# Changing the directory:\n",
    "os.chdir(r\"path/Feature_Engineering/datasets\")"
   ]
  },
  {
   "cell_type": "code",
   "execution_count": null,
   "metadata": {},
   "outputs": [],
   "source": [
    "#Confirm the directory:\n",
    "os.getcwd()"
   ]
  },
  {
   "cell_type": "code",
   "execution_count": 7,
   "metadata": {},
   "outputs": [
    {
     "data": {
      "text/plain": [
       "['pre_processing_df.csv']"
      ]
     },
     "execution_count": 7,
     "metadata": {},
     "output_type": "execute_result"
    }
   ],
   "source": [
    "# List files/folders in the cd:\n",
    "os.listdir()"
   ]
  },
  {
   "cell_type": "code",
   "execution_count": 8,
   "metadata": {},
   "outputs": [],
   "source": [
    "df = pd.read_csv('pre_processing_df.csv')"
   ]
  },
  {
   "cell_type": "markdown",
   "metadata": {},
   "source": [
    "## 3. View and Visualize our dependent variable 'price'<a id='3._View_and_Visualize_our_dependent_variable_price'></a>\n",
    "\n",
    "### 3.1 View the data<a id='3.1_View_the_data'></a>"
   ]
  },
  {
   "cell_type": "code",
   "execution_count": 9,
   "metadata": {},
   "outputs": [
    {
     "name": "stdout",
     "output_type": "stream",
     "text": [
      "Final DataFrame 'df' has Rows: 7484 and Columns:  23\n"
     ]
    }
   ],
   "source": [
    "#Let's check the df shape:\n",
    "structure = df.shape\n",
    "print(\"Final DataFrame 'df' has Rows:\", structure[0], \"and Columns: \", structure[1])"
   ]
  },
  {
   "cell_type": "code",
   "execution_count": 10,
   "metadata": {},
   "outputs": [
    {
     "data": {
      "text/html": [
       "<div>\n",
       "<style scoped>\n",
       "    .dataframe tbody tr th:only-of-type {\n",
       "        vertical-align: middle;\n",
       "    }\n",
       "\n",
       "    .dataframe tbody tr th {\n",
       "        vertical-align: top;\n",
       "    }\n",
       "\n",
       "    .dataframe thead th {\n",
       "        text-align: right;\n",
       "    }\n",
       "</style>\n",
       "<table border=\"1\" class=\"dataframe\">\n",
       "  <thead>\n",
       "    <tr style=\"text-align: right;\">\n",
       "      <th></th>\n",
       "      <th>property_type</th>\n",
       "      <th>zipcode</th>\n",
       "      <th>price</th>\n",
       "      <th>beds</th>\n",
       "      <th>baths</th>\n",
       "      <th>sqft</th>\n",
       "      <th>lot_size</th>\n",
       "      <th>days_on_market</th>\n",
       "      <th>price_per_sqft</th>\n",
       "      <th>hoa_month</th>\n",
       "      <th>...</th>\n",
       "      <th>median_income</th>\n",
       "      <th>hotness_score</th>\n",
       "      <th>supply_score</th>\n",
       "      <th>demand_score</th>\n",
       "      <th>university_count</th>\n",
       "      <th>barts</th>\n",
       "      <th>malls</th>\n",
       "      <th>universities</th>\n",
       "      <th>bedBath</th>\n",
       "      <th>AvgRoomSize</th>\n",
       "    </tr>\n",
       "  </thead>\n",
       "  <tbody>\n",
       "    <tr>\n",
       "      <th>0</th>\n",
       "      <td>1</td>\n",
       "      <td>94568</td>\n",
       "      <td>905000</td>\n",
       "      <td>3</td>\n",
       "      <td>4</td>\n",
       "      <td>1994</td>\n",
       "      <td>0</td>\n",
       "      <td>80</td>\n",
       "      <td>454</td>\n",
       "      <td>388.0</td>\n",
       "      <td>...</td>\n",
       "      <td>119637</td>\n",
       "      <td>83.72</td>\n",
       "      <td>94.25</td>\n",
       "      <td>73.19</td>\n",
       "      <td>0</td>\n",
       "      <td>1</td>\n",
       "      <td>0</td>\n",
       "      <td>0</td>\n",
       "      <td>12</td>\n",
       "      <td>284.857</td>\n",
       "    </tr>\n",
       "    <tr>\n",
       "      <th>1</th>\n",
       "      <td>2</td>\n",
       "      <td>94566</td>\n",
       "      <td>645000</td>\n",
       "      <td>2</td>\n",
       "      <td>2</td>\n",
       "      <td>1221</td>\n",
       "      <td>1237</td>\n",
       "      <td>143</td>\n",
       "      <td>528</td>\n",
       "      <td>379.0</td>\n",
       "      <td>...</td>\n",
       "      <td>126782</td>\n",
       "      <td>80.07</td>\n",
       "      <td>79.57</td>\n",
       "      <td>80.57</td>\n",
       "      <td>0</td>\n",
       "      <td>0</td>\n",
       "      <td>1</td>\n",
       "      <td>0</td>\n",
       "      <td>4</td>\n",
       "      <td>305.250</td>\n",
       "    </tr>\n",
       "    <tr>\n",
       "      <th>2</th>\n",
       "      <td>1</td>\n",
       "      <td>94588</td>\n",
       "      <td>940000</td>\n",
       "      <td>4</td>\n",
       "      <td>2</td>\n",
       "      <td>1928</td>\n",
       "      <td>2660</td>\n",
       "      <td>148</td>\n",
       "      <td>488</td>\n",
       "      <td>470.0</td>\n",
       "      <td>...</td>\n",
       "      <td>134451</td>\n",
       "      <td>85.91</td>\n",
       "      <td>87.06</td>\n",
       "      <td>84.76</td>\n",
       "      <td>0</td>\n",
       "      <td>1</td>\n",
       "      <td>1</td>\n",
       "      <td>0</td>\n",
       "      <td>8</td>\n",
       "      <td>321.333</td>\n",
       "    </tr>\n",
       "    <tr>\n",
       "      <th>3</th>\n",
       "      <td>0</td>\n",
       "      <td>94588</td>\n",
       "      <td>1036000</td>\n",
       "      <td>3</td>\n",
       "      <td>2</td>\n",
       "      <td>1355</td>\n",
       "      <td>7708</td>\n",
       "      <td>66</td>\n",
       "      <td>765</td>\n",
       "      <td>33.0</td>\n",
       "      <td>...</td>\n",
       "      <td>134451</td>\n",
       "      <td>85.91</td>\n",
       "      <td>87.06</td>\n",
       "      <td>84.76</td>\n",
       "      <td>0</td>\n",
       "      <td>1</td>\n",
       "      <td>1</td>\n",
       "      <td>0</td>\n",
       "      <td>6</td>\n",
       "      <td>271.000</td>\n",
       "    </tr>\n",
       "    <tr>\n",
       "      <th>4</th>\n",
       "      <td>0</td>\n",
       "      <td>94568</td>\n",
       "      <td>1250000</td>\n",
       "      <td>4</td>\n",
       "      <td>4</td>\n",
       "      <td>3083</td>\n",
       "      <td>3058</td>\n",
       "      <td>143</td>\n",
       "      <td>405</td>\n",
       "      <td>232.0</td>\n",
       "      <td>...</td>\n",
       "      <td>119637</td>\n",
       "      <td>83.72</td>\n",
       "      <td>94.25</td>\n",
       "      <td>73.19</td>\n",
       "      <td>0</td>\n",
       "      <td>1</td>\n",
       "      <td>0</td>\n",
       "      <td>0</td>\n",
       "      <td>16</td>\n",
       "      <td>385.375</td>\n",
       "    </tr>\n",
       "  </tbody>\n",
       "</table>\n",
       "<p>5 rows × 23 columns</p>\n",
       "</div>"
      ],
      "text/plain": [
       "   property_type  zipcode    price  beds  baths  sqft  lot_size  \\\n",
       "0              1    94568   905000     3      4  1994         0   \n",
       "1              2    94566   645000     2      2  1221      1237   \n",
       "2              1    94588   940000     4      2  1928      2660   \n",
       "3              0    94588  1036000     3      2  1355      7708   \n",
       "4              0    94568  1250000     4      4  3083      3058   \n",
       "\n",
       "   days_on_market  price_per_sqft  hoa_month  ...  median_income  \\\n",
       "0              80             454      388.0  ...         119637   \n",
       "1             143             528      379.0  ...         126782   \n",
       "2             148             488      470.0  ...         134451   \n",
       "3              66             765       33.0  ...         134451   \n",
       "4             143             405      232.0  ...         119637   \n",
       "\n",
       "   hotness_score  supply_score  demand_score  university_count  barts  malls  \\\n",
       "0          83.72         94.25         73.19                 0      1      0   \n",
       "1          80.07         79.57         80.57                 0      0      1   \n",
       "2          85.91         87.06         84.76                 0      1      1   \n",
       "3          85.91         87.06         84.76                 0      1      1   \n",
       "4          83.72         94.25         73.19                 0      1      0   \n",
       "\n",
       "   universities  bedBath  AvgRoomSize  \n",
       "0             0       12      284.857  \n",
       "1             0        4      305.250  \n",
       "2             0        8      321.333  \n",
       "3             0        6      271.000  \n",
       "4             0       16      385.375  \n",
       "\n",
       "[5 rows x 23 columns]"
      ]
     },
     "execution_count": 10,
     "metadata": {},
     "output_type": "execute_result"
    }
   ],
   "source": [
    "#Let's check the df shape:\n",
    "df.head()"
   ]
  },
  {
   "cell_type": "code",
   "execution_count": 11,
   "metadata": {},
   "outputs": [
    {
     "data": {
      "text/plain": [
       "count       7484.00\n",
       "mean      887769.19\n",
       "std       387091.45\n",
       "min       165000.00\n",
       "25%       590000.00\n",
       "50%       808000.00\n",
       "75%      1150000.00\n",
       "max      1955000.00\n",
       "Name: price, dtype: float64"
      ]
     },
     "execution_count": 11,
     "metadata": {},
     "output_type": "execute_result"
    }
   ],
   "source": [
    "# Summary Statistics:\n",
    "df.describe()['price'].round(2)"
   ]
  },
  {
   "cell_type": "markdown",
   "metadata": {},
   "source": [
    "### 3.2 Final Visualization of our dependent Variable 'price'<a id='3.2_Final_Visualization_of_our_dependent_variable_price'></a>"
   ]
  },
  {
   "cell_type": "code",
   "execution_count": 12,
   "metadata": {},
   "outputs": [
    {
     "name": "stderr",
     "output_type": "stream",
     "text": [
      "C:\\Users\\aktha\\anaconda3\\lib\\site-packages\\ipykernel_launcher.py:8: UserWarning: FixedFormatter should only be used together with FixedLocator\n",
      "  \n"
     ]
    },
    {
     "data": {
      "image/png": "[encoded data removed]",
      "text/plain": [
       "<Figure size 1728x432 with 1 Axes>"
      ]
     },
     "metadata": {},
     "output_type": "display_data"
    }
   ],
   "source": [
    "# Making a histogram of the price variable and adding average house sale:\n",
    "f, ax = plt.subplots(figsize = (24,6))\n",
    "ax = sns.histplot(x=df['price'], kde=True)\n",
    "ax.axvline(df['price'].mean(), color='red', ls='-', alpha=0.35, lw=10)\n",
    "plt.annotate('Avg House Price = $887,769', xy=(900000, 420), xytext=(950000, 450), arrowprops={'color':'red'}, fontsize=15)\n",
    "ax.set_title('House Prices in North California', fontsize=15)\n",
    "xlabels = ['{:,.0f}'.format(x) + 'K' for x in ax.get_xticks()/1000]\n",
    "ax.set_xticklabels(xlabels)\n",
    "plt.grid(True)"
   ]
  },
  {
   "cell_type": "markdown",
   "metadata": {},
   "source": [
    "## 4. Features Selection: Define/Select Features<a id='4_Features_Selection:_Define/Select_Features'></a>\n"
   ]
  },
  {
   "cell_type": "code",
   "execution_count": 13,
   "metadata": {},
   "outputs": [
    {
     "data": {
      "text/plain": [
       "Index(['property_type', 'zipcode', 'price', 'beds', 'baths', 'sqft',\n",
       "       'lot_size', 'days_on_market', 'price_per_sqft', 'hoa_month',\n",
       "       'property_age', 'school_rating', 'school_count', 'median_income',\n",
       "       'hotness_score', 'supply_score', 'demand_score', 'university_count',\n",
       "       'barts', 'malls', 'universities', 'bedBath', 'AvgRoomSize'],\n",
       "      dtype='object')"
      ]
     },
     "execution_count": 13,
     "metadata": {},
     "output_type": "execute_result"
    }
   ],
   "source": [
    "# let's check our final df columns:\n",
    "df.columns"
   ]
  },
  {
   "cell_type": "code",
   "execution_count": 14,
   "metadata": {},
   "outputs": [],
   "source": [
    "# Let's define/select our features:\n",
    "features = ['property_type', 'zipcode', 'beds', 'baths', 'sqft','lot_size', \n",
    "            'days_on_market', 'price_per_sqft', 'hoa_month','property_age', \n",
    "            'school_rating', 'school_count', 'median_income','hotness_score', \n",
    "            'supply_score', 'demand_score', 'university_count','barts', 'malls', \n",
    "            'universities', 'bedBath', 'AvgRoomSize']\n",
    "\n",
    "# And, Now let's define X and y:\n",
    "X = df[features]\n",
    "y = df.price"
   ]
  },
  {
   "cell_type": "markdown",
   "metadata": {},
   "source": [
    "## 5. Train/Test Split<a id='5_Train/Test_Split'></a>\n",
    "\n",
    "Now, let's split our data (X) into training and testing splits, without letting a model learn anything about the test split.\n",
    "\n",
    "let's have 75/25 Train/Test split"
   ]
  },
  {
   "cell_type": "code",
   "execution_count": 15,
   "metadata": {},
   "outputs": [],
   "source": [
    "# Import train_test_split\n",
    "from sklearn.model_selection import train_test_split\n",
    "\n",
    "\n",
    "# Split into train and test sets:\n",
    "X_train, X_test, y_train, y_test = train_test_split(X,\n",
    "                                                    y,\n",
    "                                                    test_size=0.25,\n",
    "                                                    random_state=1981)"
   ]
  },
  {
   "cell_type": "markdown",
   "metadata": {},
   "source": [
    "## 6. Scaling and Transformation: Standardization<a id='6_Scaling_and_Transformation:_Standardization'></a>\n",
    "\n",
    "**Standardization** finds the mean of our data and centers the distribution around it, calculating the number of standard deviations away from the mean each point is. The number of standard deviations are then used as our new values. This centers the data around 0 but technically has no limit to the maximum and minimum values.\n",
    "\n"
   ]
  },
  {
   "cell_type": "code",
   "execution_count": 16,
   "metadata": {},
   "outputs": [],
   "source": [
    "# Import StandardScaler:\n",
    "from sklearn.preprocessing import StandardScaler\n",
    "\n",
    "# Instantiate StandardScaler:\n",
    "scaler = StandardScaler()\n",
    "\n",
    "# Fit & transform  scaler to the data:\n",
    "X_train = scaler.fit_transform(X_train.astype(np.float))\n",
    "X_test = scaler.transform(X_test.astype(np.float))\n"
   ]
  },
  {
   "cell_type": "markdown",
   "metadata": {},
   "source": [
    "## 7. Modeling: Gradient Boosting Regression<a id='7_Gradient_Boosting_Regression'></a>\n",
    "\n",
    "**Gradient Boosting** is an ensemble technique that takes an iterative approach to combining weak learners to create a strong learner by focusing on mistakes of prior iterations.\n",
    "\n",
    "**Trade-Offs of Gradient Boosting:**\n",
    "  * **Pros**:\n",
    "    * Extremely powerful on both classification and regression tasks.\n",
    "    * More accurate predictions compared to random forests.\n",
    "    * Accepts various types of inputs\n",
    "    * Outputs feature importance\n",
    "  * **Cons**:\n",
    "    * Longer to train (Cannot parallelize).\n",
    "    * May overfit if too many trees are used (n_estimators)\n",
    "    * More difficult to properly tune (Requires careful tuning of hyperparameters)\n",
    "    * Sensitive to outliers\n",
    "\n",
    "\n",
    "### 7.1 Fitting  Gradient Boosting Regression<a id='7.1_Fitting_Gradient_Boosting_Regression'></a>\n"
   ]
  },
  {
   "cell_type": "code",
   "execution_count": 17,
   "metadata": {},
   "outputs": [
    {
     "name": "stdout",
     "output_type": "stream",
     "text": [
      "R-Squared coefficient : 99.1028 %\n"
     ]
    }
   ],
   "source": [
    "# Import necessary modules\n",
    "from sklearn.ensemble import GradientBoostingRegressor\n",
    "\n",
    "# Create a GradientBoostingRegressor: gbr\n",
    "# Default: max_depth=3, n_estimators=100 and learning_rate=0.1\n",
    "gbr = GradientBoostingRegressor(random_state=1981) \n",
    "\n",
    "# Fit the regressor to the training data\n",
    "gbr.fit(X_train, y_train)\n",
    "\n",
    "# Evaluate the model: R-Squared coefficient\n",
    "print(\"R-Squared coefficient : {:.4f}\".format(gbr.score(X_test, y_test) * 100), '%')"
   ]
  },
  {
   "cell_type": "markdown",
   "metadata": {},
   "source": [
    "Base Gradient Boosting Regression R-Squared coefficient is 99.1028% which is clearly lower than Random Forests Regression 99.6786 %."
   ]
  },
  {
   "cell_type": "code",
   "execution_count": 18,
   "metadata": {},
   "outputs": [],
   "source": [
    "# Predict on the test data: y_pred_gbr\n",
    "y_pred_gbr = gbr.predict(X_test)"
   ]
  },
  {
   "cell_type": "markdown",
   "metadata": {},
   "source": [
    "### 7.2 Gradient Boosting Regression: Residuals Visualization<a id='7.2_Gradient_Boosting_Regression:_Residuals_Visualization'></a>"
   ]
  },
  {
   "cell_type": "code",
   "execution_count": 19,
   "metadata": {},
   "outputs": [
    {
     "name": "stderr",
     "output_type": "stream",
     "text": [
      "C:\\Users\\aktha\\anaconda3\\lib\\site-packages\\seaborn\\distributions.py:2551: FutureWarning: `distplot` is a deprecated function and will be removed in a future version. Please adapt your code to use either `displot` (a figure-level function with similar flexibility) or `histplot` (an axes-level function for histograms).\n",
      "  warnings.warn(msg, FutureWarning)\n"
     ]
    },
    {
     "data": {
      "text/plain": [
       "<AxesSubplot:xlabel='price', ylabel='Density'>"
      ]
     },
     "execution_count": 19,
     "metadata": {},
     "output_type": "execute_result"
    },
    {
     "data": {
      "image/png": "[encoded data removed]",
      "text/plain": [
       "<Figure size 720x360 with 1 Axes>"
      ]
     },
     "metadata": {},
     "output_type": "display_data"
    }
   ],
   "source": [
    "# visualizing residuals\n",
    "fig = plt.figure(figsize=(10, 5))\n",
    "residuals = (y_test-y_pred_gbr)\n",
    "sns.distplot(residuals)"
   ]
  },
  {
   "cell_type": "markdown",
   "metadata": {},
   "source": [
    "As we can see above by visualizing the residual we can see that is normally distributed which is a good indication that we're having a linear relationship with our dependent variable 'price'."
   ]
  },
  {
   "cell_type": "markdown",
   "metadata": {},
   "source": [
    "### 7.3 Gradient Boosting Regression Model Evaluation<a id='7.3_Gradient_Boosting_Regression_Model_Evaluation'></a>"
   ]
  },
  {
   "cell_type": "code",
   "execution_count": 20,
   "metadata": {},
   "outputs": [
    {
     "name": "stdout",
     "output_type": "stream",
     "text": [
      "********Gradient Boosting Regression Model Evaluation********\n",
      "-------------------------------------------------\n",
      "Gradient Boosting Regression - r2 Score: 99.1028 %\n",
      "-------------------------------------------------\n",
      "Gradient Boosting Regression - MAE: 25714.0701\n",
      "-------------------------------------------------\n",
      "Gradient Boosting Regression - MSE:1325687350.4870\n",
      "-------------------------------------------------\n",
      "Gradient Boosting Regression - RMSE:36409.9897\n",
      "-------------------------------------------------\n",
      "Gradient Boosting Regression - Variance Score:99.1037 %\n",
      "-------------------------------------------------\n"
     ]
    }
   ],
   "source": [
    "from sklearn import metrics\n",
    "\n",
    "print(\"********Gradient Boosting Regression Model Evaluation********\")\n",
    "print(\"-------------------------------------------------\")\n",
    "print(\"Gradient Boosting Regression - r2 Score: {:.4f}\".format(metrics.r2_score(y_test, y_pred_gbr) * 100), '%')\n",
    "print(\"-------------------------------------------------\")\n",
    "print(\"Gradient Boosting Regression - MAE: {:.4f}\".format(metrics.mean_absolute_error(y_test, y_pred_gbr)))\n",
    "print(\"-------------------------------------------------\")\n",
    "print(\"Gradient Boosting Regression - MSE:{:.4f}\".format(metrics.mean_squared_error(y_test, y_pred_gbr)))\n",
    "print(\"-------------------------------------------------\")\n",
    "print(\"Gradient Boosting Regression - RMSE:{:.4f}\".format(np.sqrt(metrics.mean_squared_error(y_test, y_pred_gbr))))\n",
    "print(\"-------------------------------------------------\")\n",
    "print(\"Gradient Boosting Regression - Variance Score:{:.4f}\".format( metrics.explained_variance_score(y_test, y_pred_gbr) * 100), '%')\n",
    "print(\"-------------------------------------------------\")"
   ]
  },
  {
   "cell_type": "markdown",
   "metadata": {},
   "source": [
    "As we can see, the value of **root mean squared error (RMSE) is 36,409.9897**, which is slightly less than 5% of the mean value of the Sales Price i.e.  $887,769.19. also, we have very good variance score at 99.1037%. \n",
    "\n",
    "This mean that our base Gradient Boosting Regression Model is performing well behind Random Forests Regression Model.\n"
   ]
  },
  {
   "cell_type": "markdown",
   "metadata": {},
   "source": [
    "### 7.4 Features Selection<a id='7.4_Features_Selection'></a>\n",
    "\n",
    "As shown below let's try to improve predictions by keeping high importants features only: \n",
    "\n",
    "#### 7.4.1 Features Importance<a id='7.4.1_Features_Importance'></a> \n"
   ]
  },
  {
   "cell_type": "code",
   "execution_count": 21,
   "metadata": {},
   "outputs": [
    {
     "data": {
      "image/png": "[encoded data removed]",
      "text/plain": [
       "<Figure size 720x576 with 1 Axes>"
      ]
     },
     "metadata": {},
     "output_type": "display_data"
    }
   ],
   "source": [
    "# First, let's create a pd.Series of features importances\n",
    "importances_gbr = pd.Series(data=gbr.feature_importances_, index=X.columns)\n",
    "\n",
    "# Sort importances\n",
    "importances_sorted = importances_gbr.sort_values()\n",
    "\n",
    "# Draw a horizontal barplot of importances_sorted\n",
    "plt.figure(figsize=(10, 8))\n",
    "importances_sorted.plot(kind='barh', color='green')\n",
    "plt.title('Features Importances - Gradient Boosting Regression - Base Model')\n",
    "plt.grid(True)\n",
    "plt.show()"
   ]
  },
  {
   "cell_type": "markdown",
   "metadata": {},
   "source": [
    "**Dropping Features:**\n",
    " * As shown above, the high important features are only: 'price_per_sqft' and 'sqft' so as a first step let's keep them and drop the remaining features.\n",
    " * Second, let's keep  'price_per_sqft', 'sqft', 'median_income', 'property_type' and'school_rating'.\n",
    "\n",
    " \n",
    "#### 7.4.2 Keeping only 'price_per_sqft' and 'sqft'<a id='7.4.2_Keeping_only_price_per_sqft_and_sqft'></a> "
   ]
  },
  {
   "cell_type": "code",
   "execution_count": 22,
   "metadata": {},
   "outputs": [],
   "source": [
    "# So Now, Let's re define/select our features and keep only high Coefficients:\n",
    "# let's keep only  'sqft', 'price_per_sqft':\n",
    "features = ['sqft', 'price_per_sqft']\n",
    "\n",
    "# And, Now let's define X and y:\n",
    "X = df[features]\n",
    "y = df.price"
   ]
  },
  {
   "cell_type": "code",
   "execution_count": 23,
   "metadata": {},
   "outputs": [],
   "source": [
    "# Import train_test_split\n",
    "from sklearn.model_selection import train_test_split\n",
    "\n",
    "\n",
    "# Split into train and test sets:\n",
    "X_train, X_test, y_train, y_test = train_test_split(X,\n",
    "                                                    y,\n",
    "                                                    test_size=0.25,\n",
    "                                                    random_state=1981)"
   ]
  },
  {
   "cell_type": "code",
   "execution_count": 24,
   "metadata": {},
   "outputs": [],
   "source": [
    "# Import StandardScaler:\n",
    "from sklearn.preprocessing import StandardScaler\n",
    "\n",
    "# Instantiate StandardScaler:\n",
    "scaler = StandardScaler()\n",
    "\n",
    "# Fit & transform  scaler to the data:\n",
    "X_train = scaler.fit_transform(X_train.astype(np.float))\n",
    "X_test = scaler.transform(X_test.astype(np.float))"
   ]
  },
  {
   "cell_type": "code",
   "execution_count": 25,
   "metadata": {},
   "outputs": [
    {
     "name": "stdout",
     "output_type": "stream",
     "text": [
      "R-Squared coefficient : 99.2931 %\n"
     ]
    }
   ],
   "source": [
    "# Create a GradientBoostingRegressor: gbr_2\n",
    "# Default: max_depth=3, n_estimators=100 and learning_rate=0.1\n",
    "gbr_2 = GradientBoostingRegressor(random_state=1981) \n",
    "\n",
    "# Fit the regressor to the training data\n",
    "gbr_2.fit(X_train, y_train)\n",
    "\n",
    "# Evaluate the model: R-Squared coefficient\n",
    "print(\"R-Squared coefficient : {:.4f}\".format(gbr_2.score(X_test, y_test) * 100), '%')\n",
    "\n",
    "# Predict on the test data: y_pred_gbr_2\n",
    "y_pred_gbr_2 = gbr_2.predict(X_test)"
   ]
  },
  {
   "cell_type": "code",
   "execution_count": 26,
   "metadata": {},
   "outputs": [
    {
     "name": "stdout",
     "output_type": "stream",
     "text": [
      "********Tuned Gradient Boosting Regression Model Evaluation********\n",
      "-------------------------------------------------------\n",
      "Tuned Gradient Boosting Regression - r2 Score: 99.2931 %\n",
      "-------------------------------------------------------\n",
      "Tuned Gradient Boosting Regression - MAE: 21855.3031\n",
      "-------------------------------------------------------\n",
      "Tuned Gradient Boosting Regression - MSE:1044412302.2215\n",
      "-------------------------------------------------------\n",
      "Tuned Gradient Boosting Regression - RMSE:32317.3684\n",
      "-------------------------------------------------------\n",
      "Tuned Gradient Boosting Regression - Variance Score:99.2935 %\n",
      "-------------------------------------------------------\n"
     ]
    }
   ],
   "source": [
    "print(\"********Tuned Gradient Boosting Regression Model Evaluation********\")\n",
    "print(\"-------------------------------------------------------\")\n",
    "print(\"Tuned Gradient Boosting Regression - r2 Score: {:.4f}\".format(metrics.r2_score(y_test, y_pred_gbr_2) * 100), '%')\n",
    "print(\"-------------------------------------------------------\")\n",
    "print(\"Tuned Gradient Boosting Regression - MAE: {:.4f}\".format(metrics.mean_absolute_error(y_test, y_pred_gbr_2)))\n",
    "print(\"-------------------------------------------------------\")\n",
    "print(\"Tuned Gradient Boosting Regression - MSE:{:.4f}\".format(metrics.mean_squared_error(y_test, y_pred_gbr_2)))\n",
    "print(\"-------------------------------------------------------\")\n",
    "print(\"Tuned Gradient Boosting Regression - RMSE:{:.4f}\".format(np.sqrt(metrics.mean_squared_error(y_test, y_pred_gbr_2))))\n",
    "print(\"-------------------------------------------------------\")\n",
    "print(\"Tuned Gradient Boosting Regression - Variance Score:{:.4f}\".format( metrics.explained_variance_score(y_test, y_pred_gbr_2) * 100), '%')\n",
    "print(\"-------------------------------------------------------\")"
   ]
  },
  {
   "cell_type": "markdown",
   "metadata": {},
   "source": [
    "#### 7.4.3 Keeping 'price_per_sqft', 'sqft', 'median_income', 'property_type' and 'school_rating'<a id='7.4.3_Keeping_price_per_sqft_sqft_median_income_property_type_school_rating'></a> "
   ]
  },
  {
   "cell_type": "code",
   "execution_count": 27,
   "metadata": {},
   "outputs": [
    {
     "data": {
      "text/plain": [
       "Index(['property_type', 'zipcode', 'price', 'beds', 'baths', 'sqft',\n",
       "       'lot_size', 'days_on_market', 'price_per_sqft', 'hoa_month',\n",
       "       'property_age', 'school_rating', 'school_count', 'median_income',\n",
       "       'hotness_score', 'supply_score', 'demand_score', 'university_count',\n",
       "       'barts', 'malls', 'universities', 'bedBath', 'AvgRoomSize'],\n",
       "      dtype='object')"
      ]
     },
     "execution_count": 27,
     "metadata": {},
     "output_type": "execute_result"
    }
   ],
   "source": [
    "df.columns"
   ]
  },
  {
   "cell_type": "code",
   "execution_count": 28,
   "metadata": {},
   "outputs": [],
   "source": [
    "# So Now, Let's re define/select our features and keep only high Coefficients:\n",
    "# let's keep only  'price_per_sqft', 'sqft', 'median_income', 'property_type' and 'school_rating':\n",
    "features = ['sqft', 'price_per_sqft', 'property_type', \n",
    "            'school_rating', 'median_income']\n",
    "\n",
    "# And, Now let's define X and y:\n",
    "X = df[features]\n",
    "y = df.price"
   ]
  },
  {
   "cell_type": "code",
   "execution_count": 29,
   "metadata": {},
   "outputs": [],
   "source": [
    "# Import train_test_split\n",
    "from sklearn.model_selection import train_test_split\n",
    "\n",
    "\n",
    "# Split into train and test sets:\n",
    "X_train, X_test, y_train, y_test = train_test_split(X,\n",
    "                                                    y,\n",
    "                                                    test_size=0.25,\n",
    "                                                    random_state=1981)"
   ]
  },
  {
   "cell_type": "code",
   "execution_count": 30,
   "metadata": {},
   "outputs": [
    {
     "name": "stdout",
     "output_type": "stream",
     "text": [
      "R-Squared coefficient : 99.1533 %\n"
     ]
    }
   ],
   "source": [
    "# Create a GradientBoostingRegressor: gbr_5\n",
    "# Default: max_depth=3, n_estimators=100 and learning_rate=0.1\n",
    "gbr_5 = GradientBoostingRegressor(random_state=1981) \n",
    "\n",
    "# Fit the regressor to the training data\n",
    "gbr_5.fit(X_train, y_train)\n",
    "\n",
    "# Evaluate the model: R-Squared coefficient\n",
    "print(\"R-Squared coefficient : {:.4f}\".format(gbr_5.score(X_test, y_test) * 100), '%')\n",
    "\n",
    "# Predict on the test data: y_pred_gbr_5\n",
    "y_pred_gbr_5 = gbr_5.predict(X_test)"
   ]
  },
  {
   "cell_type": "code",
   "execution_count": 31,
   "metadata": {},
   "outputs": [
    {
     "name": "stdout",
     "output_type": "stream",
     "text": [
      "********Tuned_5 Gradient Boosting Regression Model Evaluation********\n",
      "-------------------------------------------------------\n",
      "Tuned_5 Gradient Boosting Regression - r2 Score: 99.1533 %\n",
      "-------------------------------------------------------\n",
      "Tuned_5 Gradient Boosting Regression - MAE: 25029.8448\n",
      "-------------------------------------------------------\n",
      "Tuned_5 Gradient Boosting Regression - MSE:1250998959.6480\n",
      "-------------------------------------------------------\n",
      "Tuned_5 Gradient Boosting Regression - RMSE:35369.4637\n",
      "-------------------------------------------------------\n",
      "Tuned_5 Gradient Boosting Regression - Variance Score:99.1542 %\n",
      "-------------------------------------------------------\n"
     ]
    }
   ],
   "source": [
    "print(\"********Tuned_5 Gradient Boosting Regression Model Evaluation********\")\n",
    "print(\"-------------------------------------------------------\")\n",
    "print(\"Tuned_5 Gradient Boosting Regression - r2 Score: {:.4f}\".format(metrics.r2_score(y_test, y_pred_gbr_5) * 100), '%')\n",
    "print(\"-------------------------------------------------------\")\n",
    "print(\"Tuned_5 Gradient Boosting Regression - MAE: {:.4f}\".format(metrics.mean_absolute_error(y_test, y_pred_gbr_5)))\n",
    "print(\"-------------------------------------------------------\")\n",
    "print(\"Tuned_5 Gradient Boosting Regression - MSE:{:.4f}\".format(metrics.mean_squared_error(y_test, y_pred_gbr_5)))\n",
    "print(\"-------------------------------------------------------\")\n",
    "print(\"Tuned_5 Gradient Boosting Regression - RMSE:{:.4f}\".format(np.sqrt(metrics.mean_squared_error(y_test, y_pred_gbr_5))))\n",
    "print(\"-------------------------------------------------------\")\n",
    "print(\"Tuned_5 Gradient Boosting Regression - Variance Score:{:.4f}\".format( metrics.explained_variance_score(y_test, y_pred_gbr_5) * 100), '%')\n",
    "print(\"-------------------------------------------------------\")"
   ]
  },
  {
   "cell_type": "markdown",
   "metadata": {},
   "source": [
    "#### 7.4.4 Features Selection Summary<a id='7.4.4_Features_Selection_Summary'></a>\n",
    "\n",
    "As we can see below, when we're keeping 2 features ('sqft', 'price_per_sqft'): we're seeing the best Result for Gradient Boosting Regression:\n",
    "\n",
    "|Features Selection| r2 Score|    MAE  | MSE  | RMSE|Variance Score|\n",
    "|:----------------------|:-------:|:-------:|:----:|:----:|:----:|\n",
    "|Baseline (all features)|99.1028 %|25714.0701|1325687350.4870|36409.9897|99.1037 %|\n",
    "|Keeping 2 features (Most Important)    |99.2931 %|21855.3031|1044412302.2215|32317.3684|99.2935 %|\n",
    "|Keeping 5 features    |99.1533 %|25029.8448|1250998959.6480|35369.4637|99.1542 %|"
   ]
  },
  {
   "cell_type": "markdown",
   "metadata": {},
   "source": [
    "### 7.5 Hyperparameters Tuning: GridSearchCV<a id='7.5_Hyperparameters_Tuning:_GridSearchCV'></a>\n",
    "\n",
    "#### 7.5.1 GridSearchCV for all features:<a id='7.5.1_GridSearchCV_for_all_features'></a>"
   ]
  },
  {
   "cell_type": "code",
   "execution_count": 32,
   "metadata": {},
   "outputs": [],
   "source": [
    "# Let's define/select our features:\n",
    "features = ['property_type', 'zipcode', 'beds', 'baths', 'sqft', 'lot_size', \n",
    "            'days_on_market', 'price_per_sqft', 'hoa_month', 'property_age', \n",
    "            'school_rating', 'school_count', 'median_income', 'hotness_score', \n",
    "            'supply_score', 'demand_score', 'university_count', 'barts', \n",
    "            'malls', 'universities', 'bedBath', 'AvgRoomSize']\n",
    "\n",
    "# And, Now let's define X and y:\n",
    "X = df[features]\n",
    "y = df.price\n",
    "\n",
    "# Import train_test_split\n",
    "from sklearn.model_selection import train_test_split\n",
    "\n",
    "\n",
    "# Split into train and test sets:\n",
    "X_train, X_test, y_train, y_test = train_test_split(X,\n",
    "                                                    y,\n",
    "                                                    test_size=0.25,\n",
    "                                                    random_state=1981)\n",
    "\n",
    "# Import StandardScaler:\n",
    "from sklearn.preprocessing import StandardScaler\n",
    "\n",
    "# Instantiate StandardScaler:\n",
    "scaler = StandardScaler()\n",
    "\n",
    "# Fit & transform  scaler to the data:\n",
    "X_train = scaler.fit_transform(X_train.astype(np.float))\n",
    "X_test = scaler.transform(X_test.astype(np.float))"
   ]
  },
  {
   "cell_type": "code",
   "execution_count": 33,
   "metadata": {},
   "outputs": [
    {
     "name": "stdout",
     "output_type": "stream",
     "text": [
      "['_SUPPORTED_LOSS', '__abstractmethods__', '__annotations__', '__class__', '__delattr__', '__dict__', '__dir__', '__doc__', '__eq__', '__format__', '__ge__', '__getattribute__', '__getitem__', '__getstate__', '__gt__', '__hash__', '__init__', '__init_subclass__', '__iter__', '__le__', '__len__', '__lt__', '__module__', '__ne__', '__new__', '__reduce__', '__reduce_ex__', '__repr__', '__setattr__', '__setstate__', '__sizeof__', '__str__', '__subclasshook__', '__weakref__', '_abc_impl', '_check_initialized', '_check_n_features', '_check_params', '_clear_state', '_compute_partial_dependence_recursion', '_estimator_type', '_fit_stage', '_fit_stages', '_get_param_names', '_get_tags', '_init_state', '_is_initialized', '_make_estimator', '_more_tags', '_raw_predict', '_raw_predict_init', '_repr_html_', '_repr_html_inner', '_repr_mimebundle_', '_required_parameters', '_resize_state', '_staged_raw_predict', '_validate_data', '_validate_estimator', '_validate_y', '_warn_mae_for_criterion', 'apply', 'feature_importances_', 'fit', 'get_params', 'n_classes_', 'predict', 'score', 'set_params', 'staged_predict']\n",
      "GradientBoostingRegressor()\n"
     ]
    }
   ],
   "source": [
    "print(dir(GradientBoostingRegressor))\n",
    "print(GradientBoostingRegressor())"
   ]
  },
  {
   "cell_type": "code",
   "execution_count": null,
   "metadata": {},
   "outputs": [],
   "source": [
    "# Import necessary modules\n",
    "from sklearn.model_selection import GridSearchCV\n",
    "\n",
    "n_est = [3000, 4000, 5000, 6000]\n",
    "max_depth = [3, 7, 11]\n",
    "#lr = [0.01, 0.1, 1] \n",
    "\n",
    "\n",
    "# Set the parameters by cross-validation\n",
    "#params = [{'n_estimators': n_est,'max_depth': max_depth,'learning_rate': lr }]\n",
    "\n",
    "params = [{'n_estimators': n_est,\n",
    "          'max_depth': max_depth}]\n",
    "\n",
    "# Create a GradientBoostingRegressor: gbr_search_1\n",
    "gbr_search_1 = GradientBoostingRegressor(random_state=1981) \n",
    "\n",
    "#cross validation\n",
    "folds = 5\n",
    "\n",
    "# Setup the GridSearchCV object: gbr_cv_all\n",
    "gbr_cv_all = GridSearchCV(estimator = gbr_search_1, \n",
    "                          param_grid = params, \n",
    "                          scoring= 'r2', \n",
    "                          cv = folds, n_jobs=-1,\n",
    "                          return_train_score=True,\n",
    "                          verbose = 1)   \n",
    "\n",
    "# Fit it to the training data\n",
    "gbr_cv_all.fit(X_train, y_train)\n",
    "\n"
   ]
  },
  {
   "cell_type": "code",
   "execution_count": null,
   "metadata": {},
   "outputs": [],
   "source": [
    "#checking the value of optimum number of parameters\n",
    "print(\"Tuned Gradient Boosting Regression Parameters: {}\".format(gbr_cv_all.best_params_))\n",
    "print(\"Tuned Gradient Boosting - Best r2 Score is {:.4f}\".format(gbr_cv_all.best_score_ * 100), \"%\")"
   ]
  },
  {
   "cell_type": "code",
   "execution_count": null,
   "metadata": {},
   "outputs": [],
   "source": [
    "cv_results = pd.DataFrame(gbr_cv_all.cv_results_)\n",
    "cv_results"
   ]
  },
  {
   "cell_type": "code",
   "execution_count": null,
   "metadata": {},
   "outputs": [],
   "source": [
    "# plotting mean test and train scores with max_depth: \n",
    "cv_results['param_max_depth'] = cv_results['param_max_depth'].astype('int32')\n",
    "plt.figure(figsize=(16,5))\n",
    "\n",
    "# plotting r2 score vs n_estimators:\n",
    "plt.plot(cv_results['param_max_depth'], cv_results['mean_train_score'])\n",
    "plt.plot(cv_results['param_max_depth'], cv_results['mean_test_score'])\n",
    "plt.axvline(7, color='black', ls='--', lw=2, label='max_depth=7')\n",
    "plt.xlabel('max_depth')\n",
    "plt.ylabel('r2 Score')\n",
    "plt.title(\"r2 Score and max_depth\")\n",
    "plt.legend(['train score', 'test score', 'max_depth=10'], loc='upper right')\n",
    "plt.show()"
   ]
  },
  {
   "cell_type": "markdown",
   "metadata": {},
   "source": [
    "#### 7.5.2 Fitting Gradient Boosting Regression after GridsearchCV (All features)<a id='7.5.2_Fitting_Gradient_Boosting_Regression_after_GridsearchCV_(All_features)'></a>"
   ]
  },
  {
   "cell_type": "code",
   "execution_count": 35,
   "metadata": {},
   "outputs": [
    {
     "name": "stdout",
     "output_type": "stream",
     "text": [
      "R-Squared coefficient Tuned_final : 99.6985 %\n"
     ]
    }
   ],
   "source": [
    "# Create a GradientBoostingRegressor: gbr_tuned_cv_1\n",
    "\n",
    "#(Best GridsearchCV)\n",
    "max_depth = 7 \n",
    "n_estimators = 3000\n",
    "learning_rate = 0.01\n",
    "\n",
    "gbr_tuned_cv_1 = GradientBoostingRegressor(max_depth = max_depth,\n",
    "                                           n_estimators = n_estimators,\n",
    "                                           learning_rate = learning_rate,\n",
    "                                           random_state=1981)\n",
    "\n",
    "# Fit the regressor to the training data\n",
    "gbr_tuned_cv_1.fit(X_train, y_train)\n",
    "\n",
    "# Evaluate the model: R-Squared coefficient\n",
    "print(\"R-Squared coefficient Tuned_final : {:.4f}\".format(gbr_tuned_cv_1.score(X_test, y_test) * 100), '%')\n",
    "\n",
    "\n",
    "# Predict on the test data: y_pred_gbr_cv_1\n",
    "y_pred_gbr_cv_1 = gbr_tuned_cv_1.predict(X_test)\n"
   ]
  },
  {
   "cell_type": "code",
   "execution_count": 36,
   "metadata": {},
   "outputs": [
    {
     "name": "stdout",
     "output_type": "stream",
     "text": [
      "********Tuned Gradient Boosting Regression Model Evaluation********\n",
      "-------------------------------------------------------------\n",
      "Tuned Gradient Boosting Regression - r2 Score: 99.6985 %\n",
      "-------------------------------------------------------------\n",
      "Tuned Gradient Boosting Regression - MAE: 9475.0267\n",
      "-------------------------------------------------------------\n",
      "Tuned Gradient Boosting Regression - MSE:445480220.4043\n",
      "-------------------------------------------------------------\n",
      "Tuned Gradient Boosting Regression - RMSE:21106.4024\n",
      "-------------------------------------------------------------\n",
      "Tuned Gradient Boosting Regression - Variance Score:99.6986 %\n",
      "-------------------------------------------------------------\n"
     ]
    }
   ],
   "source": [
    "print(\"********Tuned Gradient Boosting Regression Model Evaluation********\")\n",
    "print(\"-------------------------------------------------------------\")\n",
    "print(\"Tuned Gradient Boosting Regression - r2 Score: {:.4f}\".format(metrics.r2_score(y_test, y_pred_gbr_cv_1) * 100), '%')\n",
    "print(\"-------------------------------------------------------------\")\n",
    "print(\"Tuned Gradient Boosting Regression - MAE: {:.4f}\".format(metrics.mean_absolute_error(y_test, y_pred_gbr_cv_1)))\n",
    "print(\"-------------------------------------------------------------\")\n",
    "print(\"Tuned Gradient Boosting Regression - MSE:{:.4f}\".format(metrics.mean_squared_error(y_test, y_pred_gbr_cv_1)))\n",
    "print(\"-------------------------------------------------------------\")\n",
    "print(\"Tuned Gradient Boosting Regression - RMSE:{:.4f}\".format(np.sqrt(metrics.mean_squared_error(y_test, y_pred_gbr_cv_1))))\n",
    "print(\"-------------------------------------------------------------\")\n",
    "print(\"Tuned Gradient Boosting Regression - Variance Score:{:.4f}\".format( metrics.explained_variance_score(y_test, y_pred_gbr_cv_1) * 100), '%')\n",
    "print(\"-------------------------------------------------------------\")"
   ]
  },
  {
   "cell_type": "markdown",
   "metadata": {},
   "source": [
    "#### 7.5.3 GridSearchCV for most important features: 'sqft' and 'price_per_sqft'<a id='7.5.3_GridSearchCV_for_most_important_features:_sqft_and_price_per_sqft'></a> "
   ]
  },
  {
   "cell_type": "code",
   "execution_count": 37,
   "metadata": {},
   "outputs": [],
   "source": [
    "# Let's define/select our features:\n",
    "features = ['sqft',  'price_per_sqft']\n",
    "\n",
    "# And, Now let's define X and y:\n",
    "X = df[features]\n",
    "y = df.price\n",
    "\n",
    "# Import train_test_split\n",
    "from sklearn.model_selection import train_test_split\n",
    "\n",
    "\n",
    "# Split into train and test sets:\n",
    "X_train, X_test, y_train, y_test = train_test_split(X,\n",
    "                                                    y,\n",
    "                                                    test_size=0.25,\n",
    "                                                    random_state=1981)\n",
    "\n",
    "# Import StandardScaler:\n",
    "from sklearn.preprocessing import StandardScaler\n",
    "\n",
    "# Instantiate StandardScaler:\n",
    "scaler = StandardScaler()\n",
    "\n",
    "# Fit & transform  scaler to the data:\n",
    "X_train = scaler.fit_transform(X_train.astype(np.float))\n",
    "X_test = scaler.transform(X_test.astype(np.float))"
   ]
  },
  {
   "cell_type": "code",
   "execution_count": null,
   "metadata": {},
   "outputs": [],
   "source": [
    "n_est = [3000, 4000, 5000, 6000]\n",
    "max_depth = [3, 7, 11]\n",
    "lr = [0.01, 0.1, 1]\n",
    "\n",
    "\n",
    "# Set the parameters by cross-validation\n",
    "params = [{'n_estimators': n_est,\n",
    "          'max_depth': max_depth,\n",
    "          'learning_rate': lr }]\n",
    "\n",
    "# Create a GradientBoostingRegressor: gbr_search_2\n",
    "gbr_search_2 = GradientBoostingRegressor(random_state=1981) \n",
    "\n",
    "#cross validation\n",
    "folds = 5\n",
    "\n",
    "# Setup the GridSearchCV object: gbr_cv_all\n",
    "gbr_cv_2 = GridSearchCV(estimator = gbr_search_2, \n",
    "                          param_grid = params, \n",
    "                          scoring= 'r2', \n",
    "                          cv = folds, n_jobs=-1,\n",
    "                          return_train_score=True,\n",
    "                          verbose = 1)   \n",
    "\n",
    "# Fit it to the training data\n",
    "gbr_cv_2.fit(X_train, y_train)\n"
   ]
  },
  {
   "cell_type": "code",
   "execution_count": null,
   "metadata": {},
   "outputs": [],
   "source": [
    "#checking the value of optimum number of parameters\n",
    "print(\"Tuned Random Forests Regression Parameters: {}\".format(gbr_cv_2.best_params_))\n",
    "print(\"Tuned Random Forests - Best r2 score is {:.4f}\".format(gbr_cv_2.best_score_ * 100), \"%\")"
   ]
  },
  {
   "cell_type": "code",
   "execution_count": null,
   "metadata": {},
   "outputs": [],
   "source": [
    "cv_results = pd.DataFrame(gbr_cv_2.cv_results_)\n",
    "cv_results"
   ]
  },
  {
   "cell_type": "code",
   "execution_count": null,
   "metadata": {},
   "outputs": [],
   "source": [
    "# plotting mean test and train scores with alpha \n",
    "cv_results['param_max_depth'] = cv_results['param_max_depth'].astype('int32')\n",
    "plt.figure(figsize=(16,5))\n",
    "\n",
    "# plotting r2 score vs max_depth:\n",
    "plt.plot(cv_results['param_max_depth'], cv_results['mean_train_score'])\n",
    "plt.plot(cv_results['param_max_depth'], cv_results['mean_test_score'])\n",
    "plt.axvline(24, color='black', ls='--', lw=2, label='max_depth=24')\n",
    "plt.xlabel('max_depth')\n",
    "plt.ylabel('r2 Score')\n",
    "plt.title(\"r2 Score and max_depth\")\n",
    "plt.legend(['train score', 'test score', 'max_depth=19'], loc='upper right')\n",
    "plt.show()"
   ]
  },
  {
   "cell_type": "markdown",
   "metadata": {},
   "source": [
    "#### 7.5.4 Fitting Gradient  Boosting Regression after GridsearchCV (most important features)<a id='7.5.4_Fitting_Gradient_Boosting_Regression_after_GridsearchCV_(most_important_features)'></a>"
   ]
  },
  {
   "cell_type": "code",
   "execution_count": 38,
   "metadata": {},
   "outputs": [
    {
     "name": "stdout",
     "output_type": "stream",
     "text": [
      "R-Squared coefficient Tuned_final : 99.8273 %\n"
     ]
    }
   ],
   "source": [
    "#(Best GridsearchCV)\n",
    "max_depth = 7 \n",
    "n_estimators = 3000\n",
    "learning_rate = 0.01\n",
    "\n",
    "# Create a GradientBoostingRegressor: gbr_tuned_cv_2\n",
    "gbr_tuned_cv_2 = GradientBoostingRegressor(max_depth = max_depth,\n",
    "                                           n_estimators = n_estimators,\n",
    "                                           learning_rate = learning_rate,\n",
    "                                           random_state=1981)\n",
    "\n",
    "# Fit the regressor to the training data\n",
    "gbr_tuned_cv_2.fit(X_train, y_train)\n",
    "\n",
    "# Evaluate the model: R-Squared coefficient\n",
    "print(\"R-Squared coefficient Tuned_final : {:.4f}\".format(gbr_tuned_cv_2.score(X_test, y_test) * 100), '%')\n",
    "\n",
    "\n",
    "# Predict on the test data: y_pred_gbr_cv_2\n",
    "y_pred_gbr_cv_2 = gbr_tuned_cv_2.predict(X_test)"
   ]
  },
  {
   "cell_type": "code",
   "execution_count": 39,
   "metadata": {},
   "outputs": [
    {
     "name": "stdout",
     "output_type": "stream",
     "text": [
      "********Tuned Gradient Boosting Regression Model Evaluation********\n",
      "-------------------------------------------------------------\n",
      "Tuned Gradient Boosting Regression - r2 Score: 99.8273 %\n",
      "-------------------------------------------------------------\n",
      "Tuned Gradient Boosting Regression - MAE: 7285.8908\n",
      "-------------------------------------------------------------\n",
      "Tuned Gradient Boosting Regression - MSE:255101795.8908\n",
      "-------------------------------------------------------------\n",
      "Tuned Gradient Boosting Regression - RMSE:15971.9065\n",
      "-------------------------------------------------------------\n",
      "Tuned Gradient Boosting Regression - Variance Score:99.8275 %\n",
      "-------------------------------------------------------------\n"
     ]
    }
   ],
   "source": [
    "print(\"********Tuned Gradient Boosting Regression Model Evaluation********\")\n",
    "print(\"-------------------------------------------------------------\")\n",
    "print(\"Tuned Gradient Boosting Regression - r2 Score: {:.4f}\".format(metrics.r2_score(y_test, y_pred_gbr_cv_2) * 100), '%')\n",
    "print(\"-------------------------------------------------------------\")\n",
    "print(\"Tuned Gradient Boosting Regression - MAE: {:.4f}\".format(metrics.mean_absolute_error(y_test, y_pred_gbr_cv_2)))\n",
    "print(\"-------------------------------------------------------------\")\n",
    "print(\"Tuned Gradient Boosting Regression - MSE:{:.4f}\".format(metrics.mean_squared_error(y_test, y_pred_gbr_cv_2)))\n",
    "print(\"-------------------------------------------------------------\")\n",
    "print(\"Tuned Gradient Boosting Regression - RMSE:{:.4f}\".format(np.sqrt(metrics.mean_squared_error(y_test, y_pred_gbr_cv_2))))\n",
    "print(\"-------------------------------------------------------------\")\n",
    "print(\"Tuned Gradient Boosting Regression - Variance Score:{:.4f}\".format( metrics.explained_variance_score(y_test, y_pred_gbr_cv_2) * 100), '%')\n",
    "print(\"-------------------------------------------------------------\")"
   ]
  },
  {
   "cell_type": "markdown",
   "metadata": {},
   "source": [
    "#### 7.5.5 GridSearchCV for most important features: 'sqft', 'price_per_sqft', 'property_type', 'school_rating' and 'median_income'<a id='7.5.5_GridSearchCV_for_most_important_features:_sqft_and_price_per_sqft_property_type_school_rating_median_income'></a> "
   ]
  },
  {
   "cell_type": "code",
   "execution_count": 40,
   "metadata": {},
   "outputs": [],
   "source": [
    "# let's keep only  'price_per_sqft', 'sqft', 'median_income', 'property_type' and 'school_rating':\n",
    "features = ['sqft', 'price_per_sqft', 'property_type', \n",
    "            'school_rating', 'median_income']\n",
    "\n",
    "# And, Now let's define X and y:\n",
    "X = df[features]\n",
    "y = df.price\n",
    "\n",
    "# Import train_test_split\n",
    "from sklearn.model_selection import train_test_split\n",
    "\n",
    "\n",
    "# Split into train and test sets:\n",
    "X_train, X_test, y_train, y_test = train_test_split(X,\n",
    "                                                    y,\n",
    "                                                    test_size=0.25,\n",
    "                                                    random_state=1981)\n",
    "\n",
    "# Import StandardScaler:\n",
    "from sklearn.preprocessing import StandardScaler\n",
    "\n",
    "# Instantiate StandardScaler:\n",
    "scaler = StandardScaler()\n",
    "\n",
    "# Fit & transform  scaler to the data:\n",
    "X_train = scaler.fit_transform(X_train.astype(np.float))\n",
    "X_test = scaler.transform(X_test.astype(np.float))"
   ]
  },
  {
   "cell_type": "code",
   "execution_count": null,
   "metadata": {},
   "outputs": [],
   "source": [
    "n_est = [3000, 4000, 5000, 6000]\n",
    "max_depth = [3, 7, 11]\n",
    "lr = [0.01, 0.1, 1]\n",
    "\n",
    "\n",
    "# Set the parameters by cross-validation\n",
    "params = [{'n_estimators': n_est,\n",
    "          'max_depth': max_depth,\n",
    "          'learning_rate': lr }]\n",
    "\n",
    "# Create a GradientBoostingRegressor: gbr_search_2\n",
    "gbr_search_5 = GradientBoostingRegressor(random_state=1981) \n",
    "\n",
    "#cross validation\n",
    "folds = 5\n",
    "\n",
    "# Setup the GridSearchCV object: gbr_cv_all\n",
    "gbr_cv_5 = GridSearchCV(estimator = gbr_search_5, \n",
    "                          param_grid = params, \n",
    "                          scoring= 'r2', \n",
    "                          cv = folds, n_jobs=-1,\n",
    "                          return_train_score=True,\n",
    "                          verbose = 1)   \n",
    "\n",
    "# Fit it to the training data\n",
    "gbr_cv_5.fit(X_train, y_train)"
   ]
  },
  {
   "cell_type": "code",
   "execution_count": null,
   "metadata": {},
   "outputs": [],
   "source": [
    "#checking the value of optimum number of parameters\n",
    "print(\"Tuned Random Forests Regression Parameters: {}\".format(gbr_cv_5.best_params_))\n",
    "print(\"Tuned Random Forests - Best r2 score is {:.4f}\".format(gbr_cv_5.best_score_ * 100), \"%\")"
   ]
  },
  {
   "cell_type": "code",
   "execution_count": null,
   "metadata": {},
   "outputs": [],
   "source": [
    "cv_results = pd.DataFrame(gbr_cv_5.cv_results_)\n",
    "cv_results"
   ]
  },
  {
   "cell_type": "code",
   "execution_count": null,
   "metadata": {},
   "outputs": [],
   "source": [
    "# plotting mean test and train scores with alpha \n",
    "cv_results['param_max_depth'] = cv_results['param_max_depth'].astype('int32')\n",
    "plt.figure(figsize=(16,5))\n",
    "\n",
    "# plotting r2 score vs max_depth:\n",
    "plt.plot(cv_results['param_max_depth'], cv_results['mean_train_score'])\n",
    "plt.plot(cv_results['param_max_depth'], cv_results['mean_test_score'])\n",
    "plt.axvline(24, color='black', ls='--', lw=2, label='max_depth=24')\n",
    "plt.xlabel('max_depth')\n",
    "plt.ylabel('r2 Score')\n",
    "plt.title(\"r2 Score and max_depth\")\n",
    "plt.legend(['train score', 'test score', 'max_depth=19'], loc='upper right')\n",
    "plt.show()"
   ]
  },
  {
   "cell_type": "markdown",
   "metadata": {},
   "source": [
    "#### 7.5.6 Fitting Gradient Boosting Regression after GridsearchCV (Top-5 Features)<a id='7.5.6_Fitting_Gradient_Boosting_Regression_after_GridsearchCV_(Top-5_Features)'></a>"
   ]
  },
  {
   "cell_type": "code",
   "execution_count": 41,
   "metadata": {},
   "outputs": [
    {
     "name": "stdout",
     "output_type": "stream",
     "text": [
      "R-Squared coefficient Tuned_final : 99.7914 %\n"
     ]
    }
   ],
   "source": [
    "#(Best GridsearchCV)\n",
    "max_depth = 7 \n",
    "n_estimators = 3000\n",
    "learning_rate = 0.01\n",
    "\n",
    "# Create a GradientBoostingRegressor: gbr_tuned_cv_5\n",
    "gbr_tuned_cv_5 = GradientBoostingRegressor(max_depth = max_depth,\n",
    "                                           n_estimators = n_estimators,\n",
    "                                           learning_rate = learning_rate,\n",
    "                                           random_state=1981)\n",
    "\n",
    "# Fit the regressor to the training data\n",
    "gbr_tuned_cv_5.fit(X_train, y_train)\n",
    "\n",
    "# Evaluate the model: R-Squared coefficient\n",
    "print(\"R-Squared coefficient Tuned_final : {:.4f}\".format(gbr_tuned_cv_5.score(X_test, y_test) * 100), '%')\n",
    "\n",
    "\n",
    "# Predict on the test data: y_pred_gbr_cv_5\n",
    "y_pred_gbr_cv_5 = gbr_tuned_cv_5.predict(X_test)"
   ]
  },
  {
   "cell_type": "code",
   "execution_count": 42,
   "metadata": {},
   "outputs": [
    {
     "name": "stdout",
     "output_type": "stream",
     "text": [
      "********Tuned Gradient Boosting Regression Model Evaluation********\n",
      "-------------------------------------------------------------\n",
      "Tuned Gradient Boosting Regression - r2 Score: 99.7914 %\n",
      "-------------------------------------------------------------\n",
      "Tuned Gradient Boosting Regression - MAE: 8156.1349\n",
      "-------------------------------------------------------------\n",
      "Tuned Gradient Boosting Regression - MSE:308274462.5284\n",
      "-------------------------------------------------------------\n",
      "Tuned Gradient Boosting Regression - RMSE:17557.7465\n",
      "-------------------------------------------------------------\n",
      "Tuned Gradient Boosting Regression - Variance Score:99.7914 %\n",
      "-------------------------------------------------------------\n"
     ]
    }
   ],
   "source": [
    "print(\"********Tuned Gradient Boosting Regression Model Evaluation********\")\n",
    "print(\"-------------------------------------------------------------\")\n",
    "print(\"Tuned Gradient Boosting Regression - r2 Score: {:.4f}\".format(metrics.r2_score(y_test, y_pred_gbr_cv_5) * 100), '%')\n",
    "print(\"-------------------------------------------------------------\")\n",
    "print(\"Tuned Gradient Boosting Regression - MAE: {:.4f}\".format(metrics.mean_absolute_error(y_test, y_pred_gbr_cv_5)))\n",
    "print(\"-------------------------------------------------------------\")\n",
    "print(\"Tuned Gradient Boosting Regression - MSE:{:.4f}\".format(metrics.mean_squared_error(y_test, y_pred_gbr_cv_5)))\n",
    "print(\"-------------------------------------------------------------\")\n",
    "print(\"Tuned Gradient Boosting Regression - RMSE:{:.4f}\".format(np.sqrt(metrics.mean_squared_error(y_test, y_pred_gbr_cv_5))))\n",
    "print(\"-------------------------------------------------------------\")\n",
    "print(\"Tuned Gradient Boosting Regression - Variance Score:{:.4f}\".format( metrics.explained_variance_score(y_test, y_pred_gbr_cv_5) * 100), '%')\n",
    "print(\"-------------------------------------------------------------\")"
   ]
  },
  {
   "cell_type": "markdown",
   "metadata": {},
   "source": [
    "## 8. Gradient Boosting Regression Tuning Summary<a id='8_Gradient_Boosting_Regression_Tuning_Summary'></a>\n",
    "\n",
    "As we can see below, We managed to improve our Gradient Boosting Regression Model by:\n",
    " * keeping only the most important features: 2 features ('sqft' and'price_per_sqft'), and\n",
    " * Hyperparameters Tuning using GridSearCV to determine best:\n",
    "   * max_depth=7 &  n_estimators=3000 & learning_rate=0.01 when considering all features.\n",
    "   * max_depth=7 &  n_estimators=3000 & learning_rate=0.01 when considering only the top-2 important features.\n",
    "   * max_depth=7 &  n_estimators=3000 & learning_rate=0.01 when considering only the top-5 important features  \n",
    " * Variance Score has improved from 99.1037 % (Gradient Boosting - baseline) to 99.8275 %\n",
    " \n",
    "|Model Tuning| r2 Score|    MAE  | MSE  | RMSE|Variance Score|\n",
    "|:----------------------|:-------:|:-------:|:----:|:----:|:----:|\n",
    "|Baseline (all features)|99.1028 %|25714.0701|1325687350.4870|36409.9897|99.1037 %|\n",
    "|Keeping 2 features (Most Important)    |99.2931 %|21855.3031|1044412302.2215|32317.3684|99.2935 %|\n",
    "|Keeping 5 features    |99.1533 %|25029.8448|1250998959.6480|35369.4637|99.1542 %|\n",
    "|Keeping All features + max_depth=7 &  n_estimators=3000 & learning_rate=0.01 (GridsearchCV)   |99.6985 %|9475.0267|445480220.4043|21106.4024|99.6986 %|\n",
    "|Keeping top-2 features + max_depth=7 &  n_estimators=3000 & learning_rate=0.01 (GridsearchCV) |99.8273 %|7285.8908|255101795.8908|15971.9065|99.8275 %|\n",
    "|Keeping top-5 features  + max_depth=7 &  n_estimators=3000 & learning_rate=0.01 (GridsearchCV)|99.7914 %|8156.1349|308274462.5284|17557.7465|99.7914 %|\n",
    "\n",
    "**Learning rate Summary**:\n",
    " * The lower the learning rate, the slower the model learns. \n",
    " * The advantage of slower learning rate is that the model becomes more robust and generalized (In statistical learning, models that learn slowly perform better).\n",
    " * Learning slowly comes at a cost. It takes more time to train the model which brings us to the other significant hyperparameter.\n",
    " \n",
    " \n",
    "**n_estimator Summary**:\n",
    " * n_estimator is the number of trees used in the model. \n",
    " * If the learning rate is low, we need more trees to train the model.\n",
    " * We need to be very careful at selecting the number of trees. It creates a high risk of overfitting to use too many trees.\n",
    " \n",
    "**Random Forests vs Gradient Boosting**: \n",
    " * One key difference between random forests and gradient boosting decision trees is the number of trees used in the model.\n",
    "   * Increasing the number of trees in random forests does not cause overfitting.\n",
    "   * The number of trees in gradient boosting decision trees is very critical in terms of overfitting. Adding too many trees will cause overfitting so it is important to stop adding trees at some point.\n",
    " "
   ]
  },
  {
   "cell_type": "markdown",
   "metadata": {},
   "source": [
    "## 9. Gradient Boosting Regression Actual vs Prediction Visualization<a id='9_Gradient_Boosting_Regression_Actual_vs_Prediction_Visualization'></a>"
   ]
  },
  {
   "cell_type": "code",
   "execution_count": 43,
   "metadata": {},
   "outputs": [
    {
     "data": {
      "text/plain": [
       "Text(0, 0.5, 'Prediction')"
      ]
     },
     "execution_count": 43,
     "metadata": {},
     "output_type": "execute_result"
    },
    {
     "data": {
      "image/png": "[encoded data removed]",
      "text/plain": [
       "<Figure size 1080x720 with 1 Axes>"
      ]
     },
     "metadata": {},
     "output_type": "display_data"
    }
   ],
   "source": [
    "# Let's plot the predictions against the actual result. Use scatter()\n",
    "plt.figure(figsize=(15,10))\n",
    "plt.scatter(y_test,y_pred_gbr, color='black', marker='D', s=40, alpha=0.3, label='Actual vs Prediction-Gradient Boosting: Baseline')\n",
    "plt.scatter(y_test,y_pred_gbr_cv_2, color='red', marker='o', s=20, alpha=0.3,label='Actual vs Prediction-Gradient Boosting: Final Tuned')\n",
    "plt.title('Gradient Boosting Regression model: predictions vs. the actual values')\n",
    "plt.plot([0,(np.max(y_test))],[0,(np.max(y_test))], 'blue', linewidth=30, alpha=0.2)\n",
    "plt.legend()\n",
    "plt.xlabel('Actual Result')\n",
    "plt.ylabel('Prediction')"
   ]
  },
  {
   "cell_type": "code",
   "execution_count": 44,
   "metadata": {},
   "outputs": [
    {
     "data": {
      "text/html": [
       "<div>\n",
       "<style scoped>\n",
       "    .dataframe tbody tr th:only-of-type {\n",
       "        vertical-align: middle;\n",
       "    }\n",
       "\n",
       "    .dataframe tbody tr th {\n",
       "        vertical-align: top;\n",
       "    }\n",
       "\n",
       "    .dataframe thead th {\n",
       "        text-align: right;\n",
       "    }\n",
       "</style>\n",
       "<table border=\"1\" class=\"dataframe\">\n",
       "  <thead>\n",
       "    <tr style=\"text-align: right;\">\n",
       "      <th></th>\n",
       "      <th>SalePrice_Actual</th>\n",
       "      <th>SalePrice_Predicted_baseline</th>\n",
       "      <th>SalePrice_Predicted_Tuned</th>\n",
       "    </tr>\n",
       "  </thead>\n",
       "  <tbody>\n",
       "    <tr>\n",
       "      <th>6219</th>\n",
       "      <td>1900000</td>\n",
       "      <td>1745026.199</td>\n",
       "      <td>1846860.669</td>\n",
       "    </tr>\n",
       "    <tr>\n",
       "      <th>696</th>\n",
       "      <td>1770000</td>\n",
       "      <td>1715486.894</td>\n",
       "      <td>1769772.362</td>\n",
       "    </tr>\n",
       "    <tr>\n",
       "      <th>2560</th>\n",
       "      <td>1600000</td>\n",
       "      <td>1630200.335</td>\n",
       "      <td>1608102.512</td>\n",
       "    </tr>\n",
       "    <tr>\n",
       "      <th>3249</th>\n",
       "      <td>1525000</td>\n",
       "      <td>1504801.109</td>\n",
       "      <td>1542965.379</td>\n",
       "    </tr>\n",
       "    <tr>\n",
       "      <th>1223</th>\n",
       "      <td>1478000</td>\n",
       "      <td>1483150.219</td>\n",
       "      <td>1455220.564</td>\n",
       "    </tr>\n",
       "    <tr>\n",
       "      <th>6756</th>\n",
       "      <td>1438000</td>\n",
       "      <td>1495139.900</td>\n",
       "      <td>1457911.474</td>\n",
       "    </tr>\n",
       "    <tr>\n",
       "      <th>1904</th>\n",
       "      <td>1375000</td>\n",
       "      <td>1427839.098</td>\n",
       "      <td>1362463.731</td>\n",
       "    </tr>\n",
       "    <tr>\n",
       "      <th>7028</th>\n",
       "      <td>1300000</td>\n",
       "      <td>1370606.119</td>\n",
       "      <td>1291563.021</td>\n",
       "    </tr>\n",
       "    <tr>\n",
       "      <th>6904</th>\n",
       "      <td>1216000</td>\n",
       "      <td>1153269.506</td>\n",
       "      <td>1210143.510</td>\n",
       "    </tr>\n",
       "    <tr>\n",
       "      <th>3982</th>\n",
       "      <td>1080000</td>\n",
       "      <td>1050589.661</td>\n",
       "      <td>1083288.839</td>\n",
       "    </tr>\n",
       "    <tr>\n",
       "      <th>4337</th>\n",
       "      <td>876000</td>\n",
       "      <td>961465.431</td>\n",
       "      <td>854620.365</td>\n",
       "    </tr>\n",
       "    <tr>\n",
       "      <th>595</th>\n",
       "      <td>850000</td>\n",
       "      <td>917098.576</td>\n",
       "      <td>843414.628</td>\n",
       "    </tr>\n",
       "    <tr>\n",
       "      <th>4489</th>\n",
       "      <td>850000</td>\n",
       "      <td>762786.184</td>\n",
       "      <td>855494.505</td>\n",
       "    </tr>\n",
       "    <tr>\n",
       "      <th>7400</th>\n",
       "      <td>825000</td>\n",
       "      <td>791650.561</td>\n",
       "      <td>826798.459</td>\n",
       "    </tr>\n",
       "    <tr>\n",
       "      <th>3136</th>\n",
       "      <td>821000</td>\n",
       "      <td>786687.374</td>\n",
       "      <td>818937.882</td>\n",
       "    </tr>\n",
       "    <tr>\n",
       "      <th>5011</th>\n",
       "      <td>820000</td>\n",
       "      <td>783792.614</td>\n",
       "      <td>808355.907</td>\n",
       "    </tr>\n",
       "    <tr>\n",
       "      <th>535</th>\n",
       "      <td>750000</td>\n",
       "      <td>764467.124</td>\n",
       "      <td>755519.682</td>\n",
       "    </tr>\n",
       "    <tr>\n",
       "      <th>1851</th>\n",
       "      <td>745000</td>\n",
       "      <td>753879.891</td>\n",
       "      <td>750599.129</td>\n",
       "    </tr>\n",
       "    <tr>\n",
       "      <th>1044</th>\n",
       "      <td>725000</td>\n",
       "      <td>764522.975</td>\n",
       "      <td>733302.465</td>\n",
       "    </tr>\n",
       "    <tr>\n",
       "      <th>4969</th>\n",
       "      <td>705000</td>\n",
       "      <td>776681.287</td>\n",
       "      <td>712074.409</td>\n",
       "    </tr>\n",
       "    <tr>\n",
       "      <th>6493</th>\n",
       "      <td>692000</td>\n",
       "      <td>714819.250</td>\n",
       "      <td>692245.964</td>\n",
       "    </tr>\n",
       "    <tr>\n",
       "      <th>790</th>\n",
       "      <td>585000</td>\n",
       "      <td>585998.137</td>\n",
       "      <td>590467.983</td>\n",
       "    </tr>\n",
       "    <tr>\n",
       "      <th>7422</th>\n",
       "      <td>540000</td>\n",
       "      <td>572157.144</td>\n",
       "      <td>537752.581</td>\n",
       "    </tr>\n",
       "    <tr>\n",
       "      <th>5395</th>\n",
       "      <td>535000</td>\n",
       "      <td>531820.952</td>\n",
       "      <td>540886.897</td>\n",
       "    </tr>\n",
       "    <tr>\n",
       "      <th>4768</th>\n",
       "      <td>525000</td>\n",
       "      <td>548797.296</td>\n",
       "      <td>526522.571</td>\n",
       "    </tr>\n",
       "    <tr>\n",
       "      <th>4032</th>\n",
       "      <td>525000</td>\n",
       "      <td>537196.679</td>\n",
       "      <td>521805.235</td>\n",
       "    </tr>\n",
       "    <tr>\n",
       "      <th>5130</th>\n",
       "      <td>505000</td>\n",
       "      <td>528029.028</td>\n",
       "      <td>499372.810</td>\n",
       "    </tr>\n",
       "    <tr>\n",
       "      <th>5548</th>\n",
       "      <td>495000</td>\n",
       "      <td>514163.049</td>\n",
       "      <td>499103.213</td>\n",
       "    </tr>\n",
       "    <tr>\n",
       "      <th>5320</th>\n",
       "      <td>335000</td>\n",
       "      <td>344448.523</td>\n",
       "      <td>343360.258</td>\n",
       "    </tr>\n",
       "    <tr>\n",
       "      <th>4511</th>\n",
       "      <td>215000</td>\n",
       "      <td>201279.954</td>\n",
       "      <td>226078.706</td>\n",
       "    </tr>\n",
       "  </tbody>\n",
       "</table>\n",
       "</div>"
      ],
      "text/plain": [
       "      SalePrice_Actual  SalePrice_Predicted_baseline  \\\n",
       "6219           1900000                   1745026.199   \n",
       "696            1770000                   1715486.894   \n",
       "2560           1600000                   1630200.335   \n",
       "3249           1525000                   1504801.109   \n",
       "1223           1478000                   1483150.219   \n",
       "6756           1438000                   1495139.900   \n",
       "1904           1375000                   1427839.098   \n",
       "7028           1300000                   1370606.119   \n",
       "6904           1216000                   1153269.506   \n",
       "3982           1080000                   1050589.661   \n",
       "4337            876000                    961465.431   \n",
       "595             850000                    917098.576   \n",
       "4489            850000                    762786.184   \n",
       "7400            825000                    791650.561   \n",
       "3136            821000                    786687.374   \n",
       "5011            820000                    783792.614   \n",
       "535             750000                    764467.124   \n",
       "1851            745000                    753879.891   \n",
       "1044            725000                    764522.975   \n",
       "4969            705000                    776681.287   \n",
       "6493            692000                    714819.250   \n",
       "790             585000                    585998.137   \n",
       "7422            540000                    572157.144   \n",
       "5395            535000                    531820.952   \n",
       "4768            525000                    548797.296   \n",
       "4032            525000                    537196.679   \n",
       "5130            505000                    528029.028   \n",
       "5548            495000                    514163.049   \n",
       "5320            335000                    344448.523   \n",
       "4511            215000                    201279.954   \n",
       "\n",
       "      SalePrice_Predicted_Tuned  \n",
       "6219                1846860.669  \n",
       "696                 1769772.362  \n",
       "2560                1608102.512  \n",
       "3249                1542965.379  \n",
       "1223                1455220.564  \n",
       "6756                1457911.474  \n",
       "1904                1362463.731  \n",
       "7028                1291563.021  \n",
       "6904                1210143.510  \n",
       "3982                1083288.839  \n",
       "4337                 854620.365  \n",
       "595                  843414.628  \n",
       "4489                 855494.505  \n",
       "7400                 826798.459  \n",
       "3136                 818937.882  \n",
       "5011                 808355.907  \n",
       "535                  755519.682  \n",
       "1851                 750599.129  \n",
       "1044                 733302.465  \n",
       "4969                 712074.409  \n",
       "6493                 692245.964  \n",
       "790                  590467.983  \n",
       "7422                 537752.581  \n",
       "5395                 540886.897  \n",
       "4768                 526522.571  \n",
       "4032                 521805.235  \n",
       "5130                 499372.810  \n",
       "5548                 499103.213  \n",
       "5320                 343360.258  \n",
       "4511                 226078.706  "
      ]
     },
     "execution_count": 44,
     "metadata": {},
     "output_type": "execute_result"
    }
   ],
   "source": [
    "final_gbr = pd.DataFrame({'SalePrice_Actual': y_test, 'SalePrice_Predicted_baseline': y_pred_gbr.round(3), 'SalePrice_Predicted_Tuned': y_pred_gbr_cv_2.round(3)})\n",
    "final_gbr.head(30).sort_values(by='SalePrice_Actual', ascending=False)"
   ]
  },
  {
   "cell_type": "markdown",
   "metadata": {},
   "source": [
    "## 10. Models next step:<a id='10_Models_next_step'></a>\n",
    "\n",
    "Now, after building our 2nd Model: Decision Tree Regression, let's see if we can further improve our prediction using below algorithm:\n",
    "\n",
    " * XGBoost.\n",
    " "
   ]
  },
  {
   "cell_type": "markdown",
   "metadata": {},
   "source": [
    "## 11. Saving our Data<a id='9_Saving_our_data'></a>\n",
    "Finally, let's save our final DataFrame with the new features:\n"
   ]
  },
  {
   "cell_type": "code",
   "execution_count": null,
   "metadata": {},
   "outputs": [],
   "source": [
    "# Saving df_final_v1:\n",
    "df_final_v1.to_csv(path_or_buf = \"path\" + \"/pre_processing_df.csv\", index=False)"
   ]
  },
  {
   "cell_type": "code",
   "execution_count": 1,
   "metadata": {},
   "outputs": [
    {
     "data": {
      "text/html": [
       "<style>.container { width:75% !important; }</style>"
      ],
      "text/plain": [
       "<IPython.core.display.HTML object>"
      ]
     },
     "metadata": {},
     "output_type": "display_data"
    }
   ],
   "source": [
    "from IPython.core.display import display, HTML\n",
    "display(HTML(\"<style>.container { width:75% !important; }</style>\"))"
   ]
  },
  {
   "cell_type": "code",
   "execution_count": null,
   "metadata": {},
   "outputs": [],
   "source": []
  }
 ],
 "metadata": {
  "kernelspec": {
   "display_name": "Python 3",
   "language": "python",
   "name": "python3"
  },
  "language_info": {
   "codemirror_mode": {
    "name": "ipython",
    "version": 3
   },
   "file_extension": ".py",
   "mimetype": "text/x-python",
   "name": "python",
   "nbconvert_exporter": "python",
   "pygments_lexer": "ipython3",
   "version": "3.7.6"
  }
 },
 "nbformat": 4,
 "nbformat_minor": 4
}
